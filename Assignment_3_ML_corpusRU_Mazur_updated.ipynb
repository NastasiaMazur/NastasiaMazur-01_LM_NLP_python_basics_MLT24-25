{
  "cells": [
    {
      "cell_type": "markdown",
      "metadata": {
        "id": "view-in-github",
        "colab_type": "text"
      },
      "source": [
        "<a href=\"https://colab.research.google.com/github/NastasiaMazur/NastasiaMazur-01_LM_NLP_python_basics_MLT24-25/blob/main/Assignment_3_ML_corpusRU_Mazur_updated.ipynb\" target=\"_parent\"><img src=\"https://colab.research.google.com/assets/colab-badge.svg\" alt=\"Open In Colab\"/></a>"
      ]
    },
    {
      "cell_type": "markdown",
      "metadata": {
        "id": "JFR8eT8TdZv_"
      },
      "source": [
        "**RU corpus**\n",
        "\n",
        "Exercise - Your turn:\n",
        "Find another corpus to cluster its topic with LDA. Preferably the corpus should be in another language (maybe your own native language?). Your corpus can contain text only, without any categories. It can contain texts in any length: documents, books, comments or product reviews, tweets, etc.\n",
        "**Careful: You may need to change the Stemming and the Stopwords to support your corpus language. Make a web-search to find an appropriate ones.**\n",
        "\n",
        "The delivery should be a** notebook o**r code that parse the corpus into topics using LDA, preferably vectorized with** TF/IDF**. You can use the LDA code here as guideline.\n",
        "\n",
        "Try detecting which **num_of_topics** fits most for your corpus, by **changing the hyperparameters** to get a satisfying level of clustering.\n",
        "\n",
        "Please **SUMMARIZE** which **parameters** worked **best** for the corpus you chose."
      ]
    },
    {
      "cell_type": "markdown",
      "metadata": {
        "id": "JvT8ShhcdzlK"
      },
      "source": [
        "If it is, however a text file or a zip of text files, you will need another way to load them. Luckily, python is working well with both - text and zip files, with a built-in support.\n",
        "\n",
        "To access a file, we use its path in Path, like so:\n",
        "\n",
        "Path('Folder/filename.extension')\n",
        "\n",
        "Path has many methods for files and folder. Including looping over files in folder, checking if a file exists, etc.\n",
        "\n",
        "Read more about it here: https://docs.python.org/3/library/pathlib.html"
      ]
    },
    {
      "cell_type": "markdown",
      "metadata": {
        "id": "vcyAh1ZZebls"
      },
      "source": [
        "If the file is a .zip file, you can open it and read its data without actually extracting all the files from it.\n",
        "\n",
        "https://docs.python.org/3/library/gzip.html\n",
        "\n",
        "Also, requests is a great package of retrieving content from a URL."
      ]
    },
    {
      "cell_type": "code",
      "execution_count": 39,
      "metadata": {
        "colab": {
          "base_uri": "https://localhost:8080/"
        },
        "id": "edsTZdXDXbiy",
        "outputId": "b34c16a5-cce0-4260-b55e-36da655151b3"
      },
      "outputs": [
        {
          "output_type": "stream",
          "name": "stderr",
          "text": [
            "/usr/local/lib/python3.10/dist-packages/ipykernel/ipkernel.py:283: DeprecationWarning: `should_run_async` will not call `transform_cell` automatically in the future. Please pass the result to `transformed_cell` argument and any exception that happen during thetransform in `preprocessing_exc_tuple` in IPython 7.17 and above.\n",
            "  and should_run_async(code)\n",
            "[nltk_data] Downloading package punkt to /root/nltk_data...\n",
            "[nltk_data]   Package punkt is already up-to-date!\n",
            "[nltk_data] Downloading package stopwords to /root/nltk_data...\n",
            "[nltk_data]   Package stopwords is already up-to-date!\n",
            "[nltk_data] Downloading package averaged_perceptron_tagger to\n",
            "[nltk_data]     /root/nltk_data...\n",
            "[nltk_data]   Package averaged_perceptron_tagger is already up-to-\n",
            "[nltk_data]       date!\n",
            "[nltk_data] Downloading package universal_tagset to /root/nltk_data...\n",
            "[nltk_data]   Package universal_tagset is already up-to-date!\n"
          ]
        },
        {
          "output_type": "execute_result",
          "data": {
            "text/plain": [
              "True"
            ]
          },
          "metadata": {},
          "execution_count": 39
        }
      ],
      "source": [
        "import pandas as pd\n",
        "\n",
        "import nltk\n",
        "nltk.download('punkt')\n",
        "nltk.download('stopwords')\n",
        "nltk.download('averaged_perceptron_tagger')\n",
        "nltk.download('universal_tagset')"
      ]
    },
    {
      "cell_type": "code",
      "source": [
        "!pip install fastapi kaleido python-multipart uvicorn\n"
      ],
      "metadata": {
        "colab": {
          "base_uri": "https://localhost:8080/"
        },
        "id": "XaM9Rwv5jNov",
        "outputId": "76a79aef-75d4-45bb-e78b-51b93e1083d4"
      },
      "execution_count": 40,
      "outputs": [
        {
          "output_type": "stream",
          "name": "stderr",
          "text": [
            "/usr/local/lib/python3.10/dist-packages/ipykernel/ipkernel.py:283: DeprecationWarning: `should_run_async` will not call `transform_cell` automatically in the future. Please pass the result to `transformed_cell` argument and any exception that happen during thetransform in `preprocessing_exc_tuple` in IPython 7.17 and above.\n",
            "  and should_run_async(code)\n"
          ]
        },
        {
          "output_type": "stream",
          "name": "stdout",
          "text": [
            "Requirement already satisfied: fastapi in /usr/local/lib/python3.10/dist-packages (0.104.1)\n",
            "Requirement already satisfied: kaleido in /usr/local/lib/python3.10/dist-packages (0.2.1)\n",
            "Requirement already satisfied: python-multipart in /usr/local/lib/python3.10/dist-packages (0.0.6)\n",
            "Requirement already satisfied: uvicorn in /usr/local/lib/python3.10/dist-packages (0.24.0.post1)\n",
            "Requirement already satisfied: anyio<4.0.0,>=3.7.1 in /usr/local/lib/python3.10/dist-packages (from fastapi) (3.7.1)\n",
            "Requirement already satisfied: pydantic!=1.8,!=1.8.1,!=2.0.0,!=2.0.1,!=2.1.0,<3.0.0,>=1.7.4 in /usr/local/lib/python3.10/dist-packages (from fastapi) (1.10.13)\n",
            "Requirement already satisfied: starlette<0.28.0,>=0.27.0 in /usr/local/lib/python3.10/dist-packages (from fastapi) (0.27.0)\n",
            "Requirement already satisfied: typing-extensions>=4.8.0 in /usr/local/lib/python3.10/dist-packages (from fastapi) (4.8.0)\n",
            "Requirement already satisfied: click>=7.0 in /usr/local/lib/python3.10/dist-packages (from uvicorn) (8.1.7)\n",
            "Requirement already satisfied: h11>=0.8 in /usr/local/lib/python3.10/dist-packages (from uvicorn) (0.14.0)\n",
            "Requirement already satisfied: idna>=2.8 in /usr/local/lib/python3.10/dist-packages (from anyio<4.0.0,>=3.7.1->fastapi) (3.4)\n",
            "Requirement already satisfied: sniffio>=1.1 in /usr/local/lib/python3.10/dist-packages (from anyio<4.0.0,>=3.7.1->fastapi) (1.3.0)\n",
            "Requirement already satisfied: exceptiongroup in /usr/local/lib/python3.10/dist-packages (from anyio<4.0.0,>=3.7.1->fastapi) (1.1.3)\n"
          ]
        }
      ]
    },
    {
      "cell_type": "code",
      "source": [
        "!pip install --force-reinstall -v \"numpy==1.25.2\""
      ],
      "metadata": {
        "colab": {
          "base_uri": "https://localhost:8080/",
          "height": 516
        },
        "id": "EShDJAM_izLO",
        "outputId": "4388f906-0c3a-40e3-f55c-98b14d81e2ca"
      },
      "execution_count": 41,
      "outputs": [
        {
          "output_type": "stream",
          "name": "stderr",
          "text": [
            "/usr/local/lib/python3.10/dist-packages/ipykernel/ipkernel.py:283: DeprecationWarning: `should_run_async` will not call `transform_cell` automatically in the future. Please pass the result to `transformed_cell` argument and any exception that happen during thetransform in `preprocessing_exc_tuple` in IPython 7.17 and above.\n",
            "  and should_run_async(code)\n"
          ]
        },
        {
          "output_type": "stream",
          "name": "stdout",
          "text": [
            "Using pip 23.1.2 from /usr/local/lib/python3.10/dist-packages/pip (python 3.10)\n",
            "Collecting numpy==1.25.2\n",
            "  Using cached numpy-1.25.2-cp310-cp310-manylinux_2_17_x86_64.manylinux2014_x86_64.whl (18.2 MB)\n",
            "Installing collected packages: numpy\n",
            "  Attempting uninstall: numpy\n",
            "    Found existing installation: numpy 1.25.2\n",
            "    Uninstalling numpy-1.25.2:\n",
            "      Removing file or directory /usr/local/bin/f2py\n",
            "      Removing file or directory /usr/local/bin/f2py3\n",
            "      Removing file or directory /usr/local/bin/f2py3.10\n",
            "      Removing file or directory /usr/local/lib/python3.10/dist-packages/numpy-1.25.2.dist-info/\n",
            "      Removing file or directory /usr/local/lib/python3.10/dist-packages/numpy.libs/\n",
            "      Removing file or directory /usr/local/lib/python3.10/dist-packages/numpy/\n",
            "      Successfully uninstalled numpy-1.25.2\n",
            "  changing mode of /usr/local/bin/f2py to 755\n",
            "  changing mode of /usr/local/bin/f2py3 to 755\n",
            "  changing mode of /usr/local/bin/f2py3.10 to 755\n",
            "\u001b[31mERROR: pip's dependency resolver does not currently take into account all the packages that are installed. This behaviour is the source of the following dependency conflicts.\n",
            "tensorflow-probability 0.22.0 requires typing-extensions<4.6.0, but you have typing-extensions 4.8.0 which is incompatible.\u001b[0m\u001b[31m\n",
            "\u001b[0mSuccessfully installed numpy-1.25.2\n"
          ]
        },
        {
          "output_type": "display_data",
          "data": {
            "application/vnd.colab-display-data+json": {
              "pip_warning": {
                "packages": [
                  "numpy"
                ]
              }
            }
          },
          "metadata": {}
        }
      ]
    },
    {
      "cell_type": "code",
      "execution_count": 42,
      "metadata": {
        "id": "3R7GLbzHdf3p",
        "colab": {
          "base_uri": "https://localhost:8080/"
        },
        "outputId": "2c72875a-3512-46e9-904a-ae51fd73ff5c"
      },
      "outputs": [
        {
          "output_type": "stream",
          "name": "stderr",
          "text": [
            "/usr/local/lib/python3.10/dist-packages/ipykernel/ipkernel.py:283: DeprecationWarning: `should_run_async` will not call `transform_cell` automatically in the future. Please pass the result to `transformed_cell` argument and any exception that happen during thetransform in `preprocessing_exc_tuple` in IPython 7.17 and above.\n",
            "  and should_run_async(code)\n"
          ]
        }
      ],
      "source": [
        "import gzip"
      ]
    },
    {
      "cell_type": "code",
      "execution_count": 43,
      "metadata": {
        "colab": {
          "base_uri": "https://localhost:8080/"
        },
        "id": "IWrjXCgejfpT",
        "outputId": "cba22952-8ce1-4c84-d861-377da9a30fb6"
      },
      "outputs": [
        {
          "output_type": "stream",
          "name": "stderr",
          "text": [
            "/usr/local/lib/python3.10/dist-packages/ipykernel/ipkernel.py:283: DeprecationWarning: `should_run_async` will not call `transform_cell` automatically in the future. Please pass the result to `transformed_cell` argument and any exception that happen during thetransform in `preprocessing_exc_tuple` in IPython 7.17 and above.\n",
            "  and should_run_async(code)\n"
          ]
        },
        {
          "output_type": "stream",
          "name": "stdout",
          "text": [
            "Drive already mounted at /content/drive; to attempt to forcibly remount, call drive.mount(\"/content/drive\", force_remount=True).\n"
          ]
        }
      ],
      "source": [
        "from google.colab import drive\n",
        "drive.mount('/content/drive')"
      ]
    },
    {
      "cell_type": "code",
      "execution_count": null,
      "metadata": {
        "id": "Yf8hKuBwjvEG"
      },
      "outputs": [],
      "source": []
    },
    {
      "cell_type": "code",
      "execution_count": 44,
      "metadata": {
        "colab": {
          "base_uri": "https://localhost:8080/"
        },
        "id": "bViCa6fnezg7",
        "outputId": "1efd9077-255e-40dd-93b0-7e82a712a84e"
      },
      "outputs": [
        {
          "output_type": "stream",
          "name": "stdout",
          "text": [
            "['url,title,text,topic,tags']\n",
            "['https://lenta.ru/news/2018/12/14/cancer/,Названы', 'регионы', 'России', 'с', 'самой', 'высокой', 'смертностью', 'от', 'рака,\"Вице-премьер', 'по', 'социальным', 'вопросам', 'Татьяна', 'Голикова', 'рассказала,', 'в', 'каких', 'регионах', 'России', 'зафиксирована', 'наиболее', 'высокая', 'смертность', 'от', 'рака,', 'сообщает', 'РИА', 'Новости.', 'По', 'словам', 'Голиковой,', 'чаще', 'всего', 'онкологические', 'заболевания', 'становились', 'причиной', 'смерти', 'в', 'Псковской,', 'Тверской,', 'Тульской', 'и', 'Орловской', 'областях,', 'а', 'также', 'в', 'Севастополе.', 'Вице-премьер', 'напомнила,', 'что', 'главные', 'факторы', 'смертности', 'в', 'России', '—', 'рак', 'и', 'болезни', 'системы', 'кровообращения.', 'В', 'начале', 'года', 'стало', 'известно,', 'что', 'смертность', 'от', 'онкологических', 'заболеваний', 'среди', 'россиян', 'снизилась', 'впервые', 'за', 'три', 'года.', 'По', 'данным', 'Росстата,', 'в', '2017', 'году', 'от', 'рака', 'умерли', '289', 'тысяч', 'человек.', 'Это', 'на', '3,5', 'процента', 'меньше,', 'чем', 'годом', 'ранее.\",Россия,Общество']\n",
            "['https://lenta.ru/news/2018/12/15/doping/,Австрия', 'не', 'представила', 'доказательств', 'вины', 'российских', 'биатлонистов,\"Австрийские', 'правоохранительные', 'органы', 'не', 'представили', 'доказательств', 'нарушения', 'российскими', 'биатлонистами', 'антидопинговых', 'правил.', 'Об', 'этом', 'сообщил', 'посол', 'России', 'в', 'Вене', 'Дмитрий', 'Любинский', 'по', 'итогам', 'встречи', 'уполномоченного', 'адвоката', 'дипмиссии', 'с', 'представителями', 'прокуратуры', 'страны,', 'передает', 'ТАСС.', '«Действует', 'презумпция', 'невиновности.', 'Каких-либо', 'ограничений', 'свободы', 'передвижения', 'для', 'команды', 'нет»,', '—', 'добавили', 'в', 'посольстве.', 'Международный', 'союз', 'биатлонистов', '(IBU)', 'также', 'не', 'будет', 'применять', 'санкции', 'к', 'российским', 'биатлонистам.', 'Все', 'они', 'продолжат', 'выступление', 'на', 'Кубке', 'мира.', 'Полиция', 'нагрянула', 'в', 'отель', 'сборной', 'России', 'в', 'Хохфильцене', 'вечером', '12', 'декабря.', 'Как', 'написал', 'биатлонист', 'Александр', 'Логинов,', 'их', 'считают', 'виновными', 'в', 'махинациях', 'с', 'переливанием', 'крови.', 'Биатлонисту', 'Антону', 'Шипулину,', 'также', 'попавшему', 'в', 'список,', 'полиция', 'нанесла', 'отдельный', 'визит:', 'сейчас', 'он', 'тренируется', 'отдельно', 'в', 'австрийском', 'Обертиллахе.', 'Обвинения', 'спортсмен', 'назвал', 'бредом,', 'а', 'также', 'указал', 'на', '«охоту', 'на', 'ведьм»', 'в', 'мировом', 'биатлоне.', 'В', 'Австрии', 'прием', 'допинга', '—', 'уголовное', 'преступление.', 'Максимальное', 'наказание', 'за', 'его', 'употребление', '—', 'три', 'года', 'тюрьмы.\",Спорт,Зимние', 'виды']\n",
            "['https://lenta.ru/news/2018/12/15/disneyland/,Обнаружено', 'самое', 'счастливое', 'место', 'на', 'планете,\"Сотрудники', 'социальной', 'сети', 'Instagram', 'проанализировали', 'поставленные', 'пользователями', 'смайлики,', 'геолокации', 'и', 'хештеги', 'и', 'опубликовали', 'итоги', '2018', 'года.', 'Об', 'этом', 'сообщается', 'на', 'официальном', 'сайте', 'Instagram.', 'Таким', 'образом,', 'самой', 'счастливой', 'геолокацией', 'Instagram', 'признал', 'Диснейленд', 'в', 'Токио,', 'так', 'как', 'больше', 'всего', 'счастливых', 'смайликов', 'в', '2018', 'году', 'пользователи', 'ставили', 'именно', 'под', 'фотографиями', 'из', 'японского', 'Диснейленда.', 'Также', 'эксперты', 'назвали', 'самый', 'популярный', 'фильтр', 'для', 'лица:', 'им', 'стал', 'фильтр', 'с', 'сердечками', 'на', 'глазах.', 'А,', 'например,', 'самыми', 'часто', 'используемыми', 'хештегами', 'в', '2018', 'году', 'были', '#metoo,', '#timesup', 'и', '#marchforourlives.', 'В', 'ноябре', 'сотрудники', 'британской', 'ассоциации', 'потребителей', 'Which?', 'составили', 'рейтинг', 'самых', 'безопасных', 'стран', 'для', 'путешествий.', 'Специалисты', 'проанализировали', '20', 'самых', 'популярных', 'туристических', 'направлений', 'по', 'четырем', 'критериям:', 'уровень', 'преступности,', 'угроза', 'здоровью,', 'вероятность', 'теракта', 'и', 'стихийных', 'бедствий.', 'Самой', 'безопасной', 'страной', 'по', 'всем', 'параметрам', 'стала', 'Исландия.\",Путешествия,Мир']\n",
            "['https://lenta.ru/news/2018/12/15/usa25/,В', 'США', 'раскрыли', 'сумму', 'расходов', 'на', 'расследование', '«российского', 'дела»,\"С', 'начала', 'расследования', 'российского', 'вмешательства', 'в', 'выборы', 'власти', 'США', 'потратили', 'более', '25', 'миллионов', 'долларов.', 'Об', 'этом', 'сообщает', 'Associated', 'Press', 'со', 'ссылкой', 'на', 'отчет', 'Министерства', 'юстиции', 'США.', 'В', 'документе', 'содержатся', 'данные', 'о', 'расходах', 'на', 'следствие', 'с', 'апреля', 'по', 'сентябрь', '2018', 'года.', 'За', 'эти', 'полгода', 'было', 'потрачено', '4,6', 'миллиона', 'долларов,', 'из', 'которых', 'почти', '3', 'миллиона', 'долларов', 'ушли', 'на', 'зарплату', 'сотрудников,', '580', 'тысяч', '—', 'на', 'поездки', 'и', 'сопутствующие', 'расходы.', 'Ранее', 'Минюст', 'США', 'уже', 'публиковал', 'отчеты', 'о', 'затратах', 'на', 'дело', 'о', 'российском', 'вмешательстве', 'за', 'предыдущие', 'месяцы.', '11', 'декабря', 'расследование', 'спецпрокурора', 'Робера', 'Мюллера', 'показало,', 'что', 'по', 'меньшей', 'мере', '14', 'человек', 'из', 'окружения', 'президента', 'США', 'Дональда', 'Трампа', 'контактировали', 'с', 'россиянами', 'во', 'время', 'его', 'избирательной', 'кампании', 'и', 'последующего', 'переходного', 'периода', 'перед', 'вступлением', 'в', 'должность', 'главы', 'государства.', 'Мюллер', 'с', '2017', 'года', 'ведет', 'дело', 'о', 'якобы', 'российском', 'вмешательстве', 'в', 'американские', 'выборы', 'в', '2016-м.', 'Перед', 'ним', 'поставлена', 'задача', 'выяснить,', 'был', 'ли', 'сговор', 'между', 'штабом', 'Трампа', 'и', 'Россией.', 'Кремль', 'и', 'Белый', 'дом', 'отвергают', 'все', 'обвинения.', 'Россию', 'неоднократно', 'обвиняли', 'во', 'вмешательстве', 'в', 'выборы', 'президента', 'США', 'с', 'помощью', 'хакеров.', 'В', 'июне', 'спецслужбы', 'выдвинули', 'заочное', 'обвинение', '12', 'российским', 'разведчикам.', 'По', 'данным', 'спецслужб', 'США,', 'российская', 'разведка', 'использовала', 'две', 'хакерские', 'группировки', 'для', 'взлома', 'серверов', 'Демократической', 'партии.\",Мир,Политика']\n",
            "['https://lenta.ru/news/2018/12/15/integrity/,Хакеры', 'рассказали', 'о', 'планах', 'Великобритании', 'заминировать', 'Севастополь,\"Хакерская', 'группировка', 'Anonymous', 'опубликовала', 'новые', 'документы', 'о', 'деятельности', 'британского', 'аналитического', 'центра', 'Integrity', 'Initiative.', 'Из', 'материалов', 'следует,', 'что', 'центр', 'получает', 'финансирование', 'от', 'некого', 'Института', 'государственного', 'управления', 'под', 'руководством', 'Кристофера', 'Доннелли.', 'Хакеры', 'выложили', 'в', 'открытый', 'доступ', 'его', 'паспорт,', 'резюме,', 'а', 'также', 'сведения', 'о', 'его', 'связях', 'с', 'Министерством', 'обороны', 'Великобритании.', 'Согласно', 'документам,', 'в', '2014', 'году', 'Доннелли', 'выдвинул', 'ряд', 'предложений', 'британским', 'властям', 'в', 'связи', 'с', 'ситуацией', 'в', 'Крыму.', 'В', 'частности,', 'он', 'планировал', 'заминировать', 'Севастопольскую', 'бухту,', 'окружить', 'полуостров', 'войсками,', 'а', 'также', 'уничтожить', 'оставшиеся', 'в', 'Крыму', 'самолеты', '«в', 'знак', 'серьезности', 'намерений».', 'После', 'публикации', 'заметки', 'часть', 'документов,', 'на', 'которые', 'члены', 'группировки', 'ссылаются', 'в', 'своем', 'расследовании,', 'была', 'удалена.', 'Также', 'хакеры', 'утверждают,', 'что', 'Доннелли', 'был', 'инициатором', 'расследования', '«российского', 'вмешательства»', 'в', 'референдум', 'о', 'независимости', 'в', 'Каталонии.', 'Он', 'пригласил', 'членов', 'испанского', 'отделения', 'Integrity', 'Initiative', 'в', 'качестве', 'свидетелей.', 'По', 'данным', 'группировки,', 'Доннелли', 'получал', 'деньги', 'на', 'это', 'от', 'Министерства', 'иностранных', 'дел', 'Великобритании.', '«Британская', 'разведка', 'платила', 'собственным', 'агентам', 'за', 'фальшивые', 'доказательства', 'вмешательства', 'России', 'в', 'каталонский', 'референдум,', 'а', 'затем', 'приказала', 'им', 'солгать', 'в', 'парламенте', 'с', 'целью', 'убедить', 'их', 'предпринять', 'антироссийские', 'шаги»,', '—', 'пишут', 'хакеры.', 'Члены', 'Anonymous', 'опубликовали', 'только', 'часть', 'документов,', 'связанных', 'с', 'деятельностью', 'Кристофера', 'Доннелли.', 'Если', 'расследование', 'Великобритании', 'в', 'отношении', 'Integrity', 'Initiative', 'не', 'даст', 'результатов,', 'они', 'пригрозили', 'выложить', 'новые', 'доказательства', 'того,', 'что', 'Доннелли', 'тесно', 'взаимодействует', 'с', 'британскими', 'спецслужбами', 'и', 'использует', 'свое', 'положение', 'для', 'влияния', 'на', 'политику', 'страны.', '23', 'ноября', 'Anonymous', 'впервые', 'опубликовали', 'документы', 'Integrity', 'Initiative,', 'которые', 'содержат', 'инструкции', 'по', 'борьбе', 'с', 'российской', 'пропагандой', 'и', 'примеры', 'дезинформации', 'со', 'стороны', 'Москвы.', 'Хакеры', 'утверждают,', 'что', 'этот', 'проект', 'финансируется', 'правительством', 'Великобритании', 'и', 'работает', 'сразу', 'в', 'нескольких', 'странах,', 'в', 'том', 'числе', 'в', 'Германии,', 'Франции,', 'Испании.\",Мир,Общество']\n",
            "['https://lenta.ru/news/2018/12/15/sobor/,Архиепископ', 'канонической', 'УПЦ', 'отказался', 'прийти', 'на', '«сатанинское', 'сборище»', 'в', 'Киеве,\"Архиепископ', 'канонической', 'Украинской', 'православной', 'церкви', 'Московского', 'патриархата', '(УПЦ', 'МП)', 'Лонгин', 'отказался', 'участвовать', 'в', '«объединительном', 'соборе»', 'по', 'приглашению', 'Вселенского', 'патриарха', 'Варфоломея.', 'Он', 'назвал', 'это', 'мероприятие', '«собором', 'нечестивых»', 'и', '«сатанинским', 'сборищем».', 'Об', 'этом', 'говорится', 'в', 'его', 'письме,', 'выдержки', 'из', 'которого', 'публикует', '«Страна».', 'Священнослужитель', 'подчеркнул,', 'что', 'архиереи', 'УПЦ', 'МП', 'против', 'этого', 'собрания.', '«Если', 'Вы', 'называете', 'себя', 'Матерью', 'всех', 'Церквей,', 'то', 'почему', 'Вы', 'отдали', 'на', 'поругание', 'наши', 'Православные', 'святыни,', 'на', 'растерзание', 'истинную', 'Православную', 'Церковь', 'наших', 'братьев', 'сослужителей,', 'допустили', 'мучение', 'и', 'пытание', 'священников?»', '—', 'написал', 'Лонгин.', 'В', 'своем', 'послании', 'он', 'также', 'осудил', 'снятие', 'анафемы', 'с', 'предстоятеля', 'неканонической', 'УПЦ', 'Киевского', 'патриархата', 'Филарета.', '«То,', 'что', 'произошло', 'на', 'синоде', 'в', 'Стамбуле,', 'шокировало', 'весь', 'Православный', 'мир»,', '—', 'отметил', 'архиепископ.', '«Объединительный', 'собор»,', 'инициированный', 'президентом', 'Украины', 'Петром', 'Порошенко', 'и', 'патриархом', 'Варфоломеем,', 'пройдет', '15', 'декабря', 'в', 'Софийском', 'соборе', 'Киева,', 'передает', 'РИА', 'Новости.', 'На', 'нем', 'изберут', 'предстоятеля', '«единой', 'церкви»', 'и', 'примут', 'ее', 'устав.', 'Церковный', 'раскол', 'на', 'Украине', 'обострился', 'несколько', 'месяцев', 'назад.', 'В', 'начале', 'октября', 'на', 'Соборе', 'Константинопольской', 'церкви', 'патриарх', 'Варфоломей', 'подтвердил', 'свое', 'намерение', 'предоставить', 'стране', 'автокефалию,', 'снял', 'анафемы', 'с', 'глав', 'раскольничьих', 'церквей', 'и', 'восстановил', 'свою', 'юрисдикцию', 'над', 'Киевской', 'митрополией.', 'В', 'связи', 'с', 'этим', 'Русская', 'православная', 'церковь', '15', 'октября', 'разорвала', 'евхаристическое', 'общение', 'со', 'Вселенским', 'патриархатом.\",Бывший', 'СССР,Украина']\n",
            "['https://lenta.ru/news/2018/12/15/skrepy/,Российскую', 'молодежь', 'предложили', 'обучать', 'духовным', 'ценностям', 'в', 'соцсетях,\"Российская', 'молодежь', 'лучше', 'усвоит', 'духовные', 'ценности,', 'если', 'распространять', 'их', 'через', 'интернет', 'и', 'социальные', 'сети.', 'С', 'такой', 'инициативой', 'выступил', 'глава', 'Федерального', 'агентства', 'по', 'делам', 'молодежи', 'Александр', 'Бугаев', 'в', 'ходе', 'религиозного', 'форума', '«Россия', 'в', 'будущее»,', 'передает', 'радио', '«Говорит', 'Москва».', 'Бугаев', 'отметил,', 'что', 'раньше', 'с', 'этой', 'функцией', 'справлялись', 'плакаты,', 'которые', 'можно', 'было', 'повесить', 'в', 'учебных', 'заведениях,', 'однако', 'в', 'настоящее', 'время', 'этого', 'недостаточно.', '«Намного', 'эффективнее', 'будет,', 'если', 'мы', 'об', 'этом', 'хорошем,', 'добром', 'и', 'ценном', 'расскажем', 'в', 'социальных', 'группах', 'в', 'интернете.', 'При', 'помощи', 'мессенджеров,', 'неформальных', 'объединений', 'молодежи,', 'которые', 'зачастую', 'охватывают', 'огромное', 'количество', 'людей»,', '—', 'сказал', 'он.', 'По', 'словам', 'чиновника,', 'современные', 'способы', 'распространения', 'информации', 'помогут', 'молодым', 'людям', 'лучше', 'уяснить', 'моральные', 'ценности.', 'В', 'мае', 'стало', 'известно,', 'что', 'в', 'российских', 'школах', 'могут', 'начать', 'преподавать', 'новый', 'курс', 'для', 'учеников', 'и', 'их', 'родителей', '—', 'о', 'семейном', 'укладе.', 'В', 'рамках', 'курса', 'дети', 'будут', 'изучать', 'основы', 'семейной', 'психологии,', 'мужской', 'и', 'женской', 'культуры,', 'семейного', 'уклада,', 'здорового', 'образа', 'жизни,', 'духовно-нравственное', 'развитие,', 'подготовку', 'к', 'будущему', 'родительству', 'и', 'другие', 'темы.\",Интернет', 'и', 'СМИ,Coцсети']\n",
            "['https://lenta.ru/news/2018/12/15/skripal/,Полицейские', 'из', 'Солсбери', 'описали', 'одеревеневшего', 'Скрипаля,\"Полицейские', 'Алекс', 'Коллинс', 'и', 'Трейси', 'Холлоуэй,', 'оказавшие', 'первую', 'помощь', 'Сергею', 'Скрипалю', 'и', 'его', 'дочери', 'Юлии,', 'рассказали', 'подробности', 'того', 'дня,', 'когда', 'обнаружили', 'их.', 'Констебль', 'и', 'сержант', 'поделились', 'воспоминаниями', 'с', 'газетой', 'The', 'Guardian.', 'По', 'словам', 'стражей', 'порядка,', 'их', 'дежурство', 'началось', 'за', 'час', 'с', 'четвертью', 'до', 'того,', 'как', 'в', 'полицию', 'поступило', 'сообщение', 'о', 'пожилом', 'мужчине', 'и', 'молодой', 'женщине,', 'которым', 'стало', 'плохо', 'на', 'улице.', 'Наряд', 'прибыл', 'на', 'место', 'за', 'две', 'минуты,', 'и', 'состояние', 'пострадавших', 'сразу', 'показалось', 'сотрудникам', 'правоохранительных', 'органов', 'странным.', 'Коллинс', 'отметил,', 'что', 'женщина', '(Юлия)', 'лежала', 'на', 'земле', 'на', 'боку.', 'Прохожий,', 'врач', 'по', 'специальности,', 'оказывал', 'ей', 'помощь,', 'освобождая', 'дыхательные', 'пути.', '«Мужчина', '[Скрипаль]', 'сидел', 'на', 'скамейке', 'неподвижный,', 'в', 'кататоническом', 'ступоре,', 'глядя', 'куда-то', 'в', 'пространство.', 'Он', 'дышал,', 'но', 'ни', 'на', 'что', 'не', 'отзывался.', 'Нашей', 'первой', 'мыслью', 'было:', 'это', 'наркотики»,', '—', 'пояснил', 'констебль.', 'Холлоуэй', 'добавила,', 'что', 'Скрипаль', 'сохранял', 'ту', 'же', 'позу,', 'когда', 'медики', 'пытались', 'погрузить', 'его', 'на', 'носилки.', 'Он,', 'по', 'ее', 'словам,', 'застыл', 'в', 'сидячем', 'положении', 'и', 'не', 'мог', 'пошевелиться', 'и', 'изменить', 'положение.', 'Коллинс', 'рассказал,', 'что', 'осмотрел', 'Скрипалей', 'в', 'перчатках,', 'а', 'Холлоуэй', 'без', 'всякой', 'защиты', 'обыскала', 'их,', 'чтобы', 'установить', 'личности.', 'Найденные', 'вещи', 'озадачили', 'полицейских.', '«Мы', 'заглянули', 'в', 'их', 'кошельки,', 'пытаясь', 'найти', 'паспорта.', 'Был', 'телефон', 'с', 'русскоязычным', 'интерфейсом.', 'Имена', 'незнакомые.', 'Это', 'было', 'странно.', 'Это', 'было', 'неправильно.', 'Это', 'было', 'не', 'совсем', 'нормально»,', '—', 'вспоминает', 'сержант.', 'Стражи', 'порядка', 'приказали', 'прохожим', 'отойти', 'и', 'вызвали', 'медиков', 'и', 'наряд', 'пожарных', 'с', 'костюмами', 'химзащиты.', 'В', 'марте', 'бывший', 'офицер', 'ГРУ', 'Сергей', 'Скрипаль', 'и', 'его', 'дочь', 'Юлия', 'были', 'найдены', 'в', 'бессознательном', 'состоянии', 'в', 'сквере', 'в', 'британском', 'Солсбери.', 'Лондон', 'считает,', 'что', 'они', 'были', 'отравлены', 'нервно-паралитическим', 'веществом', 'класса', '«Новичок».', 'Британские', 'власти', 'обвиняют', 'в', 'причастности', 'к', 'отравлению', 'Россию.', 'Москва', 'все', 'обвинения', 'отвергает.\",Мир,Общество']\n",
            "['https://lenta.ru/news/2018/12/15/tu160/,Полет', 'российских', 'бомбардировщиков', 'над', 'Карибским', 'морем', 'сняли', 'на', 'видео,\"Минобороны', 'опубликовало', 'на', 'YouTube', 'видео', 'полета', 'российских', 'стратегических', 'бомбардировщиков', 'Ту-160,', 'отправленных', 'в', 'Венесуэлу,', 'над', 'водами', 'Карибского', 'моря.', 'Пилоты', 'провели', 'в', 'небе', 'почти', '10', 'часов.', '«На', 'некоторых', 'этапах', 'маршрута', 'российские', 'ракетоносцы', 'работали', 'совместно', 'с', 'истребителями', 'Су-30', 'и', 'F-16', 'Национальной', 'Боливарианской', 'военной', 'авиации.', 'Летчики', 'двух', 'стран', 'отработали', 'взаимодействие', 'при', 'выполнении', 'полетных', 'заданий»,', '—', 'отмечает', 'ведомство', 'под', 'роликом.', 'В', 'южноамериканскую', 'страну', 'были', 'направлены', 'два', 'стратегических', 'ракетоносца', 'Ту-160,', 'тяжелый', 'военный', 'транспортный', 'самолет', 'Ан-124', 'и', 'дальнемагистральный', 'самолет', 'Ил-62', 'российских', 'воздушно-космических', 'сил', '(ВКС).', 'Как', 'передает', 'ТАСС,', '14', 'декабря', 'они', 'покинули', 'государство', 'и', 'полетели', 'на', 'домашнюю', 'базу.', 'Ту-160,', 'сверхзвуковой', 'стратегический', 'бомбардировщик-ракетоносец', 'с', 'изменяемой', 'геометрией', 'крыла,', 'является', 'самым', 'крупным,', 'мощным', 'и', 'тяжелым', 'боевым', 'сверхзвуковым', 'самолетом', 'в', 'мире.\",Мир,Политика']\n"
          ]
        },
        {
          "output_type": "stream",
          "name": "stderr",
          "text": [
            "/usr/local/lib/python3.10/dist-packages/ipykernel/ipkernel.py:283: DeprecationWarning: `should_run_async` will not call `transform_cell` automatically in the future. Please pass the result to `transformed_cell` argument and any exception that happen during thetransform in `preprocessing_exc_tuple` in IPython 7.17 and above.\n",
            "  and should_run_async(code)\n"
          ]
        }
      ],
      "source": [
        "with gzip.open('/content/drive/MyDrive/Machine_Learning_FH/lenta-ru-news.csv.gz', 'rb') as gz:\n",
        "  for i in range(10):\n",
        "    line = gz.readline()\n",
        "    words = line.decode('utf8').split()\n",
        "    print(words)"
      ]
    },
    {
      "cell_type": "code",
      "execution_count": 45,
      "metadata": {
        "id": "fTMpOxBdmCbJ",
        "colab": {
          "base_uri": "https://localhost:8080/"
        },
        "outputId": "a8905d1b-b824-4127-cc4f-00d4ac9c5571"
      },
      "outputs": [
        {
          "output_type": "stream",
          "name": "stderr",
          "text": [
            "/usr/local/lib/python3.10/dist-packages/ipykernel/ipkernel.py:283: DeprecationWarning: `should_run_async` will not call `transform_cell` automatically in the future. Please pass the result to `transformed_cell` argument and any exception that happen during thetransform in `preprocessing_exc_tuple` in IPython 7.17 and above.\n",
            "  and should_run_async(code)\n"
          ]
        }
      ],
      "source": [
        "articles_df = pd.read_csv('/content/drive/MyDrive/Machine_Learning_FH/lenta-ru-news.csv.gz',\n",
        "                          sep=',',\n",
        "                           on_bad_lines='skip',\n",
        "                           #header=None,\n",
        "                           #names=['url', 'Ttittle'],\n",
        "                           #dtype={'article_category': 'category'},\n",
        "                           nrows=10)  # Specify the number of rows to read"
      ]
    },
    {
      "cell_type": "code",
      "execution_count": 46,
      "metadata": {
        "colab": {
          "base_uri": "https://localhost:8080/",
          "height": 418
        },
        "id": "MGMoBDtAmn2x",
        "outputId": "8d2a6fd2-0849-4d7d-c23b-c6e3d8c8eef6"
      },
      "outputs": [
        {
          "output_type": "stream",
          "name": "stderr",
          "text": [
            "/usr/local/lib/python3.10/dist-packages/ipykernel/ipkernel.py:283: DeprecationWarning: `should_run_async` will not call `transform_cell` automatically in the future. Please pass the result to `transformed_cell` argument and any exception that happen during thetransform in `preprocessing_exc_tuple` in IPython 7.17 and above.\n",
            "  and should_run_async(code)\n"
          ]
        },
        {
          "output_type": "execute_result",
          "data": {
            "text/plain": [
              "                                            url  \\\n",
              "0      https://lenta.ru/news/2018/12/14/cancer/   \n",
              "1      https://lenta.ru/news/2018/12/15/doping/   \n",
              "2  https://lenta.ru/news/2018/12/15/disneyland/   \n",
              "3       https://lenta.ru/news/2018/12/15/usa25/   \n",
              "4   https://lenta.ru/news/2018/12/15/integrity/   \n",
              "5       https://lenta.ru/news/2018/12/15/sobor/   \n",
              "6      https://lenta.ru/news/2018/12/15/skrepy/   \n",
              "7     https://lenta.ru/news/2018/12/15/skripal/   \n",
              "8       https://lenta.ru/news/2018/12/15/tu160/   \n",
              "9         https://lenta.ru/news/2018/12/15/zrk/   \n",
              "\n",
              "                                               title  \\\n",
              "0  Названы регионы России с самой высокой смертно...   \n",
              "1  Австрия не представила доказательств вины росс...   \n",
              "2       Обнаружено самое счастливое место на планете   \n",
              "3  В США раскрыли сумму расходов на расследование...   \n",
              "4  Хакеры рассказали о планах Великобритании зами...   \n",
              "5  Архиепископ канонической УПЦ отказался прийти ...   \n",
              "6  Российскую молодежь предложили обучать духовны...   \n",
              "7  Полицейские из Солсбери описали одеревеневшего...   \n",
              "8  Полет российских бомбардировщиков над Карибски...   \n",
              "9  В Минобороны раскрыли многомиллионные хищения ...   \n",
              "\n",
              "                                                text              topic  \\\n",
              "0  Вице-премьер по социальным вопросам Татьяна Го...             Россия   \n",
              "1  Австрийские правоохранительные органы не предс...              Спорт   \n",
              "2  Сотрудники социальной сети Instagram проанализ...        Путешествия   \n",
              "3  С начала расследования российского вмешательст...                Мир   \n",
              "4  Хакерская группировка Anonymous опубликовала н...                Мир   \n",
              "5  Архиепископ канонической Украинской православн...        Бывший СССР   \n",
              "6  Российская молодежь лучше усвоит духовные ценн...     Интернет и СМИ   \n",
              "7  Полицейские Алекс Коллинс и Трейси Холлоуэй, о...                Мир   \n",
              "8  Минобороны опубликовало на YouTube видео полет...                Мир   \n",
              "9  Директора завода «Электроприбор» Муталиба Эмир...  Силовые структуры   \n",
              "\n",
              "              tags  \n",
              "0         Общество  \n",
              "1      Зимние виды  \n",
              "2              Мир  \n",
              "3         Политика  \n",
              "4         Общество  \n",
              "5          Украина  \n",
              "6          Coцсети  \n",
              "7         Общество  \n",
              "8         Политика  \n",
              "9  Следствие и суд  "
            ],
            "text/html": [
              "\n",
              "  <div id=\"df-6623bb73-9f1a-46be-a9b2-7952f0b41182\" class=\"colab-df-container\">\n",
              "    <div>\n",
              "<style scoped>\n",
              "    .dataframe tbody tr th:only-of-type {\n",
              "        vertical-align: middle;\n",
              "    }\n",
              "\n",
              "    .dataframe tbody tr th {\n",
              "        vertical-align: top;\n",
              "    }\n",
              "\n",
              "    .dataframe thead th {\n",
              "        text-align: right;\n",
              "    }\n",
              "</style>\n",
              "<table border=\"1\" class=\"dataframe\">\n",
              "  <thead>\n",
              "    <tr style=\"text-align: right;\">\n",
              "      <th></th>\n",
              "      <th>url</th>\n",
              "      <th>title</th>\n",
              "      <th>text</th>\n",
              "      <th>topic</th>\n",
              "      <th>tags</th>\n",
              "    </tr>\n",
              "  </thead>\n",
              "  <tbody>\n",
              "    <tr>\n",
              "      <th>0</th>\n",
              "      <td>https://lenta.ru/news/2018/12/14/cancer/</td>\n",
              "      <td>Названы регионы России с самой высокой смертно...</td>\n",
              "      <td>Вице-премьер по социальным вопросам Татьяна Го...</td>\n",
              "      <td>Россия</td>\n",
              "      <td>Общество</td>\n",
              "    </tr>\n",
              "    <tr>\n",
              "      <th>1</th>\n",
              "      <td>https://lenta.ru/news/2018/12/15/doping/</td>\n",
              "      <td>Австрия не представила доказательств вины росс...</td>\n",
              "      <td>Австрийские правоохранительные органы не предс...</td>\n",
              "      <td>Спорт</td>\n",
              "      <td>Зимние виды</td>\n",
              "    </tr>\n",
              "    <tr>\n",
              "      <th>2</th>\n",
              "      <td>https://lenta.ru/news/2018/12/15/disneyland/</td>\n",
              "      <td>Обнаружено самое счастливое место на планете</td>\n",
              "      <td>Сотрудники социальной сети Instagram проанализ...</td>\n",
              "      <td>Путешествия</td>\n",
              "      <td>Мир</td>\n",
              "    </tr>\n",
              "    <tr>\n",
              "      <th>3</th>\n",
              "      <td>https://lenta.ru/news/2018/12/15/usa25/</td>\n",
              "      <td>В США раскрыли сумму расходов на расследование...</td>\n",
              "      <td>С начала расследования российского вмешательст...</td>\n",
              "      <td>Мир</td>\n",
              "      <td>Политика</td>\n",
              "    </tr>\n",
              "    <tr>\n",
              "      <th>4</th>\n",
              "      <td>https://lenta.ru/news/2018/12/15/integrity/</td>\n",
              "      <td>Хакеры рассказали о планах Великобритании зами...</td>\n",
              "      <td>Хакерская группировка Anonymous опубликовала н...</td>\n",
              "      <td>Мир</td>\n",
              "      <td>Общество</td>\n",
              "    </tr>\n",
              "    <tr>\n",
              "      <th>5</th>\n",
              "      <td>https://lenta.ru/news/2018/12/15/sobor/</td>\n",
              "      <td>Архиепископ канонической УПЦ отказался прийти ...</td>\n",
              "      <td>Архиепископ канонической Украинской православн...</td>\n",
              "      <td>Бывший СССР</td>\n",
              "      <td>Украина</td>\n",
              "    </tr>\n",
              "    <tr>\n",
              "      <th>6</th>\n",
              "      <td>https://lenta.ru/news/2018/12/15/skrepy/</td>\n",
              "      <td>Российскую молодежь предложили обучать духовны...</td>\n",
              "      <td>Российская молодежь лучше усвоит духовные ценн...</td>\n",
              "      <td>Интернет и СМИ</td>\n",
              "      <td>Coцсети</td>\n",
              "    </tr>\n",
              "    <tr>\n",
              "      <th>7</th>\n",
              "      <td>https://lenta.ru/news/2018/12/15/skripal/</td>\n",
              "      <td>Полицейские из Солсбери описали одеревеневшего...</td>\n",
              "      <td>Полицейские Алекс Коллинс и Трейси Холлоуэй, о...</td>\n",
              "      <td>Мир</td>\n",
              "      <td>Общество</td>\n",
              "    </tr>\n",
              "    <tr>\n",
              "      <th>8</th>\n",
              "      <td>https://lenta.ru/news/2018/12/15/tu160/</td>\n",
              "      <td>Полет российских бомбардировщиков над Карибски...</td>\n",
              "      <td>Минобороны опубликовало на YouTube видео полет...</td>\n",
              "      <td>Мир</td>\n",
              "      <td>Политика</td>\n",
              "    </tr>\n",
              "    <tr>\n",
              "      <th>9</th>\n",
              "      <td>https://lenta.ru/news/2018/12/15/zrk/</td>\n",
              "      <td>В Минобороны раскрыли многомиллионные хищения ...</td>\n",
              "      <td>Директора завода «Электроприбор» Муталиба Эмир...</td>\n",
              "      <td>Силовые структуры</td>\n",
              "      <td>Следствие и суд</td>\n",
              "    </tr>\n",
              "  </tbody>\n",
              "</table>\n",
              "</div>\n",
              "    <div class=\"colab-df-buttons\">\n",
              "\n",
              "  <div class=\"colab-df-container\">\n",
              "    <button class=\"colab-df-convert\" onclick=\"convertToInteractive('df-6623bb73-9f1a-46be-a9b2-7952f0b41182')\"\n",
              "            title=\"Convert this dataframe to an interactive table.\"\n",
              "            style=\"display:none;\">\n",
              "\n",
              "  <svg xmlns=\"http://www.w3.org/2000/svg\" height=\"24px\" viewBox=\"0 -960 960 960\">\n",
              "    <path d=\"M120-120v-720h720v720H120Zm60-500h600v-160H180v160Zm220 220h160v-160H400v160Zm0 220h160v-160H400v160ZM180-400h160v-160H180v160Zm440 0h160v-160H620v160ZM180-180h160v-160H180v160Zm440 0h160v-160H620v160Z\"/>\n",
              "  </svg>\n",
              "    </button>\n",
              "\n",
              "  <style>\n",
              "    .colab-df-container {\n",
              "      display:flex;\n",
              "      gap: 12px;\n",
              "    }\n",
              "\n",
              "    .colab-df-convert {\n",
              "      background-color: #E8F0FE;\n",
              "      border: none;\n",
              "      border-radius: 50%;\n",
              "      cursor: pointer;\n",
              "      display: none;\n",
              "      fill: #1967D2;\n",
              "      height: 32px;\n",
              "      padding: 0 0 0 0;\n",
              "      width: 32px;\n",
              "    }\n",
              "\n",
              "    .colab-df-convert:hover {\n",
              "      background-color: #E2EBFA;\n",
              "      box-shadow: 0px 1px 2px rgba(60, 64, 67, 0.3), 0px 1px 3px 1px rgba(60, 64, 67, 0.15);\n",
              "      fill: #174EA6;\n",
              "    }\n",
              "\n",
              "    .colab-df-buttons div {\n",
              "      margin-bottom: 4px;\n",
              "    }\n",
              "\n",
              "    [theme=dark] .colab-df-convert {\n",
              "      background-color: #3B4455;\n",
              "      fill: #D2E3FC;\n",
              "    }\n",
              "\n",
              "    [theme=dark] .colab-df-convert:hover {\n",
              "      background-color: #434B5C;\n",
              "      box-shadow: 0px 1px 3px 1px rgba(0, 0, 0, 0.15);\n",
              "      filter: drop-shadow(0px 1px 2px rgba(0, 0, 0, 0.3));\n",
              "      fill: #FFFFFF;\n",
              "    }\n",
              "  </style>\n",
              "\n",
              "    <script>\n",
              "      const buttonEl =\n",
              "        document.querySelector('#df-6623bb73-9f1a-46be-a9b2-7952f0b41182 button.colab-df-convert');\n",
              "      buttonEl.style.display =\n",
              "        google.colab.kernel.accessAllowed ? 'block' : 'none';\n",
              "\n",
              "      async function convertToInteractive(key) {\n",
              "        const element = document.querySelector('#df-6623bb73-9f1a-46be-a9b2-7952f0b41182');\n",
              "        const dataTable =\n",
              "          await google.colab.kernel.invokeFunction('convertToInteractive',\n",
              "                                                    [key], {});\n",
              "        if (!dataTable) return;\n",
              "\n",
              "        const docLinkHtml = 'Like what you see? Visit the ' +\n",
              "          '<a target=\"_blank\" href=https://colab.research.google.com/notebooks/data_table.ipynb>data table notebook</a>'\n",
              "          + ' to learn more about interactive tables.';\n",
              "        element.innerHTML = '';\n",
              "        dataTable['output_type'] = 'display_data';\n",
              "        await google.colab.output.renderOutput(dataTable, element);\n",
              "        const docLink = document.createElement('div');\n",
              "        docLink.innerHTML = docLinkHtml;\n",
              "        element.appendChild(docLink);\n",
              "      }\n",
              "    </script>\n",
              "  </div>\n",
              "\n",
              "\n",
              "<div id=\"df-ea750f06-3c3a-478c-9779-1e5ca521e753\">\n",
              "  <button class=\"colab-df-quickchart\" onclick=\"quickchart('df-ea750f06-3c3a-478c-9779-1e5ca521e753')\"\n",
              "            title=\"Suggest charts\"\n",
              "            style=\"display:none;\">\n",
              "\n",
              "<svg xmlns=\"http://www.w3.org/2000/svg\" height=\"24px\"viewBox=\"0 0 24 24\"\n",
              "     width=\"24px\">\n",
              "    <g>\n",
              "        <path d=\"M19 3H5c-1.1 0-2 .9-2 2v14c0 1.1.9 2 2 2h14c1.1 0 2-.9 2-2V5c0-1.1-.9-2-2-2zM9 17H7v-7h2v7zm4 0h-2V7h2v10zm4 0h-2v-4h2v4z\"/>\n",
              "    </g>\n",
              "</svg>\n",
              "  </button>\n",
              "\n",
              "<style>\n",
              "  .colab-df-quickchart {\n",
              "      --bg-color: #E8F0FE;\n",
              "      --fill-color: #1967D2;\n",
              "      --hover-bg-color: #E2EBFA;\n",
              "      --hover-fill-color: #174EA6;\n",
              "      --disabled-fill-color: #AAA;\n",
              "      --disabled-bg-color: #DDD;\n",
              "  }\n",
              "\n",
              "  [theme=dark] .colab-df-quickchart {\n",
              "      --bg-color: #3B4455;\n",
              "      --fill-color: #D2E3FC;\n",
              "      --hover-bg-color: #434B5C;\n",
              "      --hover-fill-color: #FFFFFF;\n",
              "      --disabled-bg-color: #3B4455;\n",
              "      --disabled-fill-color: #666;\n",
              "  }\n",
              "\n",
              "  .colab-df-quickchart {\n",
              "    background-color: var(--bg-color);\n",
              "    border: none;\n",
              "    border-radius: 50%;\n",
              "    cursor: pointer;\n",
              "    display: none;\n",
              "    fill: var(--fill-color);\n",
              "    height: 32px;\n",
              "    padding: 0;\n",
              "    width: 32px;\n",
              "  }\n",
              "\n",
              "  .colab-df-quickchart:hover {\n",
              "    background-color: var(--hover-bg-color);\n",
              "    box-shadow: 0 1px 2px rgba(60, 64, 67, 0.3), 0 1px 3px 1px rgba(60, 64, 67, 0.15);\n",
              "    fill: var(--button-hover-fill-color);\n",
              "  }\n",
              "\n",
              "  .colab-df-quickchart-complete:disabled,\n",
              "  .colab-df-quickchart-complete:disabled:hover {\n",
              "    background-color: var(--disabled-bg-color);\n",
              "    fill: var(--disabled-fill-color);\n",
              "    box-shadow: none;\n",
              "  }\n",
              "\n",
              "  .colab-df-spinner {\n",
              "    border: 2px solid var(--fill-color);\n",
              "    border-color: transparent;\n",
              "    border-bottom-color: var(--fill-color);\n",
              "    animation:\n",
              "      spin 1s steps(1) infinite;\n",
              "  }\n",
              "\n",
              "  @keyframes spin {\n",
              "    0% {\n",
              "      border-color: transparent;\n",
              "      border-bottom-color: var(--fill-color);\n",
              "      border-left-color: var(--fill-color);\n",
              "    }\n",
              "    20% {\n",
              "      border-color: transparent;\n",
              "      border-left-color: var(--fill-color);\n",
              "      border-top-color: var(--fill-color);\n",
              "    }\n",
              "    30% {\n",
              "      border-color: transparent;\n",
              "      border-left-color: var(--fill-color);\n",
              "      border-top-color: var(--fill-color);\n",
              "      border-right-color: var(--fill-color);\n",
              "    }\n",
              "    40% {\n",
              "      border-color: transparent;\n",
              "      border-right-color: var(--fill-color);\n",
              "      border-top-color: var(--fill-color);\n",
              "    }\n",
              "    60% {\n",
              "      border-color: transparent;\n",
              "      border-right-color: var(--fill-color);\n",
              "    }\n",
              "    80% {\n",
              "      border-color: transparent;\n",
              "      border-right-color: var(--fill-color);\n",
              "      border-bottom-color: var(--fill-color);\n",
              "    }\n",
              "    90% {\n",
              "      border-color: transparent;\n",
              "      border-bottom-color: var(--fill-color);\n",
              "    }\n",
              "  }\n",
              "</style>\n",
              "\n",
              "  <script>\n",
              "    async function quickchart(key) {\n",
              "      const quickchartButtonEl =\n",
              "        document.querySelector('#' + key + ' button');\n",
              "      quickchartButtonEl.disabled = true;  // To prevent multiple clicks.\n",
              "      quickchartButtonEl.classList.add('colab-df-spinner');\n",
              "      try {\n",
              "        const charts = await google.colab.kernel.invokeFunction(\n",
              "            'suggestCharts', [key], {});\n",
              "      } catch (error) {\n",
              "        console.error('Error during call to suggestCharts:', error);\n",
              "      }\n",
              "      quickchartButtonEl.classList.remove('colab-df-spinner');\n",
              "      quickchartButtonEl.classList.add('colab-df-quickchart-complete');\n",
              "    }\n",
              "    (() => {\n",
              "      let quickchartButtonEl =\n",
              "        document.querySelector('#df-ea750f06-3c3a-478c-9779-1e5ca521e753 button');\n",
              "      quickchartButtonEl.style.display =\n",
              "        google.colab.kernel.accessAllowed ? 'block' : 'none';\n",
              "    })();\n",
              "  </script>\n",
              "</div>\n",
              "    </div>\n",
              "  </div>\n"
            ]
          },
          "metadata": {},
          "execution_count": 46
        }
      ],
      "source": [
        "articles_df"
      ]
    },
    {
      "cell_type": "code",
      "execution_count": 47,
      "metadata": {
        "colab": {
          "base_uri": "https://localhost:8080/",
          "height": 418
        },
        "id": "fZFH1ByevZ0h",
        "outputId": "83682f3b-7bdf-4276-a78a-e5e5b7ae4cae"
      },
      "outputs": [
        {
          "output_type": "stream",
          "name": "stderr",
          "text": [
            "/usr/local/lib/python3.10/dist-packages/ipykernel/ipkernel.py:283: DeprecationWarning: `should_run_async` will not call `transform_cell` automatically in the future. Please pass the result to `transformed_cell` argument and any exception that happen during thetransform in `preprocessing_exc_tuple` in IPython 7.17 and above.\n",
            "  and should_run_async(code)\n"
          ]
        },
        {
          "output_type": "execute_result",
          "data": {
            "text/plain": [
              "                                                text\n",
              "0  Вице-премьер по социальным вопросам Татьяна Го...\n",
              "1  Австрийские правоохранительные органы не предс...\n",
              "2  Сотрудники социальной сети Instagram проанализ...\n",
              "3  С начала расследования российского вмешательст...\n",
              "4  Хакерская группировка Anonymous опубликовала н...\n",
              "5  Архиепископ канонической Украинской православн...\n",
              "6  Российская молодежь лучше усвоит духовные ценн...\n",
              "7  Полицейские Алекс Коллинс и Трейси Холлоуэй, о...\n",
              "8  Минобороны опубликовало на YouTube видео полет...\n",
              "9  Директора завода «Электроприбор» Муталиба Эмир..."
            ],
            "text/html": [
              "\n",
              "  <div id=\"df-9a7bb92c-94ad-44a8-a4cd-60ee186d575d\" class=\"colab-df-container\">\n",
              "    <div>\n",
              "<style scoped>\n",
              "    .dataframe tbody tr th:only-of-type {\n",
              "        vertical-align: middle;\n",
              "    }\n",
              "\n",
              "    .dataframe tbody tr th {\n",
              "        vertical-align: top;\n",
              "    }\n",
              "\n",
              "    .dataframe thead th {\n",
              "        text-align: right;\n",
              "    }\n",
              "</style>\n",
              "<table border=\"1\" class=\"dataframe\">\n",
              "  <thead>\n",
              "    <tr style=\"text-align: right;\">\n",
              "      <th></th>\n",
              "      <th>text</th>\n",
              "    </tr>\n",
              "  </thead>\n",
              "  <tbody>\n",
              "    <tr>\n",
              "      <th>0</th>\n",
              "      <td>Вице-премьер по социальным вопросам Татьяна Го...</td>\n",
              "    </tr>\n",
              "    <tr>\n",
              "      <th>1</th>\n",
              "      <td>Австрийские правоохранительные органы не предс...</td>\n",
              "    </tr>\n",
              "    <tr>\n",
              "      <th>2</th>\n",
              "      <td>Сотрудники социальной сети Instagram проанализ...</td>\n",
              "    </tr>\n",
              "    <tr>\n",
              "      <th>3</th>\n",
              "      <td>С начала расследования российского вмешательст...</td>\n",
              "    </tr>\n",
              "    <tr>\n",
              "      <th>4</th>\n",
              "      <td>Хакерская группировка Anonymous опубликовала н...</td>\n",
              "    </tr>\n",
              "    <tr>\n",
              "      <th>5</th>\n",
              "      <td>Архиепископ канонической Украинской православн...</td>\n",
              "    </tr>\n",
              "    <tr>\n",
              "      <th>6</th>\n",
              "      <td>Российская молодежь лучше усвоит духовные ценн...</td>\n",
              "    </tr>\n",
              "    <tr>\n",
              "      <th>7</th>\n",
              "      <td>Полицейские Алекс Коллинс и Трейси Холлоуэй, о...</td>\n",
              "    </tr>\n",
              "    <tr>\n",
              "      <th>8</th>\n",
              "      <td>Минобороны опубликовало на YouTube видео полет...</td>\n",
              "    </tr>\n",
              "    <tr>\n",
              "      <th>9</th>\n",
              "      <td>Директора завода «Электроприбор» Муталиба Эмир...</td>\n",
              "    </tr>\n",
              "  </tbody>\n",
              "</table>\n",
              "</div>\n",
              "    <div class=\"colab-df-buttons\">\n",
              "\n",
              "  <div class=\"colab-df-container\">\n",
              "    <button class=\"colab-df-convert\" onclick=\"convertToInteractive('df-9a7bb92c-94ad-44a8-a4cd-60ee186d575d')\"\n",
              "            title=\"Convert this dataframe to an interactive table.\"\n",
              "            style=\"display:none;\">\n",
              "\n",
              "  <svg xmlns=\"http://www.w3.org/2000/svg\" height=\"24px\" viewBox=\"0 -960 960 960\">\n",
              "    <path d=\"M120-120v-720h720v720H120Zm60-500h600v-160H180v160Zm220 220h160v-160H400v160Zm0 220h160v-160H400v160ZM180-400h160v-160H180v160Zm440 0h160v-160H620v160ZM180-180h160v-160H180v160Zm440 0h160v-160H620v160Z\"/>\n",
              "  </svg>\n",
              "    </button>\n",
              "\n",
              "  <style>\n",
              "    .colab-df-container {\n",
              "      display:flex;\n",
              "      gap: 12px;\n",
              "    }\n",
              "\n",
              "    .colab-df-convert {\n",
              "      background-color: #E8F0FE;\n",
              "      border: none;\n",
              "      border-radius: 50%;\n",
              "      cursor: pointer;\n",
              "      display: none;\n",
              "      fill: #1967D2;\n",
              "      height: 32px;\n",
              "      padding: 0 0 0 0;\n",
              "      width: 32px;\n",
              "    }\n",
              "\n",
              "    .colab-df-convert:hover {\n",
              "      background-color: #E2EBFA;\n",
              "      box-shadow: 0px 1px 2px rgba(60, 64, 67, 0.3), 0px 1px 3px 1px rgba(60, 64, 67, 0.15);\n",
              "      fill: #174EA6;\n",
              "    }\n",
              "\n",
              "    .colab-df-buttons div {\n",
              "      margin-bottom: 4px;\n",
              "    }\n",
              "\n",
              "    [theme=dark] .colab-df-convert {\n",
              "      background-color: #3B4455;\n",
              "      fill: #D2E3FC;\n",
              "    }\n",
              "\n",
              "    [theme=dark] .colab-df-convert:hover {\n",
              "      background-color: #434B5C;\n",
              "      box-shadow: 0px 1px 3px 1px rgba(0, 0, 0, 0.15);\n",
              "      filter: drop-shadow(0px 1px 2px rgba(0, 0, 0, 0.3));\n",
              "      fill: #FFFFFF;\n",
              "    }\n",
              "  </style>\n",
              "\n",
              "    <script>\n",
              "      const buttonEl =\n",
              "        document.querySelector('#df-9a7bb92c-94ad-44a8-a4cd-60ee186d575d button.colab-df-convert');\n",
              "      buttonEl.style.display =\n",
              "        google.colab.kernel.accessAllowed ? 'block' : 'none';\n",
              "\n",
              "      async function convertToInteractive(key) {\n",
              "        const element = document.querySelector('#df-9a7bb92c-94ad-44a8-a4cd-60ee186d575d');\n",
              "        const dataTable =\n",
              "          await google.colab.kernel.invokeFunction('convertToInteractive',\n",
              "                                                    [key], {});\n",
              "        if (!dataTable) return;\n",
              "\n",
              "        const docLinkHtml = 'Like what you see? Visit the ' +\n",
              "          '<a target=\"_blank\" href=https://colab.research.google.com/notebooks/data_table.ipynb>data table notebook</a>'\n",
              "          + ' to learn more about interactive tables.';\n",
              "        element.innerHTML = '';\n",
              "        dataTable['output_type'] = 'display_data';\n",
              "        await google.colab.output.renderOutput(dataTable, element);\n",
              "        const docLink = document.createElement('div');\n",
              "        docLink.innerHTML = docLinkHtml;\n",
              "        element.appendChild(docLink);\n",
              "      }\n",
              "    </script>\n",
              "  </div>\n",
              "\n",
              "\n",
              "<div id=\"df-0f9000b0-0f29-479a-952b-3e695b01b404\">\n",
              "  <button class=\"colab-df-quickchart\" onclick=\"quickchart('df-0f9000b0-0f29-479a-952b-3e695b01b404')\"\n",
              "            title=\"Suggest charts\"\n",
              "            style=\"display:none;\">\n",
              "\n",
              "<svg xmlns=\"http://www.w3.org/2000/svg\" height=\"24px\"viewBox=\"0 0 24 24\"\n",
              "     width=\"24px\">\n",
              "    <g>\n",
              "        <path d=\"M19 3H5c-1.1 0-2 .9-2 2v14c0 1.1.9 2 2 2h14c1.1 0 2-.9 2-2V5c0-1.1-.9-2-2-2zM9 17H7v-7h2v7zm4 0h-2V7h2v10zm4 0h-2v-4h2v4z\"/>\n",
              "    </g>\n",
              "</svg>\n",
              "  </button>\n",
              "\n",
              "<style>\n",
              "  .colab-df-quickchart {\n",
              "      --bg-color: #E8F0FE;\n",
              "      --fill-color: #1967D2;\n",
              "      --hover-bg-color: #E2EBFA;\n",
              "      --hover-fill-color: #174EA6;\n",
              "      --disabled-fill-color: #AAA;\n",
              "      --disabled-bg-color: #DDD;\n",
              "  }\n",
              "\n",
              "  [theme=dark] .colab-df-quickchart {\n",
              "      --bg-color: #3B4455;\n",
              "      --fill-color: #D2E3FC;\n",
              "      --hover-bg-color: #434B5C;\n",
              "      --hover-fill-color: #FFFFFF;\n",
              "      --disabled-bg-color: #3B4455;\n",
              "      --disabled-fill-color: #666;\n",
              "  }\n",
              "\n",
              "  .colab-df-quickchart {\n",
              "    background-color: var(--bg-color);\n",
              "    border: none;\n",
              "    border-radius: 50%;\n",
              "    cursor: pointer;\n",
              "    display: none;\n",
              "    fill: var(--fill-color);\n",
              "    height: 32px;\n",
              "    padding: 0;\n",
              "    width: 32px;\n",
              "  }\n",
              "\n",
              "  .colab-df-quickchart:hover {\n",
              "    background-color: var(--hover-bg-color);\n",
              "    box-shadow: 0 1px 2px rgba(60, 64, 67, 0.3), 0 1px 3px 1px rgba(60, 64, 67, 0.15);\n",
              "    fill: var(--button-hover-fill-color);\n",
              "  }\n",
              "\n",
              "  .colab-df-quickchart-complete:disabled,\n",
              "  .colab-df-quickchart-complete:disabled:hover {\n",
              "    background-color: var(--disabled-bg-color);\n",
              "    fill: var(--disabled-fill-color);\n",
              "    box-shadow: none;\n",
              "  }\n",
              "\n",
              "  .colab-df-spinner {\n",
              "    border: 2px solid var(--fill-color);\n",
              "    border-color: transparent;\n",
              "    border-bottom-color: var(--fill-color);\n",
              "    animation:\n",
              "      spin 1s steps(1) infinite;\n",
              "  }\n",
              "\n",
              "  @keyframes spin {\n",
              "    0% {\n",
              "      border-color: transparent;\n",
              "      border-bottom-color: var(--fill-color);\n",
              "      border-left-color: var(--fill-color);\n",
              "    }\n",
              "    20% {\n",
              "      border-color: transparent;\n",
              "      border-left-color: var(--fill-color);\n",
              "      border-top-color: var(--fill-color);\n",
              "    }\n",
              "    30% {\n",
              "      border-color: transparent;\n",
              "      border-left-color: var(--fill-color);\n",
              "      border-top-color: var(--fill-color);\n",
              "      border-right-color: var(--fill-color);\n",
              "    }\n",
              "    40% {\n",
              "      border-color: transparent;\n",
              "      border-right-color: var(--fill-color);\n",
              "      border-top-color: var(--fill-color);\n",
              "    }\n",
              "    60% {\n",
              "      border-color: transparent;\n",
              "      border-right-color: var(--fill-color);\n",
              "    }\n",
              "    80% {\n",
              "      border-color: transparent;\n",
              "      border-right-color: var(--fill-color);\n",
              "      border-bottom-color: var(--fill-color);\n",
              "    }\n",
              "    90% {\n",
              "      border-color: transparent;\n",
              "      border-bottom-color: var(--fill-color);\n",
              "    }\n",
              "  }\n",
              "</style>\n",
              "\n",
              "  <script>\n",
              "    async function quickchart(key) {\n",
              "      const quickchartButtonEl =\n",
              "        document.querySelector('#' + key + ' button');\n",
              "      quickchartButtonEl.disabled = true;  // To prevent multiple clicks.\n",
              "      quickchartButtonEl.classList.add('colab-df-spinner');\n",
              "      try {\n",
              "        const charts = await google.colab.kernel.invokeFunction(\n",
              "            'suggestCharts', [key], {});\n",
              "      } catch (error) {\n",
              "        console.error('Error during call to suggestCharts:', error);\n",
              "      }\n",
              "      quickchartButtonEl.classList.remove('colab-df-spinner');\n",
              "      quickchartButtonEl.classList.add('colab-df-quickchart-complete');\n",
              "    }\n",
              "    (() => {\n",
              "      let quickchartButtonEl =\n",
              "        document.querySelector('#df-0f9000b0-0f29-479a-952b-3e695b01b404 button');\n",
              "      quickchartButtonEl.style.display =\n",
              "        google.colab.kernel.accessAllowed ? 'block' : 'none';\n",
              "    })();\n",
              "  </script>\n",
              "</div>\n",
              "    </div>\n",
              "  </div>\n"
            ]
          },
          "metadata": {},
          "execution_count": 47
        }
      ],
      "source": [
        "columns_to_drop = ['url', 'title', 'topic','tags']\n",
        "articles_df = articles_df.drop(columns_to_drop, axis=1) ; articles_df"
      ]
    },
    {
      "cell_type": "markdown",
      "metadata": {
        "id": "ZlCt4rfQgtxa"
      },
      "source": [
        "Above is working OK"
      ]
    },
    {
      "cell_type": "code",
      "execution_count": 48,
      "metadata": {
        "colab": {
          "base_uri": "https://localhost:8080/"
        },
        "id": "iPfiwz_3Q1qF",
        "outputId": "edfc185b-49c2-490c-b8c1-0d1a9dc154e7"
      },
      "outputs": [
        {
          "output_type": "stream",
          "name": "stderr",
          "text": [
            "/usr/local/lib/python3.10/dist-packages/ipykernel/ipkernel.py:283: DeprecationWarning: `should_run_async` will not call `transform_cell` automatically in the future. Please pass the result to `transformed_cell` argument and any exception that happen during thetransform in `preprocessing_exc_tuple` in IPython 7.17 and above.\n",
            "  and should_run_async(code)\n"
          ]
        },
        {
          "output_type": "stream",
          "name": "stdout",
          "text": [
            "Requirement already satisfied: gensim in /usr/local/lib/python3.10/dist-packages (4.3.2)\n",
            "Requirement already satisfied: numpy>=1.18.5 in /usr/local/lib/python3.10/dist-packages (from gensim) (1.25.2)\n",
            "Requirement already satisfied: scipy>=1.7.0 in /usr/local/lib/python3.10/dist-packages (from gensim) (1.11.3)\n",
            "Requirement already satisfied: smart-open>=1.8.1 in /usr/local/lib/python3.10/dist-packages (from gensim) (6.4.0)\n"
          ]
        }
      ],
      "source": [
        "!pip install -U gensim"
      ]
    },
    {
      "cell_type": "code",
      "execution_count": 49,
      "metadata": {
        "id": "y2DbCelLQ_3q",
        "colab": {
          "base_uri": "https://localhost:8080/"
        },
        "outputId": "f6d8fe4c-857b-409d-9f88-3595182a45ab"
      },
      "outputs": [
        {
          "output_type": "stream",
          "name": "stderr",
          "text": [
            "/usr/local/lib/python3.10/dist-packages/ipykernel/ipkernel.py:283: DeprecationWarning: `should_run_async` will not call `transform_cell` automatically in the future. Please pass the result to `transformed_cell` argument and any exception that happen during thetransform in `preprocessing_exc_tuple` in IPython 7.17 and above.\n",
            "  and should_run_async(code)\n"
          ]
        }
      ],
      "source": [
        "from pprint import pprint # for printing objects nicely\n",
        "\n",
        "from gensim import corpora, models\n",
        "from gensim.utils import simple_preprocess\n",
        "\n",
        "# from gensim.parsing.preprocessing import STOPWORDS\n",
        "# Instead of the gensim english stopwords, we use nltk's German stopwords\n",
        "from nltk.corpus import stopwords\n",
        "\n",
        "from nltk.stem.snowball import SnowballStemmer\n",
        "from nltk.stem.porter import *\n",
        "\n",
        "import numpy as np\n",
        "\n",
        "from random import choice\n",
        "\n",
        "# fixing the randomization for reproducibility\n",
        "np.random.seed(1234)\n",
        "\n",
        "# loading the russian stemming tool:\n",
        "stemmer = SnowballStemmer('russian')\n",
        "russian_stop_words = set(stopwords.words('russian'))\n",
        "\n",
        "\n",
        "def lemmatize_stemming(text: str):\n",
        "  \"\"\"\n",
        "  Given a string, return the string lemattized using the russian snowball stemmer\n",
        "  \"\"\"\n",
        "  return stemmer.stem(text)\n",
        "\n",
        "def preprocess(text: list[str]):\n",
        "  \"\"\"\n",
        "  Preprocessing a list of tokens by removing stopwords and lemmatizing the tokens.\n",
        "  Also, removing tokens which are shorter than 3 characters.\n",
        "  \"\"\"\n",
        "  result = [lemmatize_stemming(token)\n",
        "            for token in simple_preprocess(text)\n",
        "            if token not in russian_stop_words and len(token) > 3]\n",
        "  return result\n"
      ]
    },
    {
      "cell_type": "code",
      "execution_count": 50,
      "metadata": {
        "colab": {
          "base_uri": "https://localhost:8080/"
        },
        "id": "Lvxhe2VTT49U",
        "outputId": "080855d4-07df-4c72-c322-038c37ffd245"
      },
      "outputs": [
        {
          "output_type": "stream",
          "name": "stderr",
          "text": [
            "/usr/local/lib/python3.10/dist-packages/ipykernel/ipkernel.py:283: DeprecationWarning: `should_run_async` will not call `transform_cell` automatically in the future. Please pass the result to `transformed_cell` argument and any exception that happen during thetransform in `preprocessing_exc_tuple` in IPython 7.17 and above.\n",
            "  and should_run_async(code)\n"
          ]
        },
        {
          "output_type": "execute_result",
          "data": {
            "text/plain": [
              "['Вице-премьер по социальным вопросам Татьяна Голикова рассказала, в каких регионах России зафиксирована наиболее высокая смертность от рака, сообщает РИА Новости. По словам Голиковой, чаще всего онкологические заболевания становились причиной смерти в Псковской, Тверской, Тульской и Орловской областях, а также в Севастополе. Вице-премьер напомнила, что главные факторы смертности в России — рак и болезни системы кровообращения. В начале года стало известно, что смертность от онкологических заболеваний среди россиян снизилась впервые за три года. По данным Росстата, в 2017 году от рака умерли 289 тысяч человек. Это на 3,5 процента меньше, чем годом ранее.',\n",
              " 'Австрийские правоохранительные органы не представили доказательств нарушения российскими биатлонистами антидопинговых правил. Об этом сообщил посол России в Вене Дмитрий Любинский по итогам встречи уполномоченного адвоката дипмиссии с представителями прокуратуры страны, передает ТАСС. «Действует презумпция невиновности. Каких-либо ограничений свободы передвижения для команды нет», — добавили в посольстве. Международный союз биатлонистов (IBU) также не будет применять санкции к российским биатлонистам. Все они продолжат выступление на Кубке мира. Полиция нагрянула в отель сборной России в Хохфильцене вечером 12 декабря. Как написал биатлонист Александр Логинов, их считают виновными в махинациях с переливанием крови. Биатлонисту Антону Шипулину, также попавшему в список, полиция нанесла отдельный визит: сейчас он тренируется отдельно в австрийском Обертиллахе. Обвинения спортсмен назвал бредом, а также указал на «охоту на ведьм» в мировом биатлоне. В Австрии прием допинга — уголовное преступление. Максимальное наказание за его употребление — три года тюрьмы.',\n",
              " 'Сотрудники социальной сети Instagram проанализировали поставленные пользователями смайлики, геолокации и хештеги и опубликовали итоги 2018 года. Об этом сообщается на официальном сайте Instagram. Таким образом, самой счастливой геолокацией Instagram признал Диснейленд в Токио, так как больше всего счастливых смайликов в 2018 году пользователи ставили именно под фотографиями из японского Диснейленда. Также эксперты назвали самый популярный фильтр для лица: им стал фильтр с сердечками на глазах. А, например, самыми часто используемыми хештегами в 2018 году были #metoo, #timesup и #marchforourlives. В ноябре сотрудники британской ассоциации потребителей Which? составили рейтинг самых безопасных стран для путешествий. Специалисты проанализировали 20 самых популярных туристических направлений по четырем критериям: уровень преступности, угроза здоровью, вероятность теракта и стихийных бедствий. Самой безопасной страной по всем параметрам стала Исландия.',\n",
              " 'С начала расследования российского вмешательства в выборы власти США потратили более 25 миллионов долларов. Об этом сообщает Associated Press со ссылкой на отчет Министерства юстиции США. В документе содержатся данные о расходах на следствие с апреля по сентябрь 2018 года. За эти полгода было потрачено 4,6 миллиона долларов, из которых почти 3\\xa0миллиона долларов ушли на зарплату сотрудников, 580 тысяч — на поездки и сопутствующие расходы. Ранее Минюст США уже публиковал отчеты о затратах на дело о российском вмешательстве за предыдущие месяцы. 11 декабря расследование спецпрокурора Робера Мюллера показало, что по меньшей мере 14 человек из окружения президента США Дональда Трампа контактировали с россиянами во время его избирательной кампании и последующего переходного периода перед вступлением в должность главы государства. Мюллер с 2017 года ведет дело о якобы российском вмешательстве в американские выборы в 2016-м. Перед ним поставлена задача выяснить, был ли сговор между штабом Трампа и Россией. Кремль и Белый дом отвергают все обвинения. Россию неоднократно обвиняли во вмешательстве в выборы президента США с помощью хакеров. В июне спецслужбы выдвинули заочное обвинение 12 российским разведчикам. По данным спецслужб США, российская разведка использовала две хакерские группировки для взлома серверов Демократической партии.',\n",
              " 'Хакерская группировка Anonymous опубликовала новые документы о деятельности британского аналитического центра Integrity Initiative. Из материалов следует, что центр получает финансирование от некого Института государственного управления под руководством Кристофера Доннелли. Хакеры выложили в открытый доступ его паспорт, резюме, а также сведения о его связях с Министерством обороны Великобритании. Согласно документам, в 2014 году Доннелли выдвинул ряд предложений британским властям в связи с ситуацией в Крыму. В частности, он планировал заминировать Севастопольскую бухту, окружить полуостров войсками, а также уничтожить оставшиеся в Крыму самолеты «в знак серьезности намерений». После публикации заметки часть документов, на которые члены группировки ссылаются в своем расследовании, была удалена. Также хакеры утверждают, что Доннелли был инициатором расследования «российского вмешательства» в референдум о независимости в Каталонии. Он пригласил членов испанского отделения Integrity Initiative в качестве свидетелей. По данным группировки, Доннелли получал деньги на это от Министерства иностранных дел Великобритании. «Британская разведка платила собственным агентам за фальшивые доказательства вмешательства России в каталонский референдум, а затем приказала им солгать в парламенте с целью убедить их предпринять антироссийские шаги», — пишут хакеры. Члены Anonymous опубликовали только часть документов, связанных с деятельностью Кристофера Доннелли. Если расследование Великобритании в отношении Integrity Initiative не даст результатов, они пригрозили выложить новые доказательства того, что Доннелли тесно взаимодействует с британскими спецслужбами и использует свое положение для влияния на политику страны. 23 ноября Anonymous впервые опубликовали документы Integrity Initiative, которые содержат инструкции по борьбе с российской пропагандой и примеры дезинформации со стороны Москвы. Хакеры утверждают, что этот проект финансируется правительством Великобритании и работает сразу в нескольких странах, в том числе в Германии, Франции, Испании.']"
            ]
          },
          "metadata": {},
          "execution_count": 50
        }
      ],
      "source": [
        "all_articles = articles_df['text'].to_list()\n",
        "all_articles[:5]"
      ]
    },
    {
      "cell_type": "code",
      "execution_count": 51,
      "metadata": {
        "colab": {
          "base_uri": "https://localhost:8080/"
        },
        "id": "hkFZ7sD4UdpD",
        "outputId": "7175a696-8aac-4a5a-89a9-3e903302e578"
      },
      "outputs": [
        {
          "output_type": "stream",
          "name": "stdout",
          "text": [
            "original document: \n",
            "Архиепископ канонической Украинской православной церкви Московского патриархата (УПЦ МП) Лонгин отказался участвовать в «объединительном соборе» по приглашению Вселенского патриарха Варфоломея. Он назвал это мероприятие «собором нечестивых» и «сатанинским сборищем». Об этом говорится в его письме, выдержки из которого публикует «Страна». Священнослужитель подчеркнул, что архиереи УПЦ МП против этого собрания. «Если Вы называете себя Матерью всех Церквей, то почему Вы отдали на поругание наши Православные святыни, на растерзание истинную Православную Церковь наших братьев сослужителей, допустили мучение и пытание священников?» — написал Лонгин. В своем послании он также осудил снятие анафемы с предстоятеля неканонической УПЦ Киевского патриархата Филарета. «То, что произошло на синоде в Стамбуле, шокировало весь Православный мир», — отметил архиепископ. «Объединительный собор», инициированный президентом Украины Петром Порошенко и патриархом Варфоломеем, пройдет 15 декабря в Софийском соборе Киева, передает РИА Новости. На нем изберут предстоятеля «единой церкви» и примут ее устав. Церковный раскол на Украине обострился несколько месяцев назад. В начале октября на Соборе Константинопольской церкви патриарх Варфоломей подтвердил свое намерение предоставить стране автокефалию, снял анафемы с глав раскольничьих церквей и восстановил свою юрисдикцию над Киевской митрополией. В связи с этим Русская православная церковь 15 октября разорвала евхаристическое общение со Вселенским патриархатом.\n",
            "original document, broken into words: \n",
            "['Архиепископ', 'канонической', 'Украинской', 'православной', 'церкви', 'Московского', 'патриархата', '(УПЦ', 'МП)', 'Лонгин', 'отказался', 'участвовать', 'в', '«объединительном', 'соборе»', 'по', 'приглашению', 'Вселенского', 'патриарха', 'Варфоломея.', 'Он', 'назвал', 'это', 'мероприятие', '«собором', 'нечестивых»', 'и', '«сатанинским', 'сборищем».', 'Об', 'этом', 'говорится', 'в', 'его', 'письме,', 'выдержки', 'из', 'которого', 'публикует', '«Страна».', 'Священнослужитель', 'подчеркнул,', 'что', 'архиереи', 'УПЦ', 'МП', 'против', 'этого', 'собрания.', '«Если', 'Вы', 'называете', 'себя', 'Матерью', 'всех', 'Церквей,', 'то', 'почему', 'Вы', 'отдали', 'на', 'поругание', 'наши', 'Православные', 'святыни,', 'на', 'растерзание', 'истинную', 'Православную', 'Церковь', 'наших', 'братьев', 'сослужителей,', 'допустили', 'мучение', 'и', 'пытание', 'священников?»', '—', 'написал', 'Лонгин.', 'В', 'своем', 'послании', 'он', 'также', 'осудил', 'снятие', 'анафемы', 'с', 'предстоятеля', 'неканонической', 'УПЦ', 'Киевского', 'патриархата', 'Филарета.', '«То,', 'что', 'произошло', 'на', 'синоде', 'в', 'Стамбуле,', 'шокировало', 'весь', 'Православный', 'мир»,', '—', 'отметил', 'архиепископ.', '«Объединительный', 'собор»,', 'инициированный', 'президентом', 'Украины', 'Петром', 'Порошенко', 'и', 'патриархом', 'Варфоломеем,', 'пройдет', '15', 'декабря', 'в', 'Софийском', 'соборе', 'Киева,', 'передает', 'РИА', 'Новости.', 'На', 'нем', 'изберут', 'предстоятеля', '«единой', 'церкви»', 'и', 'примут', 'ее', 'устав.', 'Церковный', 'раскол', 'на', 'Украине', 'обострился', 'несколько', 'месяцев', 'назад.', 'В', 'начале', 'октября', 'на', 'Соборе', 'Константинопольской', 'церкви', 'патриарх', 'Варфоломей', 'подтвердил', 'свое', 'намерение', 'предоставить', 'стране', 'автокефалию,', 'снял', 'анафемы', 'с', 'глав', 'раскольничьих', 'церквей', 'и', 'восстановил', 'свою', 'юрисдикцию', 'над', 'Киевской', 'митрополией.', 'В', 'связи', 'с', 'этим', 'Русская', 'православная', 'церковь', '15', 'октября', 'разорвала', 'евхаристическое', 'общение', 'со', 'Вселенским', 'патриархатом.']\n",
            "Vocabulary size of the original article: 166\n",
            "\n",
            "\n",
            " tokenized and lemmatized document: \n",
            "['архиепископ', 'каноническ', 'украинск', 'православн', 'церкв', 'московск', 'патриархат', 'лонгин', 'отказа', 'участвова', 'объединительн', 'собор', 'приглашен', 'вселенск', 'патриарх', 'варфоломе', 'назва', 'мероприят', 'собор', 'нечестив', 'сатанинск', 'сборищ', 'говор', 'письм', 'выдержк', 'котор', 'публик', 'стран', 'подчеркнул', 'архиер', 'прот', 'собран', 'называ', 'матер', 'церкв', 'поч', 'отда', 'поруган', 'наш', 'православн', 'святын', 'растерзан', 'истин', 'православн', 'церков', 'наш', 'брат', 'сослужител', 'допуст', 'мучен', 'пытан', 'священник', 'написа', 'лонгин', 'сво', 'послан', 'такж', 'осуд', 'снят', 'анафем', 'предстоятел', 'неканоническ', 'киевск', 'патриархат', 'филарет', 'произошл', 'синод', 'стамбул', 'шокирова', 'ве', 'православн', 'отмет', 'архиепископ', 'объединительн', 'собор', 'инициирова', 'президент', 'украин', 'петр', 'порошенк', 'патриарх', 'варфоломе', 'пройдет', 'декабр', 'софийск', 'собор', 'киев', 'переда', 'новост', 'изберут', 'предстоятел', 'един', 'церкв', 'примут', 'уста', 'церковн', 'раскол', 'украин', 'обостр', 'нескольк', 'месяц', 'назад', 'начал', 'октябр', 'собор', 'церкв', 'патриарх', 'варфолом', 'подтверд', 'сво', 'намерен', 'предостав', 'стран', 'автокефал', 'снял', 'анафем', 'глав', 'раскольнич', 'церкв', 'восстанов', 'юрисдикц', 'киевск', 'митропол', 'связ', 'эт', 'русск', 'православн', 'церков', 'октябр', 'разорва', 'евхаристическ', 'общен', 'вселенск', 'патриархат']\n",
            "Vocabulary size after preprocessing: 104\n"
          ]
        },
        {
          "output_type": "stream",
          "name": "stderr",
          "text": [
            "/usr/local/lib/python3.10/dist-packages/ipykernel/ipkernel.py:283: DeprecationWarning: `should_run_async` will not call `transform_cell` automatically in the future. Please pass the result to `transformed_cell` argument and any exception that happen during thetransform in `preprocessing_exc_tuple` in IPython 7.17 and above.\n",
            "  and should_run_async(code)\n"
          ]
        }
      ],
      "source": [
        "print('original document: ')\n",
        "article = choice(all_articles)\n",
        "print(article)\n",
        "\n",
        "# This time, we don't care about punctuations as tokens (Can you think why?):\n",
        "print('original document, broken into words: ')\n",
        "words = [word for word in article.split(' ')]\n",
        "print(words)\n",
        "print(\"Vocabulary size of the original article:\", len(set(words)))\n",
        "\n",
        "# now let's see what happens when we pass the article into our preprocessing\n",
        "# method:\n",
        "print('\\n\\n tokenized and lemmatized document: ')\n",
        "preprocessed_article = preprocess(article)\n",
        "print(preprocessed_article)\n",
        "print(\"Vocabulary size after preprocessing:\", len(set(preprocessed_article)))\n"
      ]
    },
    {
      "cell_type": "markdown",
      "metadata": {
        "id": "zBQ1G_n_OjFo"
      },
      "source": [
        "Now let's pre-process all of the articles.\n",
        "\n",
        "This is a heavy procedure, and may take a bit ;)"
      ]
    },
    {
      "cell_type": "code",
      "execution_count": 52,
      "metadata": {
        "colab": {
          "base_uri": "https://localhost:8080/"
        },
        "id": "WCX5X09bOkuq",
        "outputId": "981038fa-804f-471e-9691-a8a4320715b8"
      },
      "outputs": [
        {
          "output_type": "stream",
          "name": "stderr",
          "text": [
            "/usr/local/lib/python3.10/dist-packages/ipykernel/ipkernel.py:283: DeprecationWarning: `should_run_async` will not call `transform_cell` automatically in the future. Please pass the result to `transformed_cell` argument and any exception that happen during thetransform in `preprocessing_exc_tuple` in IPython 7.17 and above.\n",
            "  and should_run_async(code)\n"
          ]
        },
        {
          "output_type": "execute_result",
          "data": {
            "text/plain": [
              "[['виц',\n",
              "  'премьер',\n",
              "  'социальн',\n",
              "  'вопрос',\n",
              "  'татья',\n",
              "  'голиков',\n",
              "  'рассказа',\n",
              "  'как',\n",
              "  'регион',\n",
              "  'росс',\n",
              "  'зафиксирова',\n",
              "  'наибол',\n",
              "  'высок',\n",
              "  'смертност',\n",
              "  'рак',\n",
              "  'сообща',\n",
              "  'новост',\n",
              "  'слов',\n",
              "  'голиков',\n",
              "  'чащ',\n",
              "  'онкологическ',\n",
              "  'заболеван',\n",
              "  'станов',\n",
              "  'причин',\n",
              "  'смерт',\n",
              "  'псковск',\n",
              "  'тверск',\n",
              "  'тульск',\n",
              "  'орловск',\n",
              "  'област',\n",
              "  'такж',\n",
              "  'севастопол',\n",
              "  'виц',\n",
              "  'премьер',\n",
              "  'напомн',\n",
              "  'главн',\n",
              "  'фактор',\n",
              "  'смертност',\n",
              "  'росс',\n",
              "  'болезн',\n",
              "  'систем',\n",
              "  'кровообращен',\n",
              "  'начал',\n",
              "  'год',\n",
              "  'стал',\n",
              "  'известн',\n",
              "  'смертност',\n",
              "  'онкологическ',\n",
              "  'заболеван',\n",
              "  'сред',\n",
              "  'россия',\n",
              "  'сниз',\n",
              "  'вперв',\n",
              "  'год',\n",
              "  'дан',\n",
              "  'росстат',\n",
              "  'год',\n",
              "  'рак',\n",
              "  'умерл',\n",
              "  'тысяч',\n",
              "  'человек',\n",
              "  'процент',\n",
              "  'меньш',\n",
              "  'год',\n",
              "  'ран'],\n",
              " ['австрийск',\n",
              "  'орга',\n",
              "  'представ',\n",
              "  'доказательств',\n",
              "  'нарушен',\n",
              "  'российск',\n",
              "  'биатлонист',\n",
              "  'антидопингов',\n",
              "  'прав',\n",
              "  'сообщ',\n",
              "  'посол',\n",
              "  'росс',\n",
              "  'вен',\n",
              "  'дмитр',\n",
              "  'любинск',\n",
              "  'итог',\n",
              "  'встреч',\n",
              "  'уполномочен',\n",
              "  'адвокат',\n",
              "  'дипмисс',\n",
              "  'представител',\n",
              "  'прокуратур',\n",
              "  'стран',\n",
              "  'переда',\n",
              "  'тасс',\n",
              "  'действ',\n",
              "  'презумпц',\n",
              "  'невиновн',\n",
              "  'как',\n",
              "  'либ',\n",
              "  'ограничен',\n",
              "  'свобод',\n",
              "  'передвижен',\n",
              "  'команд',\n",
              "  'добав',\n",
              "  'посольств',\n",
              "  'международн',\n",
              "  'союз',\n",
              "  'биатлонист',\n",
              "  'такж',\n",
              "  'применя',\n",
              "  'санкц',\n",
              "  'российск',\n",
              "  'биатлонист',\n",
              "  'продолжат',\n",
              "  'выступлен',\n",
              "  'кубк',\n",
              "  'мир',\n",
              "  'полиц',\n",
              "  'нагрянул',\n",
              "  'отел',\n",
              "  'сборн',\n",
              "  'росс',\n",
              "  'хохфильцен',\n",
              "  'вечер',\n",
              "  'декабр',\n",
              "  'написа',\n",
              "  'биатлонист',\n",
              "  'александр',\n",
              "  'логин',\n",
              "  'счита',\n",
              "  'виновн',\n",
              "  'махинац',\n",
              "  'переливан',\n",
              "  'кров',\n",
              "  'биатлонист',\n",
              "  'антон',\n",
              "  'шипулин',\n",
              "  'такж',\n",
              "  'попа',\n",
              "  'список',\n",
              "  'полиц',\n",
              "  'нанесл',\n",
              "  'отдельн',\n",
              "  'виз',\n",
              "  'тренир',\n",
              "  'отдельн',\n",
              "  'австрийск',\n",
              "  'обертиллах',\n",
              "  'обвинен',\n",
              "  'спортсм',\n",
              "  'назва',\n",
              "  'бред',\n",
              "  'такж',\n",
              "  'указа',\n",
              "  'охот',\n",
              "  'ведьм',\n",
              "  'миров',\n",
              "  'биатлон',\n",
              "  'австр',\n",
              "  'при',\n",
              "  'допинг',\n",
              "  'уголовн',\n",
              "  'преступлен',\n",
              "  'максимальн',\n",
              "  'наказан',\n",
              "  'употреблен',\n",
              "  'год',\n",
              "  'тюрьм'],\n",
              " ['сотрудник',\n",
              "  'социальн',\n",
              "  'сет',\n",
              "  'instagram',\n",
              "  'поставлен',\n",
              "  'пользовател',\n",
              "  'смайлик',\n",
              "  'геолокац',\n",
              "  'хештег',\n",
              "  'опубликова',\n",
              "  'итог',\n",
              "  'год',\n",
              "  'сообща',\n",
              "  'официальн',\n",
              "  'сайт',\n",
              "  'instagram',\n",
              "  'так',\n",
              "  'образ',\n",
              "  'сам',\n",
              "  'счастлив',\n",
              "  'геолокац',\n",
              "  'instagram',\n",
              "  'призна',\n",
              "  'диснейленд',\n",
              "  'ток',\n",
              "  'счастлив',\n",
              "  'смайлик',\n",
              "  'год',\n",
              "  'пользовател',\n",
              "  'став',\n",
              "  'имен',\n",
              "  'фотограф',\n",
              "  'японск',\n",
              "  'диснейленд',\n",
              "  'такж',\n",
              "  'эксперт',\n",
              "  'назва',\n",
              "  'сам',\n",
              "  'популярн',\n",
              "  'фильтр',\n",
              "  'лиц',\n",
              "  'стал',\n",
              "  'фильтр',\n",
              "  'сердечк',\n",
              "  'глаз',\n",
              "  'например',\n",
              "  'сам',\n",
              "  'част',\n",
              "  'используем',\n",
              "  'хештег',\n",
              "  'год',\n",
              "  'metoo',\n",
              "  'timesup',\n",
              "  'ноябр',\n",
              "  'сотрудник',\n",
              "  'британск',\n",
              "  'ассоциац',\n",
              "  'потребител',\n",
              "  'which',\n",
              "  'состав',\n",
              "  'рейтинг',\n",
              "  'сам',\n",
              "  'безопасн',\n",
              "  'стран',\n",
              "  'путешеств',\n",
              "  'специалист',\n",
              "  'сам',\n",
              "  'популярн',\n",
              "  'туристическ',\n",
              "  'направлен',\n",
              "  'четыр',\n",
              "  'критер',\n",
              "  'уровен',\n",
              "  'преступн',\n",
              "  'угроз',\n",
              "  'здоров',\n",
              "  'вероятн',\n",
              "  'теракт',\n",
              "  'стихийн',\n",
              "  'бедств',\n",
              "  'сам',\n",
              "  'безопасн',\n",
              "  'стран',\n",
              "  'всем',\n",
              "  'параметр',\n",
              "  'стал',\n",
              "  'исланд'],\n",
              " ['нача',\n",
              "  'расследован',\n",
              "  'российск',\n",
              "  'вмешательств',\n",
              "  'выбор',\n",
              "  'власт',\n",
              "  'потрат',\n",
              "  'миллион',\n",
              "  'доллар',\n",
              "  'сообща',\n",
              "  'associated',\n",
              "  'press',\n",
              "  'ссылк',\n",
              "  'отчет',\n",
              "  'министерств',\n",
              "  'юстиц',\n",
              "  'документ',\n",
              "  'содержат',\n",
              "  'дан',\n",
              "  'расход',\n",
              "  'следств',\n",
              "  'апрел',\n",
              "  'сентябр',\n",
              "  'год',\n",
              "  'полгод',\n",
              "  'потрач',\n",
              "  'миллион',\n",
              "  'доллар',\n",
              "  'котор',\n",
              "  'миллион',\n",
              "  'доллар',\n",
              "  'ушл',\n",
              "  'зарплат',\n",
              "  'сотрудник',\n",
              "  'тысяч',\n",
              "  'поездк',\n",
              "  'сопутств',\n",
              "  'расход',\n",
              "  'ран',\n",
              "  'минюст',\n",
              "  'публикова',\n",
              "  'отчет',\n",
              "  'затрат',\n",
              "  'дел',\n",
              "  'российск',\n",
              "  'вмешательств',\n",
              "  'предыдущ',\n",
              "  'месяц',\n",
              "  'декабр',\n",
              "  'расследован',\n",
              "  'спецпрокурор',\n",
              "  'робер',\n",
              "  'мюллер',\n",
              "  'показа',\n",
              "  'меньш',\n",
              "  'мер',\n",
              "  'человек',\n",
              "  'окружен',\n",
              "  'президент',\n",
              "  'дональд',\n",
              "  'трамп',\n",
              "  'контактирова',\n",
              "  'россиян',\n",
              "  'врем',\n",
              "  'избирательн',\n",
              "  'кампан',\n",
              "  'послед',\n",
              "  'переходн',\n",
              "  'период',\n",
              "  'вступлен',\n",
              "  'должност',\n",
              "  'глав',\n",
              "  'государств',\n",
              "  'мюллер',\n",
              "  'год',\n",
              "  'ведет',\n",
              "  'дел',\n",
              "  'якоб',\n",
              "  'российск',\n",
              "  'вмешательств',\n",
              "  'американск',\n",
              "  'выбор',\n",
              "  'поставл',\n",
              "  'задач',\n",
              "  'выясн',\n",
              "  'сговор',\n",
              "  'штаб',\n",
              "  'трамп',\n",
              "  'росс',\n",
              "  'кремл',\n",
              "  'бел',\n",
              "  'отверга',\n",
              "  'обвинен',\n",
              "  'росс',\n",
              "  'неоднократн',\n",
              "  'обвиня',\n",
              "  'вмешательств',\n",
              "  'выбор',\n",
              "  'президент',\n",
              "  'помощ',\n",
              "  'хакер',\n",
              "  'июн',\n",
              "  'спецслужб',\n",
              "  'выдвинул',\n",
              "  'заочн',\n",
              "  'обвинен',\n",
              "  'российск',\n",
              "  'разведчик',\n",
              "  'дан',\n",
              "  'спецслужб',\n",
              "  'российск',\n",
              "  'разведк',\n",
              "  'использова',\n",
              "  'хакерск',\n",
              "  'группировк',\n",
              "  'взлом',\n",
              "  'сервер',\n",
              "  'демократическ',\n",
              "  'парт'],\n",
              " ['хакерск',\n",
              "  'группировк',\n",
              "  'anonymous',\n",
              "  'опубликова',\n",
              "  'нов',\n",
              "  'документ',\n",
              "  'деятельн',\n",
              "  'британск',\n",
              "  'аналитическ',\n",
              "  'центр',\n",
              "  'integrity',\n",
              "  'initiative',\n",
              "  'материал',\n",
              "  'след',\n",
              "  'центр',\n",
              "  'получа',\n",
              "  'финансирован',\n",
              "  'нек',\n",
              "  'институт',\n",
              "  'управлен',\n",
              "  'руководств',\n",
              "  'кристофер',\n",
              "  'доннелл',\n",
              "  'хакер',\n",
              "  'вылож',\n",
              "  'открыт',\n",
              "  'доступ',\n",
              "  'паспорт',\n",
              "  'резюм',\n",
              "  'такж',\n",
              "  'сведен',\n",
              "  'связ',\n",
              "  'министерств',\n",
              "  'оборон',\n",
              "  'великобритан',\n",
              "  'согласн',\n",
              "  'документ',\n",
              "  'год',\n",
              "  'доннелл',\n",
              "  'выдвинул',\n",
              "  'предложен',\n",
              "  'британск',\n",
              "  'власт',\n",
              "  'связ',\n",
              "  'ситуац',\n",
              "  'крым',\n",
              "  'частност',\n",
              "  'планирова',\n",
              "  'заминирова',\n",
              "  'севастопольск',\n",
              "  'бухт',\n",
              "  'окруж',\n",
              "  'полуостр',\n",
              "  'войск',\n",
              "  'такж',\n",
              "  'уничтож',\n",
              "  'оста',\n",
              "  'крым',\n",
              "  'самолет',\n",
              "  'знак',\n",
              "  'серьезн',\n",
              "  'намерен',\n",
              "  'публикац',\n",
              "  'заметк',\n",
              "  'част',\n",
              "  'документ',\n",
              "  'котор',\n",
              "  'член',\n",
              "  'группировк',\n",
              "  'ссыла',\n",
              "  'сво',\n",
              "  'расследован',\n",
              "  'удал',\n",
              "  'такж',\n",
              "  'хакер',\n",
              "  'утвержда',\n",
              "  'доннелл',\n",
              "  'инициатор',\n",
              "  'расследован',\n",
              "  'российск',\n",
              "  'вмешательств',\n",
              "  'референдум',\n",
              "  'независим',\n",
              "  'каталон',\n",
              "  'приглас',\n",
              "  'член',\n",
              "  'испанск',\n",
              "  'отделен',\n",
              "  'integrity',\n",
              "  'initiative',\n",
              "  'качеств',\n",
              "  'свидетел',\n",
              "  'дан',\n",
              "  'группировк',\n",
              "  'доннелл',\n",
              "  'получа',\n",
              "  'деньг',\n",
              "  'министерств',\n",
              "  'иностра',\n",
              "  'великобритан',\n",
              "  'британск',\n",
              "  'разведк',\n",
              "  'плат',\n",
              "  'собствен',\n",
              "  'агент',\n",
              "  'фальшив',\n",
              "  'доказательств',\n",
              "  'вмешательств',\n",
              "  'росс',\n",
              "  'каталонск',\n",
              "  'референдум',\n",
              "  'зат',\n",
              "  'приказа',\n",
              "  'солга',\n",
              "  'парламент',\n",
              "  'цел',\n",
              "  'убед',\n",
              "  'предприня',\n",
              "  'антироссийск',\n",
              "  'шаг',\n",
              "  'пишут',\n",
              "  'хакер',\n",
              "  'член',\n",
              "  'anonymous',\n",
              "  'опубликова',\n",
              "  'част',\n",
              "  'документ',\n",
              "  'связа',\n",
              "  'деятельн',\n",
              "  'кристофер',\n",
              "  'доннелл',\n",
              "  'расследован',\n",
              "  'великобритан',\n",
              "  'отношен',\n",
              "  'integrity',\n",
              "  'initiative',\n",
              "  'даст',\n",
              "  'результат',\n",
              "  'пригроз',\n",
              "  'вылож',\n",
              "  'нов',\n",
              "  'доказательств',\n",
              "  'доннелл',\n",
              "  'тесн',\n",
              "  'взаимодейств',\n",
              "  'британск',\n",
              "  'спецслужб',\n",
              "  'использ',\n",
              "  'сво',\n",
              "  'положен',\n",
              "  'влиян',\n",
              "  'политик',\n",
              "  'стран',\n",
              "  'ноябр',\n",
              "  'anonymous',\n",
              "  'вперв',\n",
              "  'опубликова',\n",
              "  'документ',\n",
              "  'integrity',\n",
              "  'initiative',\n",
              "  'котор',\n",
              "  'содержат',\n",
              "  'инструкц',\n",
              "  'борьб',\n",
              "  'российск',\n",
              "  'пропаганд',\n",
              "  'пример',\n",
              "  'дезинформац',\n",
              "  'сторон',\n",
              "  'москв',\n",
              "  'хакер',\n",
              "  'утвержда',\n",
              "  'проект',\n",
              "  'финансир',\n",
              "  'правительств',\n",
              "  'великобритан',\n",
              "  'работа',\n",
              "  'сраз',\n",
              "  'нескольк',\n",
              "  'стран',\n",
              "  'числ',\n",
              "  'герман',\n",
              "  'франц',\n",
              "  'испан'],\n",
              " ['архиепископ',\n",
              "  'каноническ',\n",
              "  'украинск',\n",
              "  'православн',\n",
              "  'церкв',\n",
              "  'московск',\n",
              "  'патриархат',\n",
              "  'лонгин',\n",
              "  'отказа',\n",
              "  'участвова',\n",
              "  'объединительн',\n",
              "  'собор',\n",
              "  'приглашен',\n",
              "  'вселенск',\n",
              "  'патриарх',\n",
              "  'варфоломе',\n",
              "  'назва',\n",
              "  'мероприят',\n",
              "  'собор',\n",
              "  'нечестив',\n",
              "  'сатанинск',\n",
              "  'сборищ',\n",
              "  'говор',\n",
              "  'письм',\n",
              "  'выдержк',\n",
              "  'котор',\n",
              "  'публик',\n",
              "  'стран',\n",
              "  'подчеркнул',\n",
              "  'архиер',\n",
              "  'прот',\n",
              "  'собран',\n",
              "  'называ',\n",
              "  'матер',\n",
              "  'церкв',\n",
              "  'поч',\n",
              "  'отда',\n",
              "  'поруган',\n",
              "  'наш',\n",
              "  'православн',\n",
              "  'святын',\n",
              "  'растерзан',\n",
              "  'истин',\n",
              "  'православн',\n",
              "  'церков',\n",
              "  'наш',\n",
              "  'брат',\n",
              "  'сослужител',\n",
              "  'допуст',\n",
              "  'мучен',\n",
              "  'пытан',\n",
              "  'священник',\n",
              "  'написа',\n",
              "  'лонгин',\n",
              "  'сво',\n",
              "  'послан',\n",
              "  'такж',\n",
              "  'осуд',\n",
              "  'снят',\n",
              "  'анафем',\n",
              "  'предстоятел',\n",
              "  'неканоническ',\n",
              "  'киевск',\n",
              "  'патриархат',\n",
              "  'филарет',\n",
              "  'произошл',\n",
              "  'синод',\n",
              "  'стамбул',\n",
              "  'шокирова',\n",
              "  'ве',\n",
              "  'православн',\n",
              "  'отмет',\n",
              "  'архиепископ',\n",
              "  'объединительн',\n",
              "  'собор',\n",
              "  'инициирова',\n",
              "  'президент',\n",
              "  'украин',\n",
              "  'петр',\n",
              "  'порошенк',\n",
              "  'патриарх',\n",
              "  'варфоломе',\n",
              "  'пройдет',\n",
              "  'декабр',\n",
              "  'софийск',\n",
              "  'собор',\n",
              "  'киев',\n",
              "  'переда',\n",
              "  'новост',\n",
              "  'изберут',\n",
              "  'предстоятел',\n",
              "  'един',\n",
              "  'церкв',\n",
              "  'примут',\n",
              "  'уста',\n",
              "  'церковн',\n",
              "  'раскол',\n",
              "  'украин',\n",
              "  'обостр',\n",
              "  'нескольк',\n",
              "  'месяц',\n",
              "  'назад',\n",
              "  'начал',\n",
              "  'октябр',\n",
              "  'собор',\n",
              "  'церкв',\n",
              "  'патриарх',\n",
              "  'варфолом',\n",
              "  'подтверд',\n",
              "  'сво',\n",
              "  'намерен',\n",
              "  'предостав',\n",
              "  'стран',\n",
              "  'автокефал',\n",
              "  'снял',\n",
              "  'анафем',\n",
              "  'глав',\n",
              "  'раскольнич',\n",
              "  'церкв',\n",
              "  'восстанов',\n",
              "  'юрисдикц',\n",
              "  'киевск',\n",
              "  'митропол',\n",
              "  'связ',\n",
              "  'эт',\n",
              "  'русск',\n",
              "  'православн',\n",
              "  'церков',\n",
              "  'октябр',\n",
              "  'разорва',\n",
              "  'евхаристическ',\n",
              "  'общен',\n",
              "  'вселенск',\n",
              "  'патриархат'],\n",
              " ['российск',\n",
              "  'молодеж',\n",
              "  'усво',\n",
              "  'духовн',\n",
              "  'ценност',\n",
              "  'распространя',\n",
              "  'интернет',\n",
              "  'социальн',\n",
              "  'сет',\n",
              "  'инициатив',\n",
              "  'выступ',\n",
              "  'глав',\n",
              "  'федеральн',\n",
              "  'агентств',\n",
              "  'дел',\n",
              "  'молодеж',\n",
              "  'александр',\n",
              "  'буга',\n",
              "  'ход',\n",
              "  'религиозн',\n",
              "  'форум',\n",
              "  'росс',\n",
              "  'будущ',\n",
              "  'переда',\n",
              "  'рад',\n",
              "  'говор',\n",
              "  'москв',\n",
              "  'буга',\n",
              "  'отмет',\n",
              "  'раньш',\n",
              "  'функц',\n",
              "  'справля',\n",
              "  'плакат',\n",
              "  'котор',\n",
              "  'повес',\n",
              "  'учебн',\n",
              "  'заведен',\n",
              "  'однак',\n",
              "  'настоя',\n",
              "  'врем',\n",
              "  'недостаточн',\n",
              "  'намн',\n",
              "  'эффективн',\n",
              "  'хорош',\n",
              "  'добр',\n",
              "  'цен',\n",
              "  'расскаж',\n",
              "  'социальн',\n",
              "  'групп',\n",
              "  'интернет',\n",
              "  'помощ',\n",
              "  'мессенджер',\n",
              "  'неформальн',\n",
              "  'объединен',\n",
              "  'молодеж',\n",
              "  'котор',\n",
              "  'зачаст',\n",
              "  'охватыва',\n",
              "  'огромн',\n",
              "  'количеств',\n",
              "  'люд',\n",
              "  'сказа',\n",
              "  'слов',\n",
              "  'чиновник',\n",
              "  'современ',\n",
              "  'способ',\n",
              "  'распространен',\n",
              "  'информац',\n",
              "  'помогут',\n",
              "  'молод',\n",
              "  'люд',\n",
              "  'уясн',\n",
              "  'моральн',\n",
              "  'ценност',\n",
              "  'стал',\n",
              "  'известн',\n",
              "  'российск',\n",
              "  'школ',\n",
              "  'могут',\n",
              "  'нача',\n",
              "  'преподава',\n",
              "  'нов',\n",
              "  'курс',\n",
              "  'ученик',\n",
              "  'родител',\n",
              "  'семейн',\n",
              "  'уклад',\n",
              "  'рамк',\n",
              "  'курс',\n",
              "  'дет',\n",
              "  'будут',\n",
              "  'изуча',\n",
              "  'основ',\n",
              "  'семейн',\n",
              "  'психолог',\n",
              "  'мужск',\n",
              "  'женск',\n",
              "  'культур',\n",
              "  'семейн',\n",
              "  'уклад',\n",
              "  'здоров',\n",
              "  'образ',\n",
              "  'жизн',\n",
              "  'духовн',\n",
              "  'нравствен',\n",
              "  'развит',\n",
              "  'подготовк',\n",
              "  'будущ',\n",
              "  'родительств',\n",
              "  'друг',\n",
              "  'тем'],\n",
              " ['полицейск',\n",
              "  'алекс',\n",
              "  'коллинс',\n",
              "  'трейс',\n",
              "  'холлоуэ',\n",
              "  'оказа',\n",
              "  'перв',\n",
              "  'помощ',\n",
              "  'серг',\n",
              "  'скрипал',\n",
              "  'дочер',\n",
              "  'юл',\n",
              "  'рассказа',\n",
              "  'подробн',\n",
              "  'обнаруж',\n",
              "  'констебл',\n",
              "  'сержант',\n",
              "  'подел',\n",
              "  'воспоминан',\n",
              "  'газет',\n",
              "  'guardian',\n",
              "  'слов',\n",
              "  'страж',\n",
              "  'порядк',\n",
              "  'дежурств',\n",
              "  'нача',\n",
              "  'четверт',\n",
              "  'полиц',\n",
              "  'поступ',\n",
              "  'сообщен',\n",
              "  'пожил',\n",
              "  'мужчин',\n",
              "  'молод',\n",
              "  'женщин',\n",
              "  'котор',\n",
              "  'стал',\n",
              "  'плох',\n",
              "  'улиц',\n",
              "  'наряд',\n",
              "  'приб',\n",
              "  'мест',\n",
              "  'минут',\n",
              "  'состоян',\n",
              "  'пострада',\n",
              "  'сраз',\n",
              "  'показа',\n",
              "  'сотрудник',\n",
              "  'орган',\n",
              "  'стран',\n",
              "  'коллинс',\n",
              "  'отмет',\n",
              "  'женщин',\n",
              "  'юл',\n",
              "  'лежа',\n",
              "  'земл',\n",
              "  'бок',\n",
              "  'прохож',\n",
              "  'врач',\n",
              "  'специальн',\n",
              "  'оказыва',\n",
              "  'помощ',\n",
              "  'освобожд',\n",
              "  'дыхательн',\n",
              "  'пут',\n",
              "  'мужчин',\n",
              "  'скрипал',\n",
              "  'сидел',\n",
              "  'скамейк',\n",
              "  'неподвижн',\n",
              "  'кататоническ',\n",
              "  'ступор',\n",
              "  'гляд',\n",
              "  'пространств',\n",
              "  'дыша',\n",
              "  'отзыва',\n",
              "  'наш',\n",
              "  'перв',\n",
              "  'мысл',\n",
              "  'наркотик',\n",
              "  'поясн',\n",
              "  'констебл',\n",
              "  'холлоуэ',\n",
              "  'добав',\n",
              "  'скрипал',\n",
              "  'сохраня',\n",
              "  'поз',\n",
              "  'медик',\n",
              "  'пыта',\n",
              "  'погруз',\n",
              "  'носилк',\n",
              "  'слов',\n",
              "  'заст',\n",
              "  'сидяч',\n",
              "  'положен',\n",
              "  'пошевел',\n",
              "  'измен',\n",
              "  'положен',\n",
              "  'коллинс',\n",
              "  'рассказа',\n",
              "  'осмотрел',\n",
              "  'скрипал',\n",
              "  'перчатк',\n",
              "  'холлоуэ',\n",
              "  'всяк',\n",
              "  'защит',\n",
              "  'обыска',\n",
              "  'установ',\n",
              "  'личност',\n",
              "  'найден',\n",
              "  'вещ',\n",
              "  'озадач',\n",
              "  'полицейск',\n",
              "  'заглянул',\n",
              "  'кошельк',\n",
              "  'пыт',\n",
              "  'найт',\n",
              "  'паспорт',\n",
              "  'телефон',\n",
              "  'русскоязычн',\n",
              "  'интерфейс',\n",
              "  'им',\n",
              "  'незнаком',\n",
              "  'стран',\n",
              "  'неправильн',\n",
              "  'нормальн',\n",
              "  'вспомина',\n",
              "  'сержант',\n",
              "  'страж',\n",
              "  'порядк',\n",
              "  'приказа',\n",
              "  'прохож',\n",
              "  'отойт',\n",
              "  'вызва',\n",
              "  'медик',\n",
              "  'наряд',\n",
              "  'пожарн',\n",
              "  'костюм',\n",
              "  'химзащит',\n",
              "  'март',\n",
              "  'бывш',\n",
              "  'офицер',\n",
              "  'серг',\n",
              "  'скрипал',\n",
              "  'доч',\n",
              "  'юл',\n",
              "  'найд',\n",
              "  'бессознательн',\n",
              "  'состоян',\n",
              "  'сквер',\n",
              "  'британск',\n",
              "  'солсбер',\n",
              "  'лондон',\n",
              "  'счита',\n",
              "  'отравл',\n",
              "  'нервн',\n",
              "  'паралитическ',\n",
              "  'веществ',\n",
              "  'класс',\n",
              "  'новичок',\n",
              "  'британск',\n",
              "  'власт',\n",
              "  'обвиня',\n",
              "  'причастн',\n",
              "  'отравлен',\n",
              "  'росс',\n",
              "  'москв',\n",
              "  'обвинен',\n",
              "  'отверга'],\n",
              " ['миноборон',\n",
              "  'опубликова',\n",
              "  'youtube',\n",
              "  'виде',\n",
              "  'полет',\n",
              "  'российск',\n",
              "  'стратегическ',\n",
              "  'отправлен',\n",
              "  'венесуэл',\n",
              "  'вод',\n",
              "  'карибск',\n",
              "  'мор',\n",
              "  'пилот',\n",
              "  'провел',\n",
              "  'неб',\n",
              "  'час',\n",
              "  'некотор',\n",
              "  'этап',\n",
              "  'маршрут',\n",
              "  'российск',\n",
              "  'ракетоносц',\n",
              "  'работа',\n",
              "  'совместн',\n",
              "  'истребител',\n",
              "  'национальн',\n",
              "  'боливарианск',\n",
              "  'воен',\n",
              "  'авиац',\n",
              "  'летчик',\n",
              "  'двух',\n",
              "  'стран',\n",
              "  'отработа',\n",
              "  'взаимодейств',\n",
              "  'выполнен',\n",
              "  'полетн',\n",
              "  'задан',\n",
              "  'отмеча',\n",
              "  'ведомств',\n",
              "  'ролик',\n",
              "  'стран',\n",
              "  'направл',\n",
              "  'стратегическ',\n",
              "  'ракетоносц',\n",
              "  'тяжел',\n",
              "  'воен',\n",
              "  'транспортн',\n",
              "  'самолет',\n",
              "  'самолет',\n",
              "  'российск',\n",
              "  'воздушн',\n",
              "  'космическ',\n",
              "  'переда',\n",
              "  'тасс',\n",
              "  'декабр',\n",
              "  'покинул',\n",
              "  'государств',\n",
              "  'полетел',\n",
              "  'домашн',\n",
              "  'баз',\n",
              "  'сверхзвуков',\n",
              "  'стратегическ',\n",
              "  'бомбардировщик',\n",
              "  'ракетоносец',\n",
              "  'изменя',\n",
              "  'геометр',\n",
              "  'крыл',\n",
              "  'явля',\n",
              "  'сам',\n",
              "  'крупн',\n",
              "  'мощн',\n",
              "  'тяжел',\n",
              "  'боев',\n",
              "  'сверхзвуков',\n",
              "  'самолет',\n",
              "  'мир'],\n",
              " ['директор',\n",
              "  'завод',\n",
              "  'электроприбор',\n",
              "  'муталиб',\n",
              "  'эмиралиев',\n",
              "  'обвин',\n",
              "  'уклонен',\n",
              "  'уплат',\n",
              "  'налог',\n",
              "  'хищен',\n",
              "  'бюджетн',\n",
              "  'средств',\n",
              "  'общ',\n",
              "  'сложност',\n",
              "  'миллион',\n",
              "  'рубл',\n",
              "  'сообща',\n",
              "  'извест',\n",
              "  'год',\n",
              "  'эмирал',\n",
              "  'выигра',\n",
              "  'государствен',\n",
              "  'контракт',\n",
              "  'министерств',\n",
              "  'оборон',\n",
              "  'росс',\n",
              "  'ремонт',\n",
              "  'зенитн',\n",
              "  'ракетн',\n",
              "  'комплекс',\n",
              "  'форт',\n",
              "  'мурманск',\n",
              "  'подрядчик',\n",
              "  'долж',\n",
              "  'замен',\n",
              "  'вышедш',\n",
              "  'стро',\n",
              "  'блок',\n",
              "  'ячейк',\n",
              "  'плат',\n",
              "  'друг',\n",
              "  'высокоточн',\n",
              "  'механизм',\n",
              "  'вооружен',\n",
              "  'общ',\n",
              "  'стоимост',\n",
              "  'комплект',\n",
              "  'оцен',\n",
              "  'миллион',\n",
              "  'рубл',\n",
              "  'верс',\n",
              "  'следств',\n",
              "  'эмирал',\n",
              "  'наня',\n",
              "  'выходц',\n",
              "  'украин',\n",
              "  'котор',\n",
              "  'бесценок',\n",
              "  'сдела',\n",
              "  'косметическ',\n",
              "  'ремонт',\n",
              "  'оборудован',\n",
              "  'предостав',\n",
              "  'миноборон',\n",
              "  'поддельн',\n",
              "  'документ',\n",
              "  'подтвержден',\n",
              "  'расход',\n",
              "  'согласн',\n",
              "  'котор',\n",
              "  'оруд',\n",
              "  'якоб',\n",
              "  'вывоз',\n",
              "  'ремонт',\n",
              "  'пенз',\n",
              "  'вернул',\n",
              "  'обратн',\n",
              "  'пригодн',\n",
              "  'использован',\n",
              "  'эмирал',\n",
              "  'потрат',\n",
              "  'ремонт',\n",
              "  'ход',\n",
              "  'расследован',\n",
              "  'обнаруж',\n",
              "  'обвиня',\n",
              "  'использова',\n",
              "  'похож',\n",
              "  'схем',\n",
              "  'выполнен',\n",
              "  'госконтракт',\n",
              "  'ремонт',\n",
              "  'одн',\n",
              "  'объект',\n",
              "  'противоракетн',\n",
              "  'оборон',\n",
              "  'московск',\n",
              "  'област',\n",
              "  'помим',\n",
              "  'вменя',\n",
              "  'уклонен',\n",
              "  'уплат',\n",
              "  'налог',\n",
              "  'сумм',\n",
              "  'миллион',\n",
              "  'рубл',\n",
              "  'стал',\n",
              "  'повод',\n",
              "  'нача',\n",
              "  'расследован',\n",
              "  'следовател',\n",
              "  'полага',\n",
              "  'эмиралиев',\n",
              "  'сто',\n",
              "  'чиновник',\n",
              "  'миноборон',\n",
              "  'причастн',\n",
              "  'организац',\n",
              "  'схем',\n",
              "  'хищен',\n",
              "  'бюджетн',\n",
              "  'средств',\n",
              "  'выполнен',\n",
              "  'госзаказ',\n",
              "  'зенитн',\n",
              "  'ракетн',\n",
              "  'комплекс',\n",
              "  'форт',\n",
              "  'предназнач',\n",
              "  'установк',\n",
              "  'боев',\n",
              "  'корабл',\n",
              "  'воен',\n",
              "  'морск',\n",
              "  'флот',\n",
              "  'частност',\n",
              "  'так',\n",
              "  'вооружен',\n",
              "  'использ',\n",
              "  'тяжел',\n",
              "  'атомн',\n",
              "  'крейсер',\n",
              "  'петр',\n",
              "  'велик',\n",
              "  'год',\n",
              "  'обнаруж',\n",
              "  'хищен',\n",
              "  'миллион',\n",
              "  'рубл',\n",
              "  'котор',\n",
              "  'произошл',\n",
              "  'ремонт',\n",
              "  'крейсер']]"
            ]
          },
          "metadata": {},
          "execution_count": 52
        }
      ],
      "source": [
        "processed_docs = list(map(preprocess, all_articles))\n",
        "# show the first 10 articles:\n",
        "processed_docs[:10]"
      ]
    },
    {
      "cell_type": "markdown",
      "metadata": {
        "id": "wSW7yeOMPkGL"
      },
      "source": [
        "Our preprocessing is complete.\n",
        "\n",
        "We now need to calculate the occurance frequencies of each of our stemmed words. But first, we will create a vocabulary dictionary where every word appears once. Every article would be represented as a bag-of-words, an unordered set of words that the article contain."
      ]
    },
    {
      "cell_type": "code",
      "source": [
        "for i, doc in enumerate(processed_docs):\n",
        "    print(f\"Document {i + 1}: {doc}\") #suggested by GPT"
      ],
      "metadata": {
        "colab": {
          "base_uri": "https://localhost:8080/"
        },
        "id": "jkgu74o5H8mr",
        "outputId": "f86fdb77-df9e-4a4a-cb9f-54270b23f137"
      },
      "execution_count": 53,
      "outputs": [
        {
          "output_type": "stream",
          "name": "stdout",
          "text": [
            "Document 1: ['виц', 'премьер', 'социальн', 'вопрос', 'татья', 'голиков', 'рассказа', 'как', 'регион', 'росс', 'зафиксирова', 'наибол', 'высок', 'смертност', 'рак', 'сообща', 'новост', 'слов', 'голиков', 'чащ', 'онкологическ', 'заболеван', 'станов', 'причин', 'смерт', 'псковск', 'тверск', 'тульск', 'орловск', 'област', 'такж', 'севастопол', 'виц', 'премьер', 'напомн', 'главн', 'фактор', 'смертност', 'росс', 'болезн', 'систем', 'кровообращен', 'начал', 'год', 'стал', 'известн', 'смертност', 'онкологическ', 'заболеван', 'сред', 'россия', 'сниз', 'вперв', 'год', 'дан', 'росстат', 'год', 'рак', 'умерл', 'тысяч', 'человек', 'процент', 'меньш', 'год', 'ран']\n",
            "Document 2: ['австрийск', 'орга', 'представ', 'доказательств', 'нарушен', 'российск', 'биатлонист', 'антидопингов', 'прав', 'сообщ', 'посол', 'росс', 'вен', 'дмитр', 'любинск', 'итог', 'встреч', 'уполномочен', 'адвокат', 'дипмисс', 'представител', 'прокуратур', 'стран', 'переда', 'тасс', 'действ', 'презумпц', 'невиновн', 'как', 'либ', 'ограничен', 'свобод', 'передвижен', 'команд', 'добав', 'посольств', 'международн', 'союз', 'биатлонист', 'такж', 'применя', 'санкц', 'российск', 'биатлонист', 'продолжат', 'выступлен', 'кубк', 'мир', 'полиц', 'нагрянул', 'отел', 'сборн', 'росс', 'хохфильцен', 'вечер', 'декабр', 'написа', 'биатлонист', 'александр', 'логин', 'счита', 'виновн', 'махинац', 'переливан', 'кров', 'биатлонист', 'антон', 'шипулин', 'такж', 'попа', 'список', 'полиц', 'нанесл', 'отдельн', 'виз', 'тренир', 'отдельн', 'австрийск', 'обертиллах', 'обвинен', 'спортсм', 'назва', 'бред', 'такж', 'указа', 'охот', 'ведьм', 'миров', 'биатлон', 'австр', 'при', 'допинг', 'уголовн', 'преступлен', 'максимальн', 'наказан', 'употреблен', 'год', 'тюрьм']\n",
            "Document 3: ['сотрудник', 'социальн', 'сет', 'instagram', 'поставлен', 'пользовател', 'смайлик', 'геолокац', 'хештег', 'опубликова', 'итог', 'год', 'сообща', 'официальн', 'сайт', 'instagram', 'так', 'образ', 'сам', 'счастлив', 'геолокац', 'instagram', 'призна', 'диснейленд', 'ток', 'счастлив', 'смайлик', 'год', 'пользовател', 'став', 'имен', 'фотограф', 'японск', 'диснейленд', 'такж', 'эксперт', 'назва', 'сам', 'популярн', 'фильтр', 'лиц', 'стал', 'фильтр', 'сердечк', 'глаз', 'например', 'сам', 'част', 'используем', 'хештег', 'год', 'metoo', 'timesup', 'ноябр', 'сотрудник', 'британск', 'ассоциац', 'потребител', 'which', 'состав', 'рейтинг', 'сам', 'безопасн', 'стран', 'путешеств', 'специалист', 'сам', 'популярн', 'туристическ', 'направлен', 'четыр', 'критер', 'уровен', 'преступн', 'угроз', 'здоров', 'вероятн', 'теракт', 'стихийн', 'бедств', 'сам', 'безопасн', 'стран', 'всем', 'параметр', 'стал', 'исланд']\n",
            "Document 4: ['нача', 'расследован', 'российск', 'вмешательств', 'выбор', 'власт', 'потрат', 'миллион', 'доллар', 'сообща', 'associated', 'press', 'ссылк', 'отчет', 'министерств', 'юстиц', 'документ', 'содержат', 'дан', 'расход', 'следств', 'апрел', 'сентябр', 'год', 'полгод', 'потрач', 'миллион', 'доллар', 'котор', 'миллион', 'доллар', 'ушл', 'зарплат', 'сотрудник', 'тысяч', 'поездк', 'сопутств', 'расход', 'ран', 'минюст', 'публикова', 'отчет', 'затрат', 'дел', 'российск', 'вмешательств', 'предыдущ', 'месяц', 'декабр', 'расследован', 'спецпрокурор', 'робер', 'мюллер', 'показа', 'меньш', 'мер', 'человек', 'окружен', 'президент', 'дональд', 'трамп', 'контактирова', 'россиян', 'врем', 'избирательн', 'кампан', 'послед', 'переходн', 'период', 'вступлен', 'должност', 'глав', 'государств', 'мюллер', 'год', 'ведет', 'дел', 'якоб', 'российск', 'вмешательств', 'американск', 'выбор', 'поставл', 'задач', 'выясн', 'сговор', 'штаб', 'трамп', 'росс', 'кремл', 'бел', 'отверга', 'обвинен', 'росс', 'неоднократн', 'обвиня', 'вмешательств', 'выбор', 'президент', 'помощ', 'хакер', 'июн', 'спецслужб', 'выдвинул', 'заочн', 'обвинен', 'российск', 'разведчик', 'дан', 'спецслужб', 'российск', 'разведк', 'использова', 'хакерск', 'группировк', 'взлом', 'сервер', 'демократическ', 'парт']\n",
            "Document 5: ['хакерск', 'группировк', 'anonymous', 'опубликова', 'нов', 'документ', 'деятельн', 'британск', 'аналитическ', 'центр', 'integrity', 'initiative', 'материал', 'след', 'центр', 'получа', 'финансирован', 'нек', 'институт', 'управлен', 'руководств', 'кристофер', 'доннелл', 'хакер', 'вылож', 'открыт', 'доступ', 'паспорт', 'резюм', 'такж', 'сведен', 'связ', 'министерств', 'оборон', 'великобритан', 'согласн', 'документ', 'год', 'доннелл', 'выдвинул', 'предложен', 'британск', 'власт', 'связ', 'ситуац', 'крым', 'частност', 'планирова', 'заминирова', 'севастопольск', 'бухт', 'окруж', 'полуостр', 'войск', 'такж', 'уничтож', 'оста', 'крым', 'самолет', 'знак', 'серьезн', 'намерен', 'публикац', 'заметк', 'част', 'документ', 'котор', 'член', 'группировк', 'ссыла', 'сво', 'расследован', 'удал', 'такж', 'хакер', 'утвержда', 'доннелл', 'инициатор', 'расследован', 'российск', 'вмешательств', 'референдум', 'независим', 'каталон', 'приглас', 'член', 'испанск', 'отделен', 'integrity', 'initiative', 'качеств', 'свидетел', 'дан', 'группировк', 'доннелл', 'получа', 'деньг', 'министерств', 'иностра', 'великобритан', 'британск', 'разведк', 'плат', 'собствен', 'агент', 'фальшив', 'доказательств', 'вмешательств', 'росс', 'каталонск', 'референдум', 'зат', 'приказа', 'солга', 'парламент', 'цел', 'убед', 'предприня', 'антироссийск', 'шаг', 'пишут', 'хакер', 'член', 'anonymous', 'опубликова', 'част', 'документ', 'связа', 'деятельн', 'кристофер', 'доннелл', 'расследован', 'великобритан', 'отношен', 'integrity', 'initiative', 'даст', 'результат', 'пригроз', 'вылож', 'нов', 'доказательств', 'доннелл', 'тесн', 'взаимодейств', 'британск', 'спецслужб', 'использ', 'сво', 'положен', 'влиян', 'политик', 'стран', 'ноябр', 'anonymous', 'вперв', 'опубликова', 'документ', 'integrity', 'initiative', 'котор', 'содержат', 'инструкц', 'борьб', 'российск', 'пропаганд', 'пример', 'дезинформац', 'сторон', 'москв', 'хакер', 'утвержда', 'проект', 'финансир', 'правительств', 'великобритан', 'работа', 'сраз', 'нескольк', 'стран', 'числ', 'герман', 'франц', 'испан']\n",
            "Document 6: ['архиепископ', 'каноническ', 'украинск', 'православн', 'церкв', 'московск', 'патриархат', 'лонгин', 'отказа', 'участвова', 'объединительн', 'собор', 'приглашен', 'вселенск', 'патриарх', 'варфоломе', 'назва', 'мероприят', 'собор', 'нечестив', 'сатанинск', 'сборищ', 'говор', 'письм', 'выдержк', 'котор', 'публик', 'стран', 'подчеркнул', 'архиер', 'прот', 'собран', 'называ', 'матер', 'церкв', 'поч', 'отда', 'поруган', 'наш', 'православн', 'святын', 'растерзан', 'истин', 'православн', 'церков', 'наш', 'брат', 'сослужител', 'допуст', 'мучен', 'пытан', 'священник', 'написа', 'лонгин', 'сво', 'послан', 'такж', 'осуд', 'снят', 'анафем', 'предстоятел', 'неканоническ', 'киевск', 'патриархат', 'филарет', 'произошл', 'синод', 'стамбул', 'шокирова', 'ве', 'православн', 'отмет', 'архиепископ', 'объединительн', 'собор', 'инициирова', 'президент', 'украин', 'петр', 'порошенк', 'патриарх', 'варфоломе', 'пройдет', 'декабр', 'софийск', 'собор', 'киев', 'переда', 'новост', 'изберут', 'предстоятел', 'един', 'церкв', 'примут', 'уста', 'церковн', 'раскол', 'украин', 'обостр', 'нескольк', 'месяц', 'назад', 'начал', 'октябр', 'собор', 'церкв', 'патриарх', 'варфолом', 'подтверд', 'сво', 'намерен', 'предостав', 'стран', 'автокефал', 'снял', 'анафем', 'глав', 'раскольнич', 'церкв', 'восстанов', 'юрисдикц', 'киевск', 'митропол', 'связ', 'эт', 'русск', 'православн', 'церков', 'октябр', 'разорва', 'евхаристическ', 'общен', 'вселенск', 'патриархат']\n",
            "Document 7: ['российск', 'молодеж', 'усво', 'духовн', 'ценност', 'распространя', 'интернет', 'социальн', 'сет', 'инициатив', 'выступ', 'глав', 'федеральн', 'агентств', 'дел', 'молодеж', 'александр', 'буга', 'ход', 'религиозн', 'форум', 'росс', 'будущ', 'переда', 'рад', 'говор', 'москв', 'буга', 'отмет', 'раньш', 'функц', 'справля', 'плакат', 'котор', 'повес', 'учебн', 'заведен', 'однак', 'настоя', 'врем', 'недостаточн', 'намн', 'эффективн', 'хорош', 'добр', 'цен', 'расскаж', 'социальн', 'групп', 'интернет', 'помощ', 'мессенджер', 'неформальн', 'объединен', 'молодеж', 'котор', 'зачаст', 'охватыва', 'огромн', 'количеств', 'люд', 'сказа', 'слов', 'чиновник', 'современ', 'способ', 'распространен', 'информац', 'помогут', 'молод', 'люд', 'уясн', 'моральн', 'ценност', 'стал', 'известн', 'российск', 'школ', 'могут', 'нача', 'преподава', 'нов', 'курс', 'ученик', 'родител', 'семейн', 'уклад', 'рамк', 'курс', 'дет', 'будут', 'изуча', 'основ', 'семейн', 'психолог', 'мужск', 'женск', 'культур', 'семейн', 'уклад', 'здоров', 'образ', 'жизн', 'духовн', 'нравствен', 'развит', 'подготовк', 'будущ', 'родительств', 'друг', 'тем']\n",
            "Document 8: ['полицейск', 'алекс', 'коллинс', 'трейс', 'холлоуэ', 'оказа', 'перв', 'помощ', 'серг', 'скрипал', 'дочер', 'юл', 'рассказа', 'подробн', 'обнаруж', 'констебл', 'сержант', 'подел', 'воспоминан', 'газет', 'guardian', 'слов', 'страж', 'порядк', 'дежурств', 'нача', 'четверт', 'полиц', 'поступ', 'сообщен', 'пожил', 'мужчин', 'молод', 'женщин', 'котор', 'стал', 'плох', 'улиц', 'наряд', 'приб', 'мест', 'минут', 'состоян', 'пострада', 'сраз', 'показа', 'сотрудник', 'орган', 'стран', 'коллинс', 'отмет', 'женщин', 'юл', 'лежа', 'земл', 'бок', 'прохож', 'врач', 'специальн', 'оказыва', 'помощ', 'освобожд', 'дыхательн', 'пут', 'мужчин', 'скрипал', 'сидел', 'скамейк', 'неподвижн', 'кататоническ', 'ступор', 'гляд', 'пространств', 'дыша', 'отзыва', 'наш', 'перв', 'мысл', 'наркотик', 'поясн', 'констебл', 'холлоуэ', 'добав', 'скрипал', 'сохраня', 'поз', 'медик', 'пыта', 'погруз', 'носилк', 'слов', 'заст', 'сидяч', 'положен', 'пошевел', 'измен', 'положен', 'коллинс', 'рассказа', 'осмотрел', 'скрипал', 'перчатк', 'холлоуэ', 'всяк', 'защит', 'обыска', 'установ', 'личност', 'найден', 'вещ', 'озадач', 'полицейск', 'заглянул', 'кошельк', 'пыт', 'найт', 'паспорт', 'телефон', 'русскоязычн', 'интерфейс', 'им', 'незнаком', 'стран', 'неправильн', 'нормальн', 'вспомина', 'сержант', 'страж', 'порядк', 'приказа', 'прохож', 'отойт', 'вызва', 'медик', 'наряд', 'пожарн', 'костюм', 'химзащит', 'март', 'бывш', 'офицер', 'серг', 'скрипал', 'доч', 'юл', 'найд', 'бессознательн', 'состоян', 'сквер', 'британск', 'солсбер', 'лондон', 'счита', 'отравл', 'нервн', 'паралитическ', 'веществ', 'класс', 'новичок', 'британск', 'власт', 'обвиня', 'причастн', 'отравлен', 'росс', 'москв', 'обвинен', 'отверга']\n",
            "Document 9: ['миноборон', 'опубликова', 'youtube', 'виде', 'полет', 'российск', 'стратегическ', 'отправлен', 'венесуэл', 'вод', 'карибск', 'мор', 'пилот', 'провел', 'неб', 'час', 'некотор', 'этап', 'маршрут', 'российск', 'ракетоносц', 'работа', 'совместн', 'истребител', 'национальн', 'боливарианск', 'воен', 'авиац', 'летчик', 'двух', 'стран', 'отработа', 'взаимодейств', 'выполнен', 'полетн', 'задан', 'отмеча', 'ведомств', 'ролик', 'стран', 'направл', 'стратегическ', 'ракетоносц', 'тяжел', 'воен', 'транспортн', 'самолет', 'самолет', 'российск', 'воздушн', 'космическ', 'переда', 'тасс', 'декабр', 'покинул', 'государств', 'полетел', 'домашн', 'баз', 'сверхзвуков', 'стратегическ', 'бомбардировщик', 'ракетоносец', 'изменя', 'геометр', 'крыл', 'явля', 'сам', 'крупн', 'мощн', 'тяжел', 'боев', 'сверхзвуков', 'самолет', 'мир']\n",
            "Document 10: ['директор', 'завод', 'электроприбор', 'муталиб', 'эмиралиев', 'обвин', 'уклонен', 'уплат', 'налог', 'хищен', 'бюджетн', 'средств', 'общ', 'сложност', 'миллион', 'рубл', 'сообща', 'извест', 'год', 'эмирал', 'выигра', 'государствен', 'контракт', 'министерств', 'оборон', 'росс', 'ремонт', 'зенитн', 'ракетн', 'комплекс', 'форт', 'мурманск', 'подрядчик', 'долж', 'замен', 'вышедш', 'стро', 'блок', 'ячейк', 'плат', 'друг', 'высокоточн', 'механизм', 'вооружен', 'общ', 'стоимост', 'комплект', 'оцен', 'миллион', 'рубл', 'верс', 'следств', 'эмирал', 'наня', 'выходц', 'украин', 'котор', 'бесценок', 'сдела', 'косметическ', 'ремонт', 'оборудован', 'предостав', 'миноборон', 'поддельн', 'документ', 'подтвержден', 'расход', 'согласн', 'котор', 'оруд', 'якоб', 'вывоз', 'ремонт', 'пенз', 'вернул', 'обратн', 'пригодн', 'использован', 'эмирал', 'потрат', 'ремонт', 'ход', 'расследован', 'обнаруж', 'обвиня', 'использова', 'похож', 'схем', 'выполнен', 'госконтракт', 'ремонт', 'одн', 'объект', 'противоракетн', 'оборон', 'московск', 'област', 'помим', 'вменя', 'уклонен', 'уплат', 'налог', 'сумм', 'миллион', 'рубл', 'стал', 'повод', 'нача', 'расследован', 'следовател', 'полага', 'эмиралиев', 'сто', 'чиновник', 'миноборон', 'причастн', 'организац', 'схем', 'хищен', 'бюджетн', 'средств', 'выполнен', 'госзаказ', 'зенитн', 'ракетн', 'комплекс', 'форт', 'предназнач', 'установк', 'боев', 'корабл', 'воен', 'морск', 'флот', 'частност', 'так', 'вооружен', 'использ', 'тяжел', 'атомн', 'крейсер', 'петр', 'велик', 'год', 'обнаруж', 'хищен', 'миллион', 'рубл', 'котор', 'произошл', 'ремонт', 'крейсер']\n"
          ]
        },
        {
          "output_type": "stream",
          "name": "stderr",
          "text": [
            "/usr/local/lib/python3.10/dist-packages/ipykernel/ipkernel.py:283: DeprecationWarning: `should_run_async` will not call `transform_cell` automatically in the future. Please pass the result to `transformed_cell` argument and any exception that happen during thetransform in `preprocessing_exc_tuple` in IPython 7.17 and above.\n",
            "  and should_run_async(code)\n"
          ]
        }
      ]
    },
    {
      "cell_type": "code",
      "execution_count": 54,
      "metadata": {
        "id": "Gnc4hKfPTQeb",
        "colab": {
          "base_uri": "https://localhost:8080/"
        },
        "outputId": "590951ad-291a-4ef0-9adf-7d609cf79ee8"
      },
      "outputs": [
        {
          "output_type": "stream",
          "name": "stderr",
          "text": [
            "/usr/local/lib/python3.10/dist-packages/ipykernel/ipkernel.py:283: DeprecationWarning: `should_run_async` will not call `transform_cell` automatically in the future. Please pass the result to `transformed_cell` argument and any exception that happen during thetransform in `preprocessing_exc_tuple` in IPython 7.17 and above.\n",
            "  and should_run_async(code)\n"
          ]
        }
      ],
      "source": [
        "dictionary = corpora.Dictionary(processed_docs)"
      ]
    },
    {
      "cell_type": "code",
      "source": [
        "print(\"Original Dictionary:\")\n",
        "print(dictionary) #suggested by GPT"
      ],
      "metadata": {
        "colab": {
          "base_uri": "https://localhost:8080/"
        },
        "id": "MEv4VL5YJJnN",
        "outputId": "efed54c8-68a1-4c9d-8177-479945cf2bf9"
      },
      "execution_count": 55,
      "outputs": [
        {
          "output_type": "stream",
          "name": "stdout",
          "text": [
            "Original Dictionary:\n",
            "Dictionary<788 unique tokens: ['болезн', 'виц', 'вопрос', 'вперв', 'высок']...>\n"
          ]
        },
        {
          "output_type": "stream",
          "name": "stderr",
          "text": [
            "/usr/local/lib/python3.10/dist-packages/ipykernel/ipkernel.py:283: DeprecationWarning: `should_run_async` will not call `transform_cell` automatically in the future. Please pass the result to `transformed_cell` argument and any exception that happen during thetransform in `preprocessing_exc_tuple` in IPython 7.17 and above.\n",
            "  and should_run_async(code)\n"
          ]
        }
      ]
    },
    {
      "cell_type": "code",
      "execution_count": 56,
      "metadata": {
        "colab": {
          "base_uri": "https://localhost:8080/"
        },
        "id": "0yVsyJ3rTX2d",
        "outputId": "809f3098-61ee-48fc-f8f4-de24d324400d"
      },
      "outputs": [
        {
          "output_type": "stream",
          "name": "stdout",
          "text": [
            "0 болезн\n",
            "1 виц\n",
            "2 вопрос\n",
            "3 вперв\n",
            "4 высок\n",
            "5 главн\n",
            "6 год\n",
            "7 голиков\n",
            "8 дан\n",
            "9 заболеван\n",
            "10 зафиксирова\n"
          ]
        },
        {
          "output_type": "stream",
          "name": "stderr",
          "text": [
            "/usr/local/lib/python3.10/dist-packages/ipykernel/ipkernel.py:283: DeprecationWarning: `should_run_async` will not call `transform_cell` automatically in the future. Please pass the result to `transformed_cell` argument and any exception that happen during thetransform in `preprocessing_exc_tuple` in IPython 7.17 and above.\n",
            "  and should_run_async(code)\n"
          ]
        }
      ],
      "source": [
        "for idx, (key, val) in enumerate(dictionary.iteritems()):\n",
        "    print(key, val)\n",
        "    if idx >= 10:\n",
        "        break\n"
      ]
    },
    {
      "cell_type": "markdown",
      "metadata": {
        "id": "2v3OG5RBT1sG"
      },
      "source": [
        "Exercise 1:\n",
        "Q: How would changing these parameters influence the result?\n",
        "\n",
        "Please run these cells first. After running this example, please return here to change them and test the result with different parameter values."
      ]
    },
    {
      "cell_type": "markdown",
      "source": [
        "**filter_tokens_if_container_documents_are_less_than**:\n",
        "\n",
        "*Increase*: If you increase this value, you allow tokens that appear in a larger number of documents. This can lead to more common and general words being included in the topics. However, setting it too high might result in overly common words dominating the topics.\n",
        "\n",
        "*Decrease:* Decreasing this value allows tokens that appear in fewer documents. This can lead to more specific and potentially meaningful terms being included in the topics. However, setting it too low might result in noisy and infrequent terms.\n",
        "\n",
        "**filter_tokens_if_appeared_percentage_more_than**:\n",
        "\n",
        "*Increase*: Raising this value allows tokens that appear in a higher percentage of documents. This tends to retain more common and general words, potentially making topics more interpretable. However, setting it too high might result in overly general topics.\n",
        "\n",
        "*Decrease:* Lowering this value allows tokens that appear in a lower percentage of documents. This can result in more specific and potentially interesting terms being included in the topics. However, setting it too low might introduce noise.\n",
        "\n",
        "**keep_the_first_n_tokens**:\n",
        "\n",
        "*Increase*: Increasing this value allows more tokens to be retained in the dictionary, potentially capturing a broader range of terms. However, setting it too high might include less informative and frequent terms.\n",
        "\n",
        "*Decrease*: Decreasing this value limits the number of tokens in the dictionary, potentially focusing on the most informative and relevant terms. However, setting it too low might exclude important terms."
      ],
      "metadata": {
        "id": "g1wfxB6LcmcA"
      }
    },
    {
      "cell_type": "code",
      "source": [
        "print(\"Original Dictionary:\")\n",
        "print(dictionary) #suggested by GPT"
      ],
      "metadata": {
        "colab": {
          "base_uri": "https://localhost:8080/"
        },
        "id": "SGJlLCp8IxBY",
        "outputId": "eb0d6407-bad0-46ca-fd74-ad43237b39ad"
      },
      "execution_count": 57,
      "outputs": [
        {
          "output_type": "stream",
          "name": "stdout",
          "text": [
            "Original Dictionary:\n",
            "Dictionary<788 unique tokens: ['болезн', 'виц', 'вопрос', 'вперв', 'высок']...>\n"
          ]
        },
        {
          "output_type": "stream",
          "name": "stderr",
          "text": [
            "/usr/local/lib/python3.10/dist-packages/ipykernel/ipkernel.py:283: DeprecationWarning: `should_run_async` will not call `transform_cell` automatically in the future. Please pass the result to `transformed_cell` argument and any exception that happen during thetransform in `preprocessing_exc_tuple` in IPython 7.17 and above.\n",
            "  and should_run_async(code)\n"
          ]
        }
      ]
    },
    {
      "cell_type": "code",
      "execution_count": 58,
      "metadata": {
        "id": "S7rnf0gyT2b_",
        "colab": {
          "base_uri": "https://localhost:8080/"
        },
        "outputId": "33106285-480b-483f-fb61-c46bd0163611"
      },
      "outputs": [
        {
          "output_type": "stream",
          "name": "stderr",
          "text": [
            "/usr/local/lib/python3.10/dist-packages/ipykernel/ipkernel.py:283: DeprecationWarning: `should_run_async` will not call `transform_cell` automatically in the future. Please pass the result to `transformed_cell` argument and any exception that happen during thetransform in `preprocessing_exc_tuple` in IPython 7.17 and above.\n",
            "  and should_run_async(code)\n"
          ]
        }
      ],
      "source": [
        "## Model hyper parameters:\n",
        "\n",
        "## These are the dictionary preparation parameters:\n",
        "filter_tokens_if_container_documents_are_less_than = 2  #15 to 5\n",
        "filter_tokens_if_appeared_percentage_more_than = 0.99 # 0.5 to 0.8\n",
        "keep_the_first_n_tokens = 100_000\n",
        "\n",
        "## and the LDA Parameters:\n",
        "num_of_topics = 10"
      ]
    },
    {
      "cell_type": "code",
      "execution_count": 59,
      "metadata": {
        "id": "yn7OA31kT8aK",
        "colab": {
          "base_uri": "https://localhost:8080/"
        },
        "outputId": "57b821b3-ecd8-429b-8755-a747ac094c42"
      },
      "outputs": [
        {
          "output_type": "stream",
          "name": "stderr",
          "text": [
            "/usr/local/lib/python3.10/dist-packages/ipykernel/ipkernel.py:283: DeprecationWarning: `should_run_async` will not call `transform_cell` automatically in the future. Please pass the result to `transformed_cell` argument and any exception that happen during thetransform in `preprocessing_exc_tuple` in IPython 7.17 and above.\n",
            "  and should_run_async(code)\n"
          ]
        }
      ],
      "source": [
        "dictionary.filter_extremes(\n",
        "    no_below=filter_tokens_if_container_documents_are_less_than,\n",
        "    no_above=filter_tokens_if_appeared_percentage_more_than,\n",
        "    keep_n=keep_the_first_n_tokens)"
      ]
    },
    {
      "cell_type": "code",
      "source": [
        "# Print the filtered dictionary\n",
        "print(\"Filtered Dictionary:\")\n",
        "print(dictionary)   #suggested by GPT"
      ],
      "metadata": {
        "colab": {
          "base_uri": "https://localhost:8080/"
        },
        "id": "n8HaS_kJIYjs",
        "outputId": "b6e91f2d-327b-4068-de35-64055234725f"
      },
      "execution_count": 60,
      "outputs": [
        {
          "output_type": "stream",
          "name": "stdout",
          "text": [
            "Filtered Dictionary:\n",
            "Dictionary<111 unique tokens: ['вперв', 'год', 'дан', 'известн', 'как']...>\n"
          ]
        },
        {
          "output_type": "stream",
          "name": "stderr",
          "text": [
            "/usr/local/lib/python3.10/dist-packages/ipykernel/ipkernel.py:283: DeprecationWarning: `should_run_async` will not call `transform_cell` automatically in the future. Please pass the result to `transformed_cell` argument and any exception that happen during thetransform in `preprocessing_exc_tuple` in IPython 7.17 and above.\n",
            "  and should_run_async(code)\n"
          ]
        }
      ]
    },
    {
      "cell_type": "code",
      "execution_count": 61,
      "metadata": {
        "id": "6ntiZYLtUCHQ",
        "colab": {
          "base_uri": "https://localhost:8080/"
        },
        "outputId": "261d1514-e32f-41dd-9c15-69ce794d212a"
      },
      "outputs": [
        {
          "output_type": "stream",
          "name": "stderr",
          "text": [
            "/usr/local/lib/python3.10/dist-packages/ipykernel/ipkernel.py:283: DeprecationWarning: `should_run_async` will not call `transform_cell` automatically in the future. Please pass the result to `transformed_cell` argument and any exception that happen during thetransform in `preprocessing_exc_tuple` in IPython 7.17 and above.\n",
            "  and should_run_async(code)\n"
          ]
        }
      ],
      "source": [
        "bow_corpus = [dictionary.doc2bow(doc) for doc in processed_docs]"
      ]
    },
    {
      "cell_type": "code",
      "source": [
        "bow_corpus"
      ],
      "metadata": {
        "colab": {
          "base_uri": "https://localhost:8080/"
        },
        "id": "dTpouPFkGtjY",
        "outputId": "2ee3a079-3705-4421-94f8-b428b01148a8"
      },
      "execution_count": 62,
      "outputs": [
        {
          "output_type": "stream",
          "name": "stderr",
          "text": [
            "/usr/local/lib/python3.10/dist-packages/ipykernel/ipkernel.py:283: DeprecationWarning: `should_run_async` will not call `transform_cell` automatically in the future. Please pass the result to `transformed_cell` argument and any exception that happen during thetransform in `preprocessing_exc_tuple` in IPython 7.17 and above.\n",
            "  and should_run_async(code)\n"
          ]
        },
        {
          "output_type": "execute_result",
          "data": {
            "text/plain": [
              "[[(0, 1),\n",
              "  (1, 4),\n",
              "  (2, 1),\n",
              "  (3, 1),\n",
              "  (4, 1),\n",
              "  (5, 1),\n",
              "  (6, 1),\n",
              "  (7, 1),\n",
              "  (8, 1),\n",
              "  (9, 1),\n",
              "  (10, 1),\n",
              "  (11, 2),\n",
              "  (12, 1),\n",
              "  (13, 1),\n",
              "  (14, 1),\n",
              "  (15, 1),\n",
              "  (16, 1),\n",
              "  (17, 1),\n",
              "  (18, 1)],\n",
              " [(1, 1),\n",
              "  (4, 1),\n",
              "  (11, 2),\n",
              "  (16, 3),\n",
              "  (19, 1),\n",
              "  (20, 1),\n",
              "  (21, 1),\n",
              "  (22, 1),\n",
              "  (23, 1),\n",
              "  (24, 1),\n",
              "  (25, 1),\n",
              "  (26, 1),\n",
              "  (27, 1),\n",
              "  (28, 1),\n",
              "  (29, 2),\n",
              "  (30, 2),\n",
              "  (31, 1),\n",
              "  (32, 1),\n",
              "  (33, 1)],\n",
              " [(1, 3),\n",
              "  (13, 1),\n",
              "  (14, 1),\n",
              "  (15, 2),\n",
              "  (16, 1),\n",
              "  (23, 1),\n",
              "  (25, 1),\n",
              "  (31, 2),\n",
              "  (34, 1),\n",
              "  (35, 1),\n",
              "  (36, 1),\n",
              "  (37, 1),\n",
              "  (38, 1),\n",
              "  (39, 6),\n",
              "  (40, 1),\n",
              "  (41, 2),\n",
              "  (42, 1),\n",
              "  (43, 1)],\n",
              " [(1, 2),\n",
              "  (2, 2),\n",
              "  (5, 1),\n",
              "  (9, 1),\n",
              "  (11, 2),\n",
              "  (13, 1),\n",
              "  (17, 1),\n",
              "  (18, 1),\n",
              "  (20, 1),\n",
              "  (27, 2),\n",
              "  (30, 5),\n",
              "  (41, 1),\n",
              "  (44, 1),\n",
              "  (45, 4),\n",
              "  (46, 1),\n",
              "  (47, 1),\n",
              "  (48, 1),\n",
              "  (49, 1),\n",
              "  (50, 1),\n",
              "  (51, 2),\n",
              "  (52, 1),\n",
              "  (53, 1),\n",
              "  (54, 1),\n",
              "  (55, 1),\n",
              "  (56, 3),\n",
              "  (57, 1),\n",
              "  (58, 1),\n",
              "  (59, 1),\n",
              "  (60, 1),\n",
              "  (61, 1),\n",
              "  (62, 1),\n",
              "  (63, 1),\n",
              "  (64, 2),\n",
              "  (65, 1),\n",
              "  (66, 2),\n",
              "  (67, 2),\n",
              "  (68, 1),\n",
              "  (69, 1),\n",
              "  (70, 2),\n",
              "  (71, 1),\n",
              "  (72, 1),\n",
              "  (73, 1)],\n",
              " [(0, 1),\n",
              "  (1, 1),\n",
              "  (2, 1),\n",
              "  (11, 1),\n",
              "  (16, 3),\n",
              "  (22, 2),\n",
              "  (30, 2),\n",
              "  (31, 2),\n",
              "  (34, 4),\n",
              "  (36, 1),\n",
              "  (38, 3),\n",
              "  (43, 2),\n",
              "  (44, 1),\n",
              "  (45, 2),\n",
              "  (47, 1),\n",
              "  (50, 3),\n",
              "  (52, 5),\n",
              "  (54, 2),\n",
              "  (57, 2),\n",
              "  (65, 1),\n",
              "  (66, 3),\n",
              "  (69, 1),\n",
              "  (70, 1),\n",
              "  (71, 4),\n",
              "  (72, 1),\n",
              "  (74, 1),\n",
              "  (75, 1),\n",
              "  (76, 1),\n",
              "  (77, 1),\n",
              "  (78, 1),\n",
              "  (79, 2),\n",
              "  (80, 1),\n",
              "  (81, 1),\n",
              "  (82, 1),\n",
              "  (83, 1),\n",
              "  (84, 1),\n",
              "  (85, 1),\n",
              "  (86, 1),\n",
              "  (87, 2),\n",
              "  (88, 2),\n",
              "  (89, 1),\n",
              "  (90, 1),\n",
              "  (91, 1)],\n",
              " [(6, 1),\n",
              "  (7, 1),\n",
              "  (16, 1),\n",
              "  (20, 1),\n",
              "  (25, 1),\n",
              "  (26, 1),\n",
              "  (28, 1),\n",
              "  (31, 2),\n",
              "  (48, 1),\n",
              "  (54, 1),\n",
              "  (55, 1),\n",
              "  (64, 1),\n",
              "  (77, 1),\n",
              "  (78, 1),\n",
              "  (87, 2),\n",
              "  (88, 1),\n",
              "  (92, 1),\n",
              "  (93, 1),\n",
              "  (94, 2),\n",
              "  (95, 1),\n",
              "  (96, 1),\n",
              "  (97, 1),\n",
              "  (98, 1),\n",
              "  (99, 2)],\n",
              " [(3, 1),\n",
              "  (11, 1),\n",
              "  (12, 1),\n",
              "  (14, 2),\n",
              "  (15, 1),\n",
              "  (19, 1),\n",
              "  (28, 1),\n",
              "  (30, 2),\n",
              "  (35, 1),\n",
              "  (37, 1),\n",
              "  (40, 1),\n",
              "  (46, 1),\n",
              "  (48, 1),\n",
              "  (51, 1),\n",
              "  (54, 2),\n",
              "  (58, 1),\n",
              "  (62, 1),\n",
              "  (76, 1),\n",
              "  (79, 1),\n",
              "  (92, 1),\n",
              "  (95, 1),\n",
              "  (100, 1),\n",
              "  (101, 1),\n",
              "  (102, 1),\n",
              "  (103, 1)],\n",
              " [(10, 2),\n",
              "  (11, 1),\n",
              "  (12, 2),\n",
              "  (15, 1),\n",
              "  (21, 1),\n",
              "  (27, 1),\n",
              "  (29, 1),\n",
              "  (31, 2),\n",
              "  (32, 1),\n",
              "  (34, 2),\n",
              "  (41, 1),\n",
              "  (44, 1),\n",
              "  (54, 1),\n",
              "  (58, 1),\n",
              "  (59, 1),\n",
              "  (60, 1),\n",
              "  (61, 1),\n",
              "  (62, 2),\n",
              "  (76, 1),\n",
              "  (81, 1),\n",
              "  (83, 2),\n",
              "  (84, 1),\n",
              "  (90, 1),\n",
              "  (94, 1),\n",
              "  (95, 1),\n",
              "  (101, 1),\n",
              "  (104, 1),\n",
              "  (105, 1)],\n",
              " [(20, 1),\n",
              "  (24, 1),\n",
              "  (28, 1),\n",
              "  (30, 3),\n",
              "  (31, 2),\n",
              "  (33, 1),\n",
              "  (38, 1),\n",
              "  (39, 1),\n",
              "  (49, 1),\n",
              "  (74, 1),\n",
              "  (85, 1),\n",
              "  (86, 3),\n",
              "  (106, 1),\n",
              "  (107, 2),\n",
              "  (108, 1),\n",
              "  (109, 1),\n",
              "  (110, 2)],\n",
              " [(1, 2),\n",
              "  (8, 1),\n",
              "  (11, 1),\n",
              "  (13, 1),\n",
              "  (15, 1),\n",
              "  (42, 1),\n",
              "  (52, 1),\n",
              "  (53, 1),\n",
              "  (54, 3),\n",
              "  (56, 4),\n",
              "  (57, 1),\n",
              "  (58, 1),\n",
              "  (59, 1),\n",
              "  (63, 1),\n",
              "  (66, 2),\n",
              "  (67, 1),\n",
              "  (68, 1),\n",
              "  (73, 1),\n",
              "  (75, 1),\n",
              "  (80, 2),\n",
              "  (82, 1),\n",
              "  (89, 1),\n",
              "  (91, 1),\n",
              "  (93, 1),\n",
              "  (96, 1),\n",
              "  (97, 1),\n",
              "  (98, 1),\n",
              "  (99, 1),\n",
              "  (100, 1),\n",
              "  (102, 1),\n",
              "  (103, 1),\n",
              "  (104, 2),\n",
              "  (105, 1),\n",
              "  (106, 1),\n",
              "  (107, 1),\n",
              "  (108, 2),\n",
              "  (109, 2),\n",
              "  (110, 1)]]"
            ]
          },
          "metadata": {},
          "execution_count": 62
        }
      ]
    },
    {
      "cell_type": "markdown",
      "metadata": {
        "id": "4uZOskICUI3t"
      },
      "source": [
        "Let's take a look at the result.\n",
        "\n",
        "Our corpus contains now only word_ids, not the words themselves, so we have to peek into the dictionary to know which word that id represents:"
      ]
    },
    {
      "cell_type": "code",
      "execution_count": 63,
      "metadata": {
        "colab": {
          "base_uri": "https://localhost:8080/"
        },
        "id": "BHrCfBp9azKS",
        "outputId": "c92d8e96-bcd6-4cdd-846e-863680b1863e"
      },
      "outputs": [
        {
          "output_type": "stream",
          "name": "stdout",
          "text": [
            "The processed bag-of-word document is just pairs of (word_id, # of occurnces) and looks like this:\n",
            "[(1, 3), (13, 1), (14, 1), (15, 2), (16, 1), (23, 1), (25, 1), (31, 2), (34, 1), (35, 1), (36, 1), (37, 1), (38, 1), (39, 6), (40, 1), (41, 2), (42, 1), (43, 1)] \n",
            "\n",
            "\n",
            "We peek in the dictionary: for each word_id, we get its assigned word:\n",
            "Word 1 (\"год\") appears 3 time.\n",
            "Word 13 (\"сообща\") appears 1 time.\n",
            "Word 14 (\"социальн\") appears 1 time.\n",
            "Word 15 (\"стал\") appears 2 time.\n",
            "Word 16 (\"такж\") appears 1 time.\n",
            "Word 23 (\"итог\") appears 1 time.\n",
            "Word 25 (\"назва\") appears 1 time.\n",
            "Word 31 (\"стран\") appears 2 time.\n",
            "Word 34 (\"британск\") appears 1 time.\n",
            "Word 35 (\"здоров\") appears 1 time.\n",
            "Word 36 (\"ноябр\") appears 1 time.\n",
            "Word 37 (\"образ\") appears 1 time.\n",
            "Word 38 (\"опубликова\") appears 1 time.\n",
            "Word 39 (\"сам\") appears 6 time.\n",
            "Word 40 (\"сет\") appears 1 time.\n",
            "Word 41 (\"сотрудник\") appears 2 time.\n",
            "Word 42 (\"так\") appears 1 time.\n",
            "Word 43 (\"част\") appears 1 time.\n"
          ]
        },
        {
          "output_type": "stream",
          "name": "stderr",
          "text": [
            "/usr/local/lib/python3.10/dist-packages/ipykernel/ipkernel.py:283: DeprecationWarning: `should_run_async` will not call `transform_cell` automatically in the future. Please pass the result to `transformed_cell` argument and any exception that happen during thetransform in `preprocessing_exc_tuple` in IPython 7.17 and above.\n",
            "  and should_run_async(code)\n"
          ]
        }
      ],
      "source": [
        "# randomly choose an article from the corpus:\n",
        "sample_bow_doc = choice(bow_corpus)\n",
        "\n",
        "print('The processed bag-of-word document is just pairs of (word_id, # of occurnces) and looks like this:')\n",
        "print(sample_bow_doc, '\\n\\n')\n",
        "\n",
        "print ('We peek in the dictionary: for each word_id, we get its assigned word:')\n",
        "for word_id, word_freq in sample_bow_doc:\n",
        "  real_word = dictionary[word_id]\n",
        "  print(f'Word {word_id} (\"{real_word}\") appears {word_freq} time.')"
      ]
    },
    {
      "cell_type": "markdown",
      "metadata": {
        "id": "tFrj12L5bEyo"
      },
      "source": [
        "**!!! If BoW is empty ----> ajust parameters!!!!**"
      ]
    },
    {
      "cell_type": "markdown",
      "source": [
        "LDA model using Bag-of-words\n",
        "\n",
        "Let's start by applying the LDA model using the bag-of-words (Warning: this could take a while):"
      ],
      "metadata": {
        "id": "qfKpgBUeMxf6"
      }
    },
    {
      "cell_type": "code",
      "source": [
        "lda_model = models.LdaMulticore(bow_corpus,\n",
        "                                num_topics=num_of_topics,\n",
        "                                id2word=dictionary,\n",
        "                                passes=5,\n",
        "                                workers=2)"
      ],
      "metadata": {
        "colab": {
          "base_uri": "https://localhost:8080/"
        },
        "id": "SJhye7ApMiEw",
        "outputId": "db3b6d50-9001-4b2c-9968-a18e35e99eaa"
      },
      "execution_count": 64,
      "outputs": [
        {
          "output_type": "stream",
          "name": "stderr",
          "text": [
            "/usr/local/lib/python3.10/dist-packages/ipykernel/ipkernel.py:283: DeprecationWarning: `should_run_async` will not call `transform_cell` automatically in the future. Please pass the result to `transformed_cell` argument and any exception that happen during thetransform in `preprocessing_exc_tuple` in IPython 7.17 and above.\n",
            "  and should_run_async(code)\n",
            "WARNING:gensim.models.ldamulticore:too few updates, training might not converge; consider increasing the number of passes or iterations to improve accuracy\n"
          ]
        }
      ]
    },
    {
      "cell_type": "markdown",
      "source": [
        "It is done!\n",
        "\n",
        "Now we can observe which topics the model had extracted from the documents.\n",
        "\n",
        "Topics are made of sets of words and their distribution for that topic, representing their weight in that topic.\n",
        "Every document may be composed of multiple topics, with different weights representing the relation to each topics.\n",
        "We will loop over the extracted topics and examine the words that construct them."
      ],
      "metadata": {
        "id": "SyAJGfRrNoI0"
      }
    },
    {
      "cell_type": "code",
      "source": [
        "for idx, topic in lda_model.print_topics(num_of_topics):\n",
        "    print(f'Topic: {idx} \\t Words: {topic}')"
      ],
      "metadata": {
        "colab": {
          "base_uri": "https://localhost:8080/"
        },
        "id": "QtnGhbKVNpDk",
        "outputId": "5c6f0dd6-1a6f-4ffe-83ce-e99d5cf19870"
      },
      "execution_count": 65,
      "outputs": [
        {
          "output_type": "stream",
          "name": "stdout",
          "text": [
            "Topic: 0 \t Words: 0.009*\"российск\" + 0.009*\"стран\" + 0.009*\"такж\" + 0.009*\"год\" + 0.009*\"сам\" + 0.009*\"стал\" + 0.009*\"росс\" + 0.009*\"котор\" + 0.009*\"переда\" + 0.009*\"слов\"\n",
            "Topic: 1 \t Words: 0.052*\"украин\" + 0.050*\"котор\" + 0.035*\"сво\" + 0.035*\"стран\" + 0.035*\"наш\" + 0.035*\"предостав\" + 0.035*\"петр\" + 0.035*\"произошл\" + 0.034*\"московск\" + 0.020*\"миллион\"\n",
            "Topic: 2 \t Words: 0.074*\"миллион\" + 0.046*\"расследован\" + 0.045*\"оборон\" + 0.044*\"выполнен\" + 0.042*\"год\" + 0.038*\"обнаруж\" + 0.032*\"котор\" + 0.031*\"миноборон\" + 0.027*\"документ\" + 0.025*\"министерств\"\n",
            "Topic: 3 \t Words: 0.060*\"российск\" + 0.060*\"год\" + 0.052*\"росс\" + 0.035*\"вмешательств\" + 0.035*\"такж\" + 0.026*\"обвинен\" + 0.026*\"миллион\" + 0.026*\"дан\" + 0.018*\"расследован\" + 0.018*\"спецслужб\"\n",
            "Topic: 4 \t Words: 0.054*\"социальн\" + 0.054*\"российск\" + 0.053*\"котор\" + 0.028*\"александр\" + 0.028*\"ход\" + 0.028*\"дел\" + 0.028*\"образ\" + 0.028*\"чиновник\" + 0.028*\"врем\" + 0.028*\"росс\"\n",
            "Topic: 5 \t Words: 0.156*\"сам\" + 0.080*\"год\" + 0.054*\"стал\" + 0.054*\"стран\" + 0.054*\"сотрудник\" + 0.028*\"социальн\" + 0.028*\"сообща\" + 0.028*\"такж\" + 0.028*\"назва\" + 0.028*\"итог\"\n",
            "Topic: 6 \t Words: 0.009*\"российск\" + 0.009*\"год\" + 0.009*\"стран\" + 0.009*\"росс\" + 0.009*\"сам\" + 0.009*\"такж\" + 0.009*\"стал\" + 0.009*\"котор\" + 0.009*\"переда\" + 0.009*\"британск\"\n",
            "Topic: 7 \t Words: 0.062*\"документ\" + 0.050*\"хакер\" + 0.050*\"британск\" + 0.038*\"расследован\" + 0.038*\"такж\" + 0.038*\"опубликова\" + 0.038*\"группировк\" + 0.026*\"котор\" + 0.026*\"министерств\" + 0.026*\"вмешательств\"\n",
            "Topic: 8 \t Words: 0.088*\"российск\" + 0.088*\"самолет\" + 0.060*\"стран\" + 0.059*\"воен\" + 0.059*\"тяжел\" + 0.031*\"опубликова\" + 0.031*\"взаимодейств\" + 0.031*\"работа\" + 0.031*\"переда\" + 0.031*\"мир\"\n",
            "Topic: 9 \t Words: 0.047*\"стран\" + 0.047*\"рассказа\" + 0.047*\"британск\" + 0.047*\"помощ\" + 0.047*\"слов\" + 0.047*\"положен\" + 0.024*\"причастн\" + 0.024*\"обвинен\" + 0.024*\"сраз\" + 0.024*\"добав\"\n"
          ]
        },
        {
          "output_type": "stream",
          "name": "stderr",
          "text": [
            "/usr/local/lib/python3.10/dist-packages/ipykernel/ipkernel.py:283: DeprecationWarning: `should_run_async` will not call `transform_cell` automatically in the future. Please pass the result to `transformed_cell` argument and any exception that happen during thetransform in `preprocessing_exc_tuple` in IPython 7.17 and above.\n",
            "  and should_run_async(code)\n"
          ]
        }
      ]
    },
    {
      "cell_type": "markdown",
      "source": [
        "# TF / IDF\n",
        "\n",
        "Let's take it one step further. We will cluster our document by running the LDA using TF/IDF instead of just the BoW.\n",
        "\n",
        "We start with TF/IDF calculation on our bag-of-words. TF/IDF accepts a dictionary of word frequencies as an input, and it calculates the term frequency and the inversed document frequency accordingly.\n",
        "\n",
        "Its output is a re-weighted dictionary of the documents term frequencies:"
      ],
      "metadata": {
        "id": "sBOTlL_sNwhr"
      }
    },
    {
      "cell_type": "code",
      "source": [
        "# initialize a tfidf from our corpus\n",
        "tfidf = models.TfidfModel(bow_corpus)\n",
        "\n",
        "# apply it on our corpus\n",
        "tfidf_corpus = tfidf[bow_corpus]\n",
        "\n",
        "pprint(tfidf_corpus[0][:10])"
      ],
      "metadata": {
        "colab": {
          "base_uri": "https://localhost:8080/"
        },
        "id": "JO0h1FDpNyao",
        "outputId": "11a3c58a-3636-4da4-f8f4-942da74d1a60"
      },
      "execution_count": 66,
      "outputs": [
        {
          "output_type": "stream",
          "name": "stdout",
          "text": [
            "[(0, 0.2566449470114558),\n",
            " (1, 0.32583006559163447),\n",
            " (2, 0.19198847882373074),\n",
            " (3, 0.2566449470114558),\n",
            " (4, 0.2566449470114558),\n",
            " (5, 0.2566449470114558),\n",
            " (6, 0.2566449470114558),\n",
            " (7, 0.2566449470114558),\n",
            " (8, 0.2566449470114558),\n",
            " (9, 0.2566449470114558)]\n"
          ]
        },
        {
          "output_type": "stream",
          "name": "stderr",
          "text": [
            "/usr/local/lib/python3.10/dist-packages/ipykernel/ipkernel.py:283: DeprecationWarning: `should_run_async` will not call `transform_cell` automatically in the future. Please pass the result to `transformed_cell` argument and any exception that happen during thetransform in `preprocessing_exc_tuple` in IPython 7.17 and above.\n",
            "  and should_run_async(code)\n"
          ]
        }
      ]
    },
    {
      "cell_type": "code",
      "source": [
        "# the new tfidf corpus is just our corpus - but transformed. It has the same size of documents:\n",
        "assert len(bow_corpus) == len(tfidf_corpus)"
      ],
      "metadata": {
        "colab": {
          "base_uri": "https://localhost:8080/"
        },
        "id": "A6ZEjIf8OB-f",
        "outputId": "d254ffc0-29ed-4f28-e7cd-3260cf5918f7"
      },
      "execution_count": 68,
      "outputs": [
        {
          "output_type": "stream",
          "name": "stderr",
          "text": [
            "/usr/local/lib/python3.10/dist-packages/ipykernel/ipkernel.py:283: DeprecationWarning: `should_run_async` will not call `transform_cell` automatically in the future. Please pass the result to `transformed_cell` argument and any exception that happen during thetransform in `preprocessing_exc_tuple` in IPython 7.17 and above.\n",
            "  and should_run_async(code)\n"
          ]
        }
      ]
    },
    {
      "cell_type": "markdown",
      "source": [
        "Now let's apply LDA on the tfidf corpus, with the same amount of topics.\n",
        "\n",
        "You can play with the # of passes, if the model doesn't converge properly"
      ],
      "metadata": {
        "id": "1ufRpVkjOHmq"
      }
    },
    {
      "cell_type": "code",
      "source": [
        "lda_model_tfidf = models.LdaMulticore(tfidf_corpus,\n",
        "                                      num_topics=num_of_topics,\n",
        "                                      id2word=dictionary,\n",
        "                                      passes=10,\n",
        "                                      workers=4)"
      ],
      "metadata": {
        "colab": {
          "base_uri": "https://localhost:8080/"
        },
        "id": "sIKMhQK3OIOM",
        "outputId": "886432ad-cc30-4fe2-c456-b788751b81b3"
      },
      "execution_count": 69,
      "outputs": [
        {
          "output_type": "stream",
          "name": "stderr",
          "text": [
            "/usr/local/lib/python3.10/dist-packages/ipykernel/ipkernel.py:283: DeprecationWarning: `should_run_async` will not call `transform_cell` automatically in the future. Please pass the result to `transformed_cell` argument and any exception that happen during thetransform in `preprocessing_exc_tuple` in IPython 7.17 and above.\n",
            "  and should_run_async(code)\n"
          ]
        }
      ]
    },
    {
      "cell_type": "code",
      "source": [
        "for idx, topic in lda_model_tfidf.print_topics(num_of_topics):\n",
        "    print(f'Topic: {idx} \\t Word: {topic}')"
      ],
      "metadata": {
        "colab": {
          "base_uri": "https://localhost:8080/"
        },
        "id": "Wy_wKBG7OPQL",
        "outputId": "a6b2fbd6-1cfe-43d9-a89e-2287b5122f47"
      },
      "execution_count": 70,
      "outputs": [
        {
          "output_type": "stream",
          "name": "stdout",
          "text": [
            "Topic: 0 \t Word: 0.038*\"полиц\" + 0.027*\"такж\" + 0.022*\"тасс\" + 0.022*\"мир\" + 0.022*\"итог\" + 0.022*\"добав\" + 0.022*\"счита\" + 0.022*\"александр\" + 0.022*\"доказательств\" + 0.022*\"написа\"\n",
            "Topic: 1 \t Word: 0.033*\"вмешательств\" + 0.027*\"хакер\" + 0.024*\"документ\" + 0.022*\"группировк\" + 0.022*\"расследован\" + 0.020*\"миллион\" + 0.019*\"российск\" + 0.019*\"спецслужб\" + 0.017*\"британск\" + 0.015*\"дан\"\n",
            "Topic: 2 \t Word: 0.009*\"сам\" + 0.009*\"российск\" + 0.009*\"британск\" + 0.009*\"такж\" + 0.009*\"полиц\" + 0.009*\"переда\" + 0.009*\"стран\" + 0.009*\"миллион\" + 0.009*\"тяжел\" + 0.009*\"год\"\n",
            "Topic: 3 \t Word: 0.009*\"сам\" + 0.009*\"год\" + 0.009*\"такж\" + 0.009*\"стран\" + 0.009*\"российск\" + 0.009*\"полиц\" + 0.009*\"слов\" + 0.009*\"британск\" + 0.009*\"социальн\" + 0.009*\"сообща\"\n",
            "Topic: 4 \t Word: 0.009*\"сам\" + 0.009*\"такж\" + 0.009*\"российск\" + 0.009*\"социальн\" + 0.009*\"год\" + 0.009*\"стран\" + 0.009*\"декабр\" + 0.009*\"миллион\" + 0.009*\"самолет\" + 0.009*\"сообща\"\n",
            "Topic: 5 \t Word: 0.031*\"украин\" + 0.031*\"наш\" + 0.031*\"сво\" + 0.019*\"нескольк\" + 0.019*\"намерен\" + 0.019*\"московск\" + 0.019*\"петр\" + 0.019*\"произошл\" + 0.019*\"предостав\" + 0.019*\"месяц\"\n",
            "Topic: 6 \t Word: 0.009*\"сам\" + 0.009*\"такж\" + 0.009*\"российск\" + 0.009*\"социальн\" + 0.009*\"год\" + 0.009*\"стран\" + 0.009*\"британск\" + 0.009*\"сотрудник\" + 0.009*\"самолет\" + 0.009*\"опубликова\"\n",
            "Topic: 7 \t Word: 0.067*\"сам\" + 0.022*\"сотрудник\" + 0.017*\"ноябр\" + 0.017*\"так\" + 0.017*\"образ\" + 0.017*\"сет\" + 0.017*\"здоров\" + 0.017*\"част\" + 0.017*\"итог\" + 0.017*\"год\"\n",
            "Topic: 8 \t Word: 0.022*\"самолет\" + 0.021*\"миллион\" + 0.020*\"тяжел\" + 0.020*\"воен\" + 0.018*\"выполнен\" + 0.018*\"миноборон\" + 0.018*\"помощ\" + 0.018*\"слов\" + 0.018*\"обнаруж\" + 0.018*\"российск\"\n",
            "Topic: 9 \t Word: 0.028*\"год\" + 0.023*\"вперв\" + 0.023*\"област\" + 0.023*\"человек\" + 0.023*\"тысяч\" + 0.023*\"меньш\" + 0.023*\"ран\" + 0.023*\"известн\" + 0.023*\"новост\" + 0.023*\"начал\"\n"
          ]
        },
        {
          "output_type": "stream",
          "name": "stderr",
          "text": [
            "/usr/local/lib/python3.10/dist-packages/ipykernel/ipkernel.py:283: DeprecationWarning: `should_run_async` will not call `transform_cell` automatically in the future. Please pass the result to `transformed_cell` argument and any exception that happen during thetransform in `preprocessing_exc_tuple` in IPython 7.17 and above.\n",
            "  and should_run_async(code)\n"
          ]
        }
      ]
    },
    {
      "cell_type": "markdown",
      "source": [
        "# Inference\n",
        "Now that we have a topic-modeler, let's use it on one of the articles."
      ],
      "metadata": {
        "id": "A7guOxKVOVHA"
      }
    },
    {
      "cell_type": "code",
      "source": [
        "# randomly pick an article:\n",
        "test_doc = choice(range(len(processed_docs)))\n",
        "processed_docs[test_doc][:50]"
      ],
      "metadata": {
        "colab": {
          "base_uri": "https://localhost:8080/"
        },
        "id": "nDp7fMOOOWZ1",
        "outputId": "7ba49190-456f-4d94-a578-95fd5eab1e8a"
      },
      "execution_count": 71,
      "outputs": [
        {
          "output_type": "stream",
          "name": "stderr",
          "text": [
            "/usr/local/lib/python3.10/dist-packages/ipykernel/ipkernel.py:283: DeprecationWarning: `should_run_async` will not call `transform_cell` automatically in the future. Please pass the result to `transformed_cell` argument and any exception that happen during thetransform in `preprocessing_exc_tuple` in IPython 7.17 and above.\n",
            "  and should_run_async(code)\n"
          ]
        },
        {
          "output_type": "execute_result",
          "data": {
            "text/plain": [
              "['хакерск',\n",
              " 'группировк',\n",
              " 'anonymous',\n",
              " 'опубликова',\n",
              " 'нов',\n",
              " 'документ',\n",
              " 'деятельн',\n",
              " 'британск',\n",
              " 'аналитическ',\n",
              " 'центр',\n",
              " 'integrity',\n",
              " 'initiative',\n",
              " 'материал',\n",
              " 'след',\n",
              " 'центр',\n",
              " 'получа',\n",
              " 'финансирован',\n",
              " 'нек',\n",
              " 'институт',\n",
              " 'управлен',\n",
              " 'руководств',\n",
              " 'кристофер',\n",
              " 'доннелл',\n",
              " 'хакер',\n",
              " 'вылож',\n",
              " 'открыт',\n",
              " 'доступ',\n",
              " 'паспорт',\n",
              " 'резюм',\n",
              " 'такж',\n",
              " 'сведен',\n",
              " 'связ',\n",
              " 'министерств',\n",
              " 'оборон',\n",
              " 'великобритан',\n",
              " 'согласн',\n",
              " 'документ',\n",
              " 'год',\n",
              " 'доннелл',\n",
              " 'выдвинул',\n",
              " 'предложен',\n",
              " 'британск',\n",
              " 'власт',\n",
              " 'связ',\n",
              " 'ситуац',\n",
              " 'крым',\n",
              " 'частност',\n",
              " 'планирова',\n",
              " 'заминирова',\n",
              " 'севастопольск']"
            ]
          },
          "metadata": {},
          "execution_count": 71
        }
      ]
    },
    {
      "cell_type": "markdown",
      "source": [
        "Using the original BOW model:"
      ],
      "metadata": {
        "id": "LcBNwXScOeGd"
      }
    },
    {
      "cell_type": "code",
      "source": [
        "for index, score in sorted(lda_model[bow_corpus[test_doc]], key=lambda tup: -1*tup[1]):\n",
        "    print(f\"Topic match score: {score} \\nTopic: {lda_model.print_topic(index, num_of_topics)}\")"
      ],
      "metadata": {
        "colab": {
          "base_uri": "https://localhost:8080/"
        },
        "id": "XzSUTXZ_Oa0F",
        "outputId": "f7b99122-675b-475a-e74a-f7508b1a920f"
      },
      "execution_count": 72,
      "outputs": [
        {
          "output_type": "stream",
          "name": "stdout",
          "text": [
            "Topic match score: 0.987498939037323 \n",
            "Topic: 0.062*\"документ\" + 0.050*\"хакер\" + 0.050*\"британск\" + 0.038*\"расследован\" + 0.038*\"такж\" + 0.038*\"опубликова\" + 0.038*\"группировк\" + 0.026*\"котор\" + 0.026*\"министерств\" + 0.026*\"вмешательств\"\n"
          ]
        },
        {
          "output_type": "stream",
          "name": "stderr",
          "text": [
            "/usr/local/lib/python3.10/dist-packages/ipykernel/ipkernel.py:283: DeprecationWarning: `should_run_async` will not call `transform_cell` automatically in the future. Please pass the result to `transformed_cell` argument and any exception that happen during thetransform in `preprocessing_exc_tuple` in IPython 7.17 and above.\n",
            "  and should_run_async(code)\n"
          ]
        }
      ]
    },
    {
      "cell_type": "markdown",
      "source": [
        "And with the TF/IDF model:"
      ],
      "metadata": {
        "id": "UFOvC-A0Ojtu"
      }
    },
    {
      "cell_type": "code",
      "source": [
        "for index, score in sorted(lda_model_tfidf[bow_corpus[test_doc]], key=lambda tup: -1*tup[1]):\n",
        "    print(\"Topic match score: {}\\t \\nTopic: {}\".format(score, lda_model_tfidf.print_topic(index, num_of_topics)))"
      ],
      "metadata": {
        "colab": {
          "base_uri": "https://localhost:8080/"
        },
        "id": "3gZyf33ROkVh",
        "outputId": "3fe529b2-ac7e-4b29-a6c2-3b5818edb544"
      },
      "execution_count": 73,
      "outputs": [
        {
          "output_type": "stream",
          "name": "stdout",
          "text": [
            "Topic match score: 0.8360159397125244\t \n",
            "Topic: 0.033*\"вмешательств\" + 0.027*\"хакер\" + 0.024*\"документ\" + 0.022*\"группировк\" + 0.022*\"расследован\" + 0.020*\"миллион\" + 0.019*\"российск\" + 0.019*\"спецслужб\" + 0.017*\"британск\" + 0.015*\"дан\"\n",
            "Topic match score: 0.15286970138549805\t \n",
            "Topic: 0.022*\"самолет\" + 0.021*\"миллион\" + 0.020*\"тяжел\" + 0.020*\"воен\" + 0.018*\"выполнен\" + 0.018*\"миноборон\" + 0.018*\"помощ\" + 0.018*\"слов\" + 0.018*\"обнаруж\" + 0.018*\"российск\"\n"
          ]
        },
        {
          "output_type": "stream",
          "name": "stderr",
          "text": [
            "/usr/local/lib/python3.10/dist-packages/ipykernel/ipkernel.py:283: DeprecationWarning: `should_run_async` will not call `transform_cell` automatically in the future. Please pass the result to `transformed_cell` argument and any exception that happen during thetransform in `preprocessing_exc_tuple` in IPython 7.17 and above.\n",
            "  and should_run_async(code)\n"
          ]
        }
      ]
    },
    {
      "cell_type": "markdown",
      "source": [
        "Calculating the perplexity score (lower is better):"
      ],
      "metadata": {
        "id": "uVg17CD0OsL5"
      }
    },
    {
      "cell_type": "code",
      "source": [
        "print('Perplexity: ', lda_model.log_perplexity(bow_corpus))\n",
        "print('Perplexity TFIDF: ', lda_model_tfidf.log_perplexity(bow_corpus))"
      ],
      "metadata": {
        "colab": {
          "base_uri": "https://localhost:8080/"
        },
        "id": "RUIh1qNaOsvX",
        "outputId": "123e588c-4a43-4659-beec-0d2ac82bf98a"
      },
      "execution_count": 74,
      "outputs": [
        {
          "output_type": "stream",
          "name": "stdout",
          "text": [
            "Perplexity:  -5.256536351794473\n",
            "Perplexity TFIDF:  -6.900519298344124\n"
          ]
        },
        {
          "output_type": "stream",
          "name": "stderr",
          "text": [
            "/usr/local/lib/python3.10/dist-packages/ipykernel/ipkernel.py:283: DeprecationWarning: `should_run_async` will not call `transform_cell` automatically in the future. Please pass the result to `transformed_cell` argument and any exception that happen during thetransform in `preprocessing_exc_tuple` in IPython 7.17 and above.\n",
            "  and should_run_async(code)\n"
          ]
        }
      ]
    },
    {
      "cell_type": "markdown",
      "source": [
        "# Exercise - inference\n",
        "Now try it on a new document!\n",
        "\n",
        "Go to a news website, such as orf.at and copy an article of your choice here:"
      ],
      "metadata": {
        "id": "0LPd_SDCWPBi"
      }
    },
    {
      "cell_type": "code",
      "source": [
        "unseen_document = \"\"\"Врач раскрыл неожиданный способ превратить вредные продукты в полезные\n",
        "Врач и телеведущий Александр Мясников порекомендовал оставлять на ночь в холодильнике вареные рис и макароны, чтобы они перестали быть вредными. Неожиданный способ превратить вредные продукты в полезные он раскрыл в своем Telegram-канале.\n",
        "Мясников отметил, что часто советует зрителям избегать есть белый рис и белые макароны, поскольку они содержат быстрые углеводы и ведут к развитию резистентности к инсулину. Однако вареные рис и макароны, оставленные на ночь в холодильнике, превращаются в полезные продукты, заверил доктор.\n",
        "«Крахмал, в большом количестве содержащийся в этих продуктах, превращается в итоге этих манипуляций в его полезный для здоровья вариант — \"резистентный крахмал\". Он уже не расщепляется столь быстро, переваривается значительно медленнее, не вызывает резкого подскока сахара крови. Долго остается в кишечнике, что очень нравится нашему микробиому!» — объяснил специалист.\n",
        "По словам Мясникова, ранее он слышал об этом приеме, но не принимал его всерьез. Однако в последнее время появились статьи уважаемых диетологов, подтверждающие этот факт, отметил врач. Доктор также указал, что если утром разогреть те же самые макароны и рис, резистентный крахмал, содержащийся в них, не потеряет свои полезные свойства.\n",
        "Ранее Мясников развеял популярный миф о кофе. Врач заверил, что этот напиток, вопреки распространенному мнению, не блокирует усвоение витаминов и не вымывает кальций из организма.\"\"\"\n",
        "\n",
        "bow_vector = dictionary.doc2bow(preprocess(unseen_document))\n",
        "\n",
        "print(\"Simply printing the lda_model output would look like this:\")\n",
        "pprint(lda_model[bow_vector])\n",
        "\n",
        "print(\"\\n\\nSo let's make it nicer, by printing the topic contents:\")\n",
        "for index, score in sorted(lda_model[bow_vector], key=lambda tup: -1*tup[1]):\n",
        "    print(f\"Score: {score}\\t Topic: {lda_model.print_topic(index, 5)}\")"
      ],
      "metadata": {
        "colab": {
          "base_uri": "https://localhost:8080/"
        },
        "id": "MR76XHDPWQcp",
        "outputId": "75d661b5-5602-4a97-8be6-a6894bbbec61"
      },
      "execution_count": 75,
      "outputs": [
        {
          "output_type": "stream",
          "name": "stdout",
          "text": [
            "Simply printing the lda_model output would look like this:\n",
            "[(1, 0.2426381), (3, 0.29044628), (4, 0.22784148), (5, 0.20377529)]\n",
            "\n",
            "\n",
            "So let's make it nicer, by printing the topic contents:\n",
            "Score: 0.29046905040740967\t Topic: 0.060*\"российск\" + 0.060*\"год\" + 0.052*\"росс\" + 0.035*\"вмешательств\" + 0.035*\"такж\"\n",
            "Score: 0.24265305697917938\t Topic: 0.052*\"украин\" + 0.050*\"котор\" + 0.035*\"сво\" + 0.035*\"стран\" + 0.035*\"наш\"\n",
            "Score: 0.2277999222278595\t Topic: 0.054*\"социальн\" + 0.054*\"российск\" + 0.053*\"котор\" + 0.028*\"александр\" + 0.028*\"ход\"\n",
            "Score: 0.2037791758775711\t Topic: 0.156*\"сам\" + 0.080*\"год\" + 0.054*\"стал\" + 0.054*\"стран\" + 0.054*\"сотрудник\"\n"
          ]
        },
        {
          "output_type": "stream",
          "name": "stderr",
          "text": [
            "/usr/local/lib/python3.10/dist-packages/ipykernel/ipkernel.py:283: DeprecationWarning: `should_run_async` will not call `transform_cell` automatically in the future. Please pass the result to `transformed_cell` argument and any exception that happen during thetransform in `preprocessing_exc_tuple` in IPython 7.17 and above.\n",
            "  and should_run_async(code)\n"
          ]
        }
      ]
    },
    {
      "cell_type": "markdown",
      "source": [
        "# Visualization\n",
        "Finally, there are packages that can visulaize the results, such as pyLDAvis and tmplot. Here's what it looks like:"
      ],
      "metadata": {
        "id": "i5VmRysEXOVr"
      }
    },
    {
      "cell_type": "code",
      "source": [
        "!pip install pyLDAvis"
      ],
      "metadata": {
        "colab": {
          "base_uri": "https://localhost:8080/"
        },
        "id": "WP30prgRXU1D",
        "outputId": "88708ef1-befb-4e0d-a84e-0fab7c4ae401"
      },
      "execution_count": 76,
      "outputs": [
        {
          "output_type": "stream",
          "name": "stderr",
          "text": [
            "/usr/local/lib/python3.10/dist-packages/ipykernel/ipkernel.py:283: DeprecationWarning: `should_run_async` will not call `transform_cell` automatically in the future. Please pass the result to `transformed_cell` argument and any exception that happen during thetransform in `preprocessing_exc_tuple` in IPython 7.17 and above.\n",
            "  and should_run_async(code)\n"
          ]
        },
        {
          "output_type": "stream",
          "name": "stdout",
          "text": [
            "Requirement already satisfied: pyLDAvis in /usr/local/lib/python3.10/dist-packages (3.4.1)\n",
            "Requirement already satisfied: numpy>=1.24.2 in /usr/local/lib/python3.10/dist-packages (from pyLDAvis) (1.25.2)\n",
            "Requirement already satisfied: scipy in /usr/local/lib/python3.10/dist-packages (from pyLDAvis) (1.11.3)\n",
            "Requirement already satisfied: pandas>=2.0.0 in /usr/local/lib/python3.10/dist-packages (from pyLDAvis) (2.1.3)\n",
            "Requirement already satisfied: joblib>=1.2.0 in /usr/local/lib/python3.10/dist-packages (from pyLDAvis) (1.3.2)\n",
            "Requirement already satisfied: jinja2 in /usr/local/lib/python3.10/dist-packages (from pyLDAvis) (3.1.2)\n",
            "Requirement already satisfied: numexpr in /usr/local/lib/python3.10/dist-packages (from pyLDAvis) (2.8.7)\n",
            "Requirement already satisfied: funcy in /usr/local/lib/python3.10/dist-packages (from pyLDAvis) (2.0)\n",
            "Requirement already satisfied: scikit-learn>=1.0.0 in /usr/local/lib/python3.10/dist-packages (from pyLDAvis) (1.2.2)\n",
            "Requirement already satisfied: gensim in /usr/local/lib/python3.10/dist-packages (from pyLDAvis) (4.3.2)\n",
            "Requirement already satisfied: setuptools in /usr/local/lib/python3.10/dist-packages (from pyLDAvis) (67.7.2)\n",
            "Requirement already satisfied: python-dateutil>=2.8.2 in /usr/local/lib/python3.10/dist-packages (from pandas>=2.0.0->pyLDAvis) (2.8.2)\n",
            "Requirement already satisfied: pytz>=2020.1 in /usr/local/lib/python3.10/dist-packages (from pandas>=2.0.0->pyLDAvis) (2023.3.post1)\n",
            "Requirement already satisfied: tzdata>=2022.1 in /usr/local/lib/python3.10/dist-packages (from pandas>=2.0.0->pyLDAvis) (2023.3)\n",
            "Requirement already satisfied: threadpoolctl>=2.0.0 in /usr/local/lib/python3.10/dist-packages (from scikit-learn>=1.0.0->pyLDAvis) (3.2.0)\n",
            "Requirement already satisfied: smart-open>=1.8.1 in /usr/local/lib/python3.10/dist-packages (from gensim->pyLDAvis) (6.4.0)\n",
            "Requirement already satisfied: MarkupSafe>=2.0 in /usr/local/lib/python3.10/dist-packages (from jinja2->pyLDAvis) (2.1.3)\n",
            "Requirement already satisfied: six>=1.5 in /usr/local/lib/python3.10/dist-packages (from python-dateutil>=2.8.2->pandas>=2.0.0->pyLDAvis) (1.16.0)\n"
          ]
        }
      ]
    },
    {
      "cell_type": "markdown",
      "source": [
        "This code gives an error:"
      ],
      "metadata": {
        "id": "mnK9sYgnbsKC"
      }
    },
    {
      "cell_type": "code",
      "source": [
        "import pyLDAvis.gensim_models as gensimvis\n",
        "import pyLDAvis\n",
        "\n",
        "bow_lda_data = gensimvis.prepare(lda_model, bow_corpus, dictionary)\n",
        "\n",
        "pyLDAvis.display(bow_lda_data)"
      ],
      "metadata": {
        "colab": {
          "base_uri": "https://localhost:8080/",
          "height": 916
        },
        "id": "hi4tdwOqaH7F",
        "outputId": "3382c7cb-bf73-44bd-b6bf-367afe8d61c6"
      },
      "execution_count": 77,
      "outputs": [
        {
          "output_type": "stream",
          "name": "stderr",
          "text": [
            "/usr/local/lib/python3.10/dist-packages/ipykernel/ipkernel.py:283: DeprecationWarning: `should_run_async` will not call `transform_cell` automatically in the future. Please pass the result to `transformed_cell` argument and any exception that happen during thetransform in `preprocessing_exc_tuple` in IPython 7.17 and above.\n",
            "  and should_run_async(code)\n"
          ]
        },
        {
          "output_type": "execute_result",
          "data": {
            "text/plain": [
              "<IPython.core.display.HTML object>"
            ],
            "text/html": [
              "\n",
              "<link rel=\"stylesheet\" type=\"text/css\" href=\"https://cdn.jsdelivr.net/gh/bmabey/pyLDAvis@3.4.0/pyLDAvis/js/ldavis.v1.0.0.css\">\n",
              "\n",
              "\n",
              "<div id=\"ldavis_el32531365409104464961319473751\" style=\"background-color:white;\"></div>\n",
              "<script type=\"text/javascript\">\n",
              "\n",
              "var ldavis_el32531365409104464961319473751_data = {\"mdsDat\": {\"x\": [-0.0038810270358595493, -0.1324067101237807, 0.044907931990781226, -0.08141349694629205, 0.12634112503269276, -9.301635914083067e-05, 0.14344149045042123, -0.10004988018059346, 0.0015767896690542544, 0.001576793502716742], \"y\": [0.026995740223512598, 0.0984703509622957, -0.13662745023470285, -0.09114401662064693, 0.07589009220248381, 0.1113306516878515, -0.020247235752477125, -0.05202165170800698, -0.006323236623744339, -0.006323244136565262], \"topics\": [1, 2, 3, 4, 5, 6, 7, 8, 9, 10], \"cluster\": [1, 1, 1, 1, 1, 1, 1, 1, 1, 1], \"Freq\": [28.473560217093624, 19.23672466525154, 11.032179300386865, 9.833309652443939, 9.213611294341673, 7.589202815456487, 7.589198475121028, 6.5066787829861745, 0.26276739845933417, 0.26276739845933417]}, \"tinfo\": {\"Term\": [\"\\u0441\\u0430\\u043c\", \"\\u0440\\u043e\\u0441\\u0441\\u0438\\u0439\\u0441\\u043a\", \"\\u0433\\u043e\\u0434\", \"\\u043c\\u0438\\u043b\\u043b\\u0438\\u043e\\u043d\", \"\\u0441\\u0430\\u043c\\u043e\\u043b\\u0435\\u0442\", \"\\u0441\\u0442\\u0440\\u0430\\u043d\", \"\\u0431\\u0440\\u0438\\u0442\\u0430\\u043d\\u0441\\u043a\", \"\\u0434\\u043e\\u043a\\u0443\\u043c\\u0435\\u043d\\u0442\", \"\\u043a\\u043e\\u0442\\u043e\\u0440\", \"\\u0445\\u0430\\u043a\\u0435\\u0440\", \"\\u0441\\u043e\\u0446\\u0438\\u0430\\u043b\\u044c\\u043d\", \"\\u043e\\u043f\\u0443\\u0431\\u043b\\u0438\\u043a\\u043e\\u0432\\u0430\", \"\\u0441\\u043e\\u0442\\u0440\\u0443\\u0434\\u043d\\u0438\\u043a\", \"\\u0440\\u0430\\u0441\\u0441\\u043b\\u0435\\u0434\\u043e\\u0432\\u0430\\u043d\", \"\\u0441\\u0442\\u0430\\u043b\", \"\\u043f\\u043e\\u043c\\u043e\\u0449\", \"\\u0441\\u043b\\u043e\\u0432\", \"\\u0442\\u044f\\u0436\\u0435\\u043b\", \"\\u0443\\u043a\\u0440\\u0430\\u0438\\u043d\", \"\\u0432\\u043e\\u0435\\u043d\", \"\\u0440\\u0430\\u0441\\u0441\\u043a\\u0430\\u0437\\u0430\", \"\\u0432\\u043c\\u0435\\u0448\\u0430\\u0442\\u0435\\u043b\\u044c\\u0441\\u0442\\u0432\", \"\\u0432\\u044b\\u043f\\u043e\\u043b\\u043d\\u0435\\u043d\", \"\\u043e\\u0431\\u0432\\u0438\\u043d\\u0435\\u043d\", \"\\u043f\\u043e\\u043b\\u043e\\u0436\\u0435\\u043d\", \"\\u0441\\u0432\\u043e\", \"\\u0433\\u0440\\u0443\\u043f\\u043f\\u0438\\u0440\\u043e\\u0432\\u043a\", \"\\u0442\\u0430\\u043a\\u0436\", \"\\u043e\\u0431\\u043e\\u0440\\u043e\\u043d\", \"\\u0434\\u0435\\u043a\\u0430\\u0431\\u0440\", \"\\u043c\\u0435\\u043d\\u044c\\u0448\", \"\\u0442\\u044b\\u0441\\u044f\\u0447\", \"\\u043a\\u0430\\u043a\", \"\\u0440\\u0430\\u043d\", \"\\u0447\\u0435\\u043b\\u043e\\u0432\\u0435\\u043a\", \"\\u043e\\u0431\\u0432\\u0438\\u043d\\u0435\\u043d\", \"\\u0434\\u0430\\u043d\", \"\\u0432\\u043c\\u0435\\u0448\\u0430\\u0442\\u0435\\u043b\\u044c\\u0441\\u0442\\u0432\", \"\\u043f\\u0440\\u0435\\u0437\\u0438\\u0434\\u0435\\u043d\\u0442\", \"\\u0434\\u0435\\u043b\", \"\\u0440\\u043e\\u0441\\u0441\", \"\\u043f\\u043e\\u043b\\u0438\\u0446\", \"\\u0440\\u0430\\u0441\\u0445\\u043e\\u0434\", \"\\u0441\\u043f\\u0435\\u0446\\u0441\\u043b\\u0443\\u0436\\u0431\", \"\\u0433\\u043e\\u0434\", \"\\u0440\\u043e\\u0441\\u0441\\u0438\\u0439\\u0441\\u043a\", \"\\u0434\\u0435\\u043a\\u0430\\u0431\\u0440\", \"\\u0441\\u043e\\u043e\\u0431\\u0449\\u0430\", \"\\u0442\\u0430\\u043a\\u0436\", \"\\u043c\\u0438\\u0440\", \"\\u0442\\u0430\\u0441\\u0441\", \"\\u0433\\u043e\\u0441\\u0443\\u0434\\u0430\\u0440\\u0441\\u0442\\u0432\", \"\\u043d\\u0430\\u043f\\u0438\\u0441\\u0430\", \"\\u043c\\u0435\\u0441\\u044f\\u0446\", \"\\u043d\\u043e\\u0432\\u043e\\u0441\\u0442\", \"\\u043d\\u0430\\u0447\\u0430\\u043b\", \"\\u0438\\u0442\\u043e\\u0433\", \"\\u0430\\u043b\\u0435\\u043a\\u0441\\u0430\\u043d\\u0434\\u0440\", \"\\u0432\\u0440\\u0435\\u043c\", \"\\u0438\\u0437\\u0432\\u0435\\u0441\\u0442\\u043d\", \"\\u043c\\u0438\\u043b\\u043b\\u0438\\u043e\\u043d\", \"\\u0440\\u0430\\u0441\\u0441\\u043b\\u0435\\u0434\\u043e\\u0432\\u0430\\u043d\", \"\\u043e\\u0442\\u0432\\u0435\\u0440\\u0433\\u0430\", \"\\u043f\\u043e\\u043a\\u0430\\u0437\\u0430\", \"\\u0441\\u0447\\u0438\\u0442\\u0430\", \"\\u0434\\u043e\\u0431\\u0430\\u0432\", \"\\u0441\\u043e\\u0434\\u0435\\u0440\\u0436\\u0430\\u0442\", \"\\u0445\\u0430\\u043a\\u0435\\u0440\\u0441\\u043a\", \"\\u0440\\u0430\\u0437\\u0432\\u0435\\u0434\\u043a\", \"\\u0432\\u044b\\u0434\\u0432\\u0438\\u043d\\u0443\\u043b\", \"\\u0434\\u043e\\u043a\\u0443\\u043c\\u0435\\u043d\\u0442\", \"\\u0445\\u0430\\u043a\\u0435\\u0440\", \"\\u0433\\u0440\\u0443\\u043f\\u043f\\u0438\\u0440\\u043e\\u0432\\u043a\", \"\\u0434\\u043e\\u043a\\u0430\\u0437\\u0430\\u0442\\u0435\\u043b\\u044c\\u0441\\u0442\\u0432\", \"\\u043a\\u043e\\u0442\\u043e\\u0440\", \"\\u0441\\u0442\\u0440\\u0430\\u043d\", \"\\u043c\\u0438\\u043d\\u0438\\u0441\\u0442\\u0435\\u0440\\u0441\\u0442\\u0432\", \"\\u0432\\u043b\\u0430\\u0441\\u0442\", \"\\u0445\\u0430\\u043a\\u0435\\u0440\", \"\\u0434\\u043e\\u043a\\u0443\\u043c\\u0435\\u043d\\u0442\", \"\\u0433\\u0440\\u0443\\u043f\\u043f\\u0438\\u0440\\u043e\\u0432\\u043a\", \"\\u0441\\u0432\\u044f\\u0437\", \"\\u0447\\u0430\\u0441\\u0442\", \"\\u043d\\u043e\\u0432\", \"\\u043e\\u043f\\u0443\\u0431\\u043b\\u0438\\u043a\\u043e\\u0432\\u0430\", \"\\u0431\\u0440\\u0438\\u0442\\u0430\\u043d\\u0441\\u043a\", \"\\u0434\\u043e\\u043a\\u0430\\u0437\\u0430\\u0442\\u0435\\u043b\\u044c\\u0441\\u0442\\u0432\", \"\\u0441\\u0432\\u043e\", \"\\u043c\\u0438\\u043d\\u0438\\u0441\\u0442\\u0435\\u0440\\u0441\\u0442\\u0432\", \"\\u0440\\u0430\\u0431\\u043e\\u0442\\u0430\", \"\\u0432\\u0437\\u0430\\u0438\\u043c\\u043e\\u0434\\u0435\\u0439\\u0441\\u0442\\u0432\", \"\\u043d\\u0435\\u0441\\u043a\\u043e\\u043b\\u044c\\u043a\", \"\\u043d\\u0430\\u043c\\u0435\\u0440\\u0435\\u043d\", \"\\u043d\\u043e\\u044f\\u0431\\u0440\", \"\\u0441\\u0440\\u0430\\u0437\", \"\\u043f\\u0440\\u0438\\u043a\\u0430\\u0437\\u0430\", \"\\u043f\\u0430\\u0441\\u043f\\u043e\\u0440\\u0442\", \"\\u0447\\u0430\\u0441\\u0442\\u043d\\u043e\\u0441\\u0442\", \"\\u0441\\u043e\\u0433\\u043b\\u0430\\u0441\\u043d\", \"\\u0438\\u0441\\u043f\\u043e\\u043b\\u044c\\u0437\", \"\\u043f\\u043b\\u0430\\u0442\", \"\\u0440\\u0430\\u0441\\u0441\\u043b\\u0435\\u0434\\u043e\\u0432\\u0430\\u043d\", \"\\u0440\\u0430\\u0437\\u0432\\u0435\\u0434\\u043a\", \"\\u0432\\u044b\\u0434\\u0432\\u0438\\u043d\\u0443\\u043b\", \"\\u0445\\u0430\\u043a\\u0435\\u0440\\u0441\\u043a\", \"\\u0432\\u043f\\u0435\\u0440\\u0432\", \"\\u0441\\u043e\\u0434\\u0435\\u0440\\u0436\\u0430\\u0442\", \"\\u0442\\u0430\\u043a\\u0436\", \"\\u0432\\u043c\\u0435\\u0448\\u0430\\u0442\\u0435\\u043b\\u044c\\u0441\\u0442\\u0432\", \"\\u043a\\u043e\\u0442\\u043e\\u0440\", \"\\u0441\\u0442\\u0440\\u0430\\u043d\", \"\\u0440\\u043e\\u0441\\u0441\\u0438\\u0439\\u0441\\u043a\", \"\\u0432\\u043b\\u0430\\u0441\\u0442\", \"\\u043e\\u0431\\u043e\\u0440\\u043e\\u043d\", \"\\u0433\\u043e\\u0434\", \"\\u0434\\u0430\\u043d\", \"\\u0441\\u043f\\u0435\\u0446\\u0441\\u043b\\u0443\\u0436\\u0431\", \"\\u0443\\u043a\\u0440\\u0430\\u0438\\u043d\", \"\\u043f\\u0440\\u0435\\u0434\\u043e\\u0441\\u0442\\u0430\\u0432\", \"\\u043f\\u0435\\u0442\\u0440\", \"\\u043f\\u0440\\u043e\\u0438\\u0437\\u043e\\u0448\\u043b\", \"\\u043c\\u043e\\u0441\\u043a\\u043e\\u0432\\u0441\\u043a\", \"\\u043d\\u0430\\u0448\", \"\\u0441\\u0432\\u043e\", \"\\u0433\\u043e\\u0432\\u043e\\u0440\", \"\\u043d\\u0435\\u0441\\u043a\\u043e\\u043b\\u044c\\u043a\", \"\\u043d\\u0430\\u043c\\u0435\\u0440\\u0435\\u043d\", \"\\u043d\\u0430\\u0447\\u0430\\u043b\", \"\\u043d\\u043e\\u0432\\u043e\\u0441\\u0442\", \"\\u043d\\u0430\\u043f\\u0438\\u0441\\u0430\", \"\\u043c\\u0435\\u0441\\u044f\\u0446\", \"\\u0434\\u0440\\u0443\\u0433\", \"\\u0445\\u043e\\u0434\", \"\\u043e\\u0442\\u043c\\u0435\\u0442\", \"\\u0447\\u0438\\u043d\\u043e\\u0432\\u043d\\u0438\\u043a\", \"\\u0433\\u043b\\u0430\\u0432\", \"\\u043d\\u0430\\u0437\\u0432\\u0430\", \"\\u0441\\u0432\\u044f\\u0437\", \"\\u043f\\u0440\\u0435\\u0437\\u0438\\u0434\\u0435\\u043d\\u0442\", \"\\u043a\\u043e\\u0442\\u043e\\u0440\", \"\\u043f\\u043e\\u0442\\u0440\\u0430\\u0442\", \"\\u043e\\u0431\\u043b\\u0430\\u0441\\u0442\", \"\\u043c\\u0438\\u043d\\u043e\\u0431\\u043e\\u0440\\u043e\\u043d\", \"\\u043f\\u0435\\u0440\\u0435\\u0434\\u0430\", \"\\u0434\\u0435\\u043a\\u0430\\u0431\\u0440\", \"\\u043d\\u0430\\u0447\\u0430\", \"\\u0441\\u0442\\u0440\\u0430\\u043d\", \"\\u0441\\u0442\\u0430\\u043b\", \"\\u043c\\u0438\\u043b\\u043b\\u0438\\u043e\\u043d\", \"\\u0442\\u0430\\u043a\\u0436\", \"\\u0432\\u044b\\u043f\\u043e\\u043b\\u043d\\u0435\\u043d\", \"\\u043e\\u0431\\u043e\\u0440\\u043e\\u043d\", \"\\u043e\\u0431\\u043d\\u0430\\u0440\\u0443\\u0436\", \"\\u043c\\u0438\\u043b\\u043b\\u0438\\u043e\\u043d\", \"\\u043c\\u0438\\u043d\\u043e\\u0431\\u043e\\u0440\\u043e\\u043d\", \"\\u0431\\u043e\\u0435\\u0432\", \"\\u043f\\u043b\\u0430\\u0442\", \"\\u0441\\u043e\\u0433\\u043b\\u0430\\u0441\\u043d\", \"\\u0438\\u0441\\u043f\\u043e\\u043b\\u044c\\u0437\", \"\\u0438\\u0441\\u043f\\u043e\\u043b\\u044c\\u0437\\u043e\\u0432\\u0430\", \"\\u0447\\u0430\\u0441\\u0442\\u043d\\u043e\\u0441\\u0442\", \"\\u0441\\u043b\\u0435\\u0434\\u0441\\u0442\\u0432\", \"\\u043f\\u0440\\u0438\\u0447\\u0430\\u0441\\u0442\\u043d\", \"\\u0442\\u0430\\u043a\", \"\\u0442\\u044f\\u0436\\u0435\\u043b\", \"\\u044f\\u043a\\u043e\\u0431\", \"\\u0440\\u0430\\u0441\\u0441\\u043b\\u0435\\u0434\\u043e\\u0432\\u0430\\u043d\", \"\\u043e\\u0431\\u0432\\u0438\\u043d\\u044f\", \"\\u043c\\u0438\\u043d\\u0438\\u0441\\u0442\\u0435\\u0440\\u0441\\u0442\\u0432\", \"\\u0440\\u0430\\u0441\\u0445\\u043e\\u0434\", \"\\u0432\\u043e\\u0435\\u043d\", \"\\u043e\\u0431\\u043b\\u0430\\u0441\\u0442\", \"\\u043f\\u043e\\u0442\\u0440\\u0430\\u0442\", \"\\u0447\\u0438\\u043d\\u043e\\u0432\\u043d\\u0438\\u043a\", \"\\u0434\\u043e\\u043a\\u0443\\u043c\\u0435\\u043d\\u0442\", \"\\u0441\\u043e\\u043e\\u0431\\u0449\\u0430\", \"\\u043a\\u043e\\u0442\\u043e\\u0440\", \"\\u0433\\u043e\\u0434\", \"\\u0445\\u043e\\u0434\", \"\\u0440\\u043e\\u0441\\u0441\", \"\\u043f\\u043e\\u043b\\u043e\\u0436\\u0435\\u043d\", \"\\u0440\\u0430\\u0441\\u0441\\u043a\\u0430\\u0437\\u0430\", \"\\u0441\\u043b\\u043e\\u0432\", \"\\u043f\\u043e\\u043c\\u043e\\u0449\", \"\\u043c\\u043e\\u043b\\u043e\\u0434\", \"\\u043f\\u0440\\u0438\\u0447\\u0430\\u0441\\u0442\\u043d\", \"\\u0441\\u0440\\u0430\\u0437\", \"\\u043f\\u0430\\u0441\\u043f\\u043e\\u0440\\u0442\", \"\\u043f\\u0440\\u0438\\u043a\\u0430\\u0437\\u0430\", \"\\u0434\\u043e\\u0431\\u0430\\u0432\", \"\\u0441\\u0447\\u0438\\u0442\\u0430\", \"\\u043f\\u043e\\u043a\\u0430\\u0437\\u0430\", \"\\u043e\\u0442\\u0432\\u0435\\u0440\\u0433\\u0430\", \"\\u043d\\u0430\\u0448\", \"\\u043e\\u0442\\u043c\\u0435\\u0442\", \"\\u043c\\u043e\\u0441\\u043a\\u0432\", \"\\u043e\\u0431\\u043d\\u0430\\u0440\\u0443\\u0436\", \"\\u043e\\u0431\\u0432\\u0438\\u043d\\u044f\", \"\\u0432\\u043b\\u0430\\u0441\\u0442\", \"\\u043f\\u043e\\u043b\\u0438\\u0446\", \"\\u0431\\u0440\\u0438\\u0442\\u0430\\u043d\\u0441\\u043a\", \"\\u043d\\u0430\\u0447\\u0430\", \"\\u0441\\u043e\\u0442\\u0440\\u0443\\u0434\\u043d\\u0438\\u043a\", \"\\u043e\\u0431\\u0432\\u0438\\u043d\\u0435\\u043d\", \"\\u0441\\u0442\\u0440\\u0430\\u043d\", \"\\u0441\\u0442\\u0430\\u043b\", \"\\u043a\\u043e\\u0442\\u043e\\u0440\", \"\\u0440\\u043e\\u0441\\u0441\", \"\\u043f\\u0440\\u0435\\u0434\\u043e\\u0441\\u0442\\u0430\\u0432\", \"\\u043f\\u0435\\u0442\\u0440\", \"\\u0433\\u043e\\u0434\", \"\\u0440\\u043e\\u0441\\u0441\\u0438\\u0439\\u0441\\u043a\", \"\\u0441\\u0430\\u043c\", \"\\u0441\\u043e\\u0442\\u0440\\u0443\\u0434\\u043d\\u0438\\u043a\", \"\\u0441\\u0435\\u0442\", \"\\u0437\\u0434\\u043e\\u0440\\u043e\\u0432\", \"\\u043e\\u0431\\u0440\\u0430\\u0437\", \"\\u0442\\u0430\\u043a\", \"\\u043d\\u043e\\u044f\\u0431\\u0440\", \"\\u0438\\u0442\\u043e\\u0433\", \"\\u0441\\u0442\\u0430\\u043b\", \"\\u043d\\u0430\\u0437\\u0432\\u0430\", \"\\u0447\\u0430\\u0441\\u0442\", \"\\u0441\\u043e\\u0446\\u0438\\u0430\\u043b\\u044c\\u043d\", \"\\u0441\\u043e\\u043e\\u0431\\u0449\\u0430\", \"\\u0433\\u043e\\u0434\", \"\\u043e\\u043f\\u0443\\u0431\\u043b\\u0438\\u043a\\u043e\\u0432\\u0430\", \"\\u0441\\u0442\\u0440\\u0430\\u043d\", \"\\u0431\\u0440\\u0438\\u0442\\u0430\\u043d\\u0441\\u043a\", \"\\u0442\\u0430\\u043a\\u0436\", \"\\u043f\\u0440\\u0435\\u0434\\u043e\\u0441\\u0442\\u0430\\u0432\", \"\\u043f\\u0435\\u0442\\u0440\", \"\\u043f\\u0440\\u043e\\u0438\\u0437\\u043e\\u0448\\u043b\", \"\\u043c\\u043e\\u0441\\u043a\\u043e\\u0432\\u0441\\u043a\", \"\\u0433\\u043e\\u0432\\u043e\\u0440\", \"\\u0434\\u0440\\u0443\\u0433\", \"\\u0445\\u043e\\u0434\", \"\\u0447\\u0438\\u043d\\u043e\\u0432\\u043d\\u0438\\u043a\", \"\\u043c\\u043e\\u043b\\u043e\\u0434\", \"\\u043d\\u0430\\u0447\\u0430\\u043b\", \"\\u043d\\u043e\\u0432\\u043e\\u0441\\u0442\", \"\\u0438\\u0437\\u0432\\u0435\\u0441\\u0442\\u043d\", \"\\u043e\\u0431\\u043b\\u0430\\u0441\\u0442\", \"\\u0447\\u0435\\u043b\\u043e\\u0432\\u0435\\u043a\", \"\\u0440\\u0430\\u043d\", \"\\u0432\\u043f\\u0435\\u0440\\u0432\", \"\\u043a\\u0430\\u043a\", \"\\u0442\\u044b\\u0441\\u044f\\u0447\", \"\\u043c\\u0435\\u043d\\u044c\\u0448\", \"\\u0440\\u0430\\u0441\\u0441\\u043a\\u0430\\u0437\\u0430\", \"\\u0441\\u043b\\u043e\\u0432\", \"\\u0440\\u043e\\u0441\\u0441\", \"\\u0434\\u0430\\u043d\", \"\\u0441\\u043e\\u0446\\u0438\\u0430\\u043b\\u044c\\u043d\", \"\\u0433\\u043e\\u0432\\u043e\\u0440\", \"\\u0445\\u043e\\u0434\", \"\\u0434\\u0440\\u0443\\u0433\", \"\\u043e\\u0431\\u0440\\u0430\\u0437\", \"\\u0437\\u0434\\u043e\\u0440\\u043e\\u0432\", \"\\u0441\\u0435\\u0442\", \"\\u0447\\u0438\\u043d\\u043e\\u0432\\u043d\\u0438\\u043a\", \"\\u043c\\u043e\\u043b\\u043e\\u0434\", \"\\u0430\\u043b\\u0435\\u043a\\u0441\\u0430\\u043d\\u0434\\u0440\", \"\\u0432\\u0440\\u0435\\u043c\", \"\\u0438\\u0437\\u0432\\u0435\\u0441\\u0442\\u043d\", \"\\u043e\\u0442\\u043c\\u0435\\u0442\", \"\\u0433\\u043b\\u0430\\u0432\", \"\\u043c\\u043e\\u0441\\u043a\\u0432\", \"\\u043d\\u043e\\u0432\", \"\\u0434\\u0435\\u043b\", \"\\u043f\\u0435\\u0440\\u0435\\u0434\\u0430\", \"\\u043d\\u0430\\u0447\\u0430\", \"\\u043f\\u043e\\u043c\\u043e\\u0449\", \"\\u0441\\u043b\\u043e\\u0432\", \"\\u043a\\u043e\\u0442\\u043e\\u0440\", \"\\u0441\\u0442\\u0430\\u043b\", \"\\u0440\\u043e\\u0441\\u0441\\u0438\\u0439\\u0441\\u043a\", \"\\u0440\\u043e\\u0441\\u0441\", \"\\u043f\\u0440\\u0435\\u0434\\u043e\\u0441\\u0442\\u0430\\u0432\", \"\\u043f\\u0435\\u0442\\u0440\", \"\\u043f\\u0440\\u043e\\u0438\\u0437\\u043e\\u0448\\u043b\", \"\\u043c\\u043e\\u0441\\u043a\\u043e\\u0432\\u0441\\u043a\", \"\\u0431\\u043e\\u0435\\u0432\", \"\\u043d\\u0435\\u0441\\u043a\\u043e\\u043b\\u044c\\u043a\", \"\\u043c\\u0435\\u0441\\u044f\\u0446\", \"\\u043d\\u0430\\u0448\", \"\\u0441\\u0442\\u0440\\u0430\\u043d\", \"\\u0441\\u0432\\u043e\", \"\\u0441\\u0432\\u044f\\u0437\", \"\\u0443\\u043a\\u0440\\u0430\\u0438\\u043d\", \"\\u0441\\u0430\\u043c\\u043e\\u043b\\u0435\\u0442\", \"\\u0432\\u043e\\u0435\\u043d\", \"\\u0442\\u044f\\u0436\\u0435\\u043b\", \"\\u0431\\u043e\\u0435\\u0432\", \"\\u0432\\u0437\\u0430\\u0438\\u043c\\u043e\\u0434\\u0435\\u0439\\u0441\\u0442\\u0432\", \"\\u0440\\u0430\\u0431\\u043e\\u0442\\u0430\", \"\\u0442\\u0430\\u0441\\u0441\", \"\\u043c\\u0438\\u0440\", \"\\u0433\\u043e\\u0441\\u0443\\u0434\\u0430\\u0440\\u0441\\u0442\\u0432\", \"\\u043c\\u0438\\u043d\\u043e\\u0431\\u043e\\u0440\\u043e\\u043d\", \"\\u0432\\u044b\\u043f\\u043e\\u043b\\u043d\\u0435\\u043d\", \"\\u043f\\u0435\\u0440\\u0435\\u0434\\u0430\", \"\\u0434\\u0435\\u043a\\u0430\\u0431\\u0440\", \"\\u0440\\u043e\\u0441\\u0441\\u0438\\u0439\\u0441\\u043a\", \"\\u043e\\u043f\\u0443\\u0431\\u043b\\u0438\\u043a\\u043e\\u0432\\u0430\", \"\\u0441\\u0442\\u0440\\u0430\\u043d\", \"\\u0441\\u0430\\u043c\", \"\\u043f\\u0440\\u0435\\u0434\\u043e\\u0441\\u0442\\u0430\\u0432\", \"\\u043f\\u0435\\u0442\\u0440\", \"\\u043f\\u0440\\u043e\\u0438\\u0437\\u043e\\u0448\\u043b\", \"\\u043c\\u043e\\u0441\\u043a\\u043e\\u0432\\u0441\\u043a\", \"\\u0433\\u043e\\u0432\\u043e\\u0440\", \"\\u0434\\u0440\\u0443\\u0433\", \"\\u0445\\u043e\\u0434\", \"\\u0441\\u0435\\u0442\", \"\\u0437\\u0434\\u043e\\u0440\\u043e\\u0432\", \"\\u043e\\u0431\\u0440\\u0430\\u0437\", \"\\u0447\\u0438\\u043d\\u043e\\u0432\\u043d\\u0438\\u043a\", \"\\u043c\\u043e\\u043b\\u043e\\u0434\", \"\\u043d\\u0435\\u0441\\u043a\\u043e\\u043b\\u044c\\u043a\", \"\\u043d\\u0430\\u043c\\u0435\\u0440\\u0435\\u043d\", \"\\u043d\\u043e\\u044f\\u0431\\u0440\", \"\\u043f\\u0430\\u0441\\u043f\\u043e\\u0440\\u0442\", \"\\u0441\\u0440\\u0430\\u0437\", \"\\u043f\\u0440\\u0438\\u043a\\u0430\\u0437\\u0430\", \"\\u0441\\u043e\\u0434\\u0435\\u0440\\u0436\\u0430\\u0442\", \"\\u0445\\u0430\\u043a\\u0435\\u0440\\u0441\\u043a\", \"\\u0441\\u043e\\u0433\\u043b\\u0430\\u0441\\u043d\", \"\\u043f\\u043b\\u0430\\u0442\", \"\\u0432\\u044b\\u0434\\u0432\\u0438\\u043d\\u0443\\u043b\", \"\\u0440\\u0430\\u0437\\u0432\\u0435\\u0434\\u043a\", \"\\u0434\\u043e\\u043a\\u0430\\u0437\\u0430\\u0442\\u0435\\u043b\\u044c\\u0441\\u0442\\u0432\", \"\\u0434\\u043e\\u043a\\u0443\\u043c\\u0435\\u043d\\u0442\", \"\\u0445\\u0430\\u043a\\u0435\\u0440\", \"\\u0447\\u0430\\u0441\\u0442\", \"\\u043d\\u043e\\u0432\", \"\\u0433\\u0440\\u0443\\u043f\\u043f\\u0438\\u0440\\u043e\\u0432\\u043a\", \"\\u0431\\u0440\\u0438\\u0442\\u0430\\u043d\\u0441\\u043a\", \"\\u0441\\u0432\\u044f\\u0437\", \"\\u0441\\u0432\\u043e\", \"\\u043c\\u0438\\u043d\\u0438\\u0441\\u0442\\u0435\\u0440\\u0441\\u0442\\u0432\", \"\\u0440\\u0430\\u0441\\u0441\\u043b\\u0435\\u0434\\u043e\\u0432\\u0430\\u043d\", \"\\u0442\\u0430\\u043a\\u0436\", \"\\u043a\\u043e\\u0442\\u043e\\u0440\", \"\\u043f\\u0440\\u0435\\u0434\\u043e\\u0441\\u0442\\u0430\\u0432\", \"\\u043f\\u0435\\u0442\\u0440\", \"\\u043f\\u0440\\u043e\\u0438\\u0437\\u043e\\u0448\\u043b\", \"\\u043c\\u043e\\u0441\\u043a\\u043e\\u0432\\u0441\\u043a\", \"\\u0433\\u043e\\u0432\\u043e\\u0440\", \"\\u0434\\u0440\\u0443\\u0433\", \"\\u0445\\u043e\\u0434\", \"\\u0441\\u0435\\u0442\", \"\\u0437\\u0434\\u043e\\u0440\\u043e\\u0432\", \"\\u043e\\u0431\\u0440\\u0430\\u0437\", \"\\u0447\\u0438\\u043d\\u043e\\u0432\\u043d\\u0438\\u043a\", \"\\u043c\\u043e\\u043b\\u043e\\u0434\", \"\\u0431\\u043e\\u0435\\u0432\", \"\\u0442\\u0430\\u043a\", \"\\u0432\\u0437\\u0430\\u0438\\u043c\\u043e\\u0434\\u0435\\u0439\\u0441\\u0442\\u0432\", \"\\u0440\\u0430\\u0431\\u043e\\u0442\\u0430\", \"\\u043d\\u0435\\u0441\\u043a\\u043e\\u043b\\u044c\\u043a\", \"\\u043d\\u0430\\u043c\\u0435\\u0440\\u0435\\u043d\", \"\\u0442\\u0430\\u0441\\u0441\", \"\\u0433\\u043e\\u0441\\u0443\\u0434\\u0430\\u0440\\u0441\\u0442\\u0432\", \"\\u043c\\u0438\\u0440\", \"\\u043d\\u0430\\u0447\\u0430\\u043b\", \"\\u043d\\u043e\\u0432\\u043e\\u0441\\u0442\", \"\\u043d\\u0430\\u043f\\u0438\\u0441\\u0430\", \"\\u043c\\u0435\\u0441\\u044f\\u0446\", \"\\u043d\\u043e\\u044f\\u0431\\u0440\", \"\\u043f\\u0440\\u0438\\u0447\\u0430\\u0441\\u0442\\u043d\", \"\\u0438\\u0442\\u043e\\u0433\", \"\\u0438\\u0437\\u0432\\u0435\\u0441\\u0442\\u043d\", \"\\u0432\\u0440\\u0435\\u043c\", \"\\u0440\\u043e\\u0441\\u0441\\u0438\\u0439\\u0441\\u043a\", \"\\u0441\\u0442\\u0440\\u0430\\u043d\", \"\\u0442\\u0430\\u043a\\u0436\", \"\\u0433\\u043e\\u0434\", \"\\u0441\\u0442\\u0430\\u043b\", \"\\u0441\\u0430\\u043c\", \"\\u0440\\u043e\\u0441\\u0441\", \"\\u043a\\u043e\\u0442\\u043e\\u0440\", \"\\u043f\\u0435\\u0440\\u0435\\u0434\\u0430\", \"\\u0441\\u043b\\u043e\\u0432\", \"\\u0441\\u0430\\u043c\\u043e\\u043b\\u0435\\u0442\", \"\\u0441\\u043e\\u0446\\u0438\\u0430\\u043b\\u044c\\u043d\", \"\\u0431\\u0440\\u0438\\u0442\\u0430\\u043d\\u0441\\u043a\", \"\\u0441\\u043e\\u0442\\u0440\\u0443\\u0434\\u043d\\u0438\\u043a\", \"\\u0434\\u0435\\u043a\\u0430\\u0431\\u0440\", \"\\u043c\\u0438\\u043b\\u043b\\u0438\\u043e\\u043d\", \"\\u043d\\u0430\\u0447\\u0430\", \"\\u0441\\u043e\\u043e\\u0431\\u0449\\u0430\", \"\\u043e\\u0431\\u0432\\u0438\\u043d\\u0435\\u043d\", \"\\u043e\\u043f\\u0443\\u0431\\u043b\\u0438\\u043a\\u043e\\u0432\\u0430\", \"\\u0440\\u0430\\u0441\\u0441\\u043b\\u0435\\u0434\\u043e\\u0432\\u0430\\u043d\", \"\\u0440\\u0430\\u0441\\u0441\\u043a\\u0430\\u0437\\u0430\", \"\\u043d\\u0430\\u0437\\u0432\\u0430\", \"\\u0434\\u043e\\u043a\\u0443\\u043c\\u0435\\u043d\\u0442\", \"\\u043f\\u043e\\u043c\\u043e\\u0449\", \"\\u043d\\u0430\\u0448\", \"\\u043c\\u0438\\u043d\\u043e\\u0431\\u043e\\u0440\\u043e\\u043d\", \"\\u0442\\u044f\\u0436\\u0435\\u043b\", \"\\u043f\\u0440\\u0435\\u0434\\u043e\\u0441\\u0442\\u0430\\u0432\", \"\\u043f\\u0435\\u0442\\u0440\", \"\\u043f\\u0440\\u043e\\u0438\\u0437\\u043e\\u0448\\u043b\", \"\\u043c\\u043e\\u0441\\u043a\\u043e\\u0432\\u0441\\u043a\", \"\\u0433\\u043e\\u0432\\u043e\\u0440\", \"\\u0434\\u0440\\u0443\\u0433\", \"\\u0445\\u043e\\u0434\", \"\\u0441\\u0435\\u0442\", \"\\u0437\\u0434\\u043e\\u0440\\u043e\\u0432\", \"\\u043e\\u0431\\u0440\\u0430\\u0437\", \"\\u0447\\u0438\\u043d\\u043e\\u0432\\u043d\\u0438\\u043a\", \"\\u043c\\u043e\\u043b\\u043e\\u0434\", \"\\u0431\\u043e\\u0435\\u0432\", \"\\u0442\\u0430\\u043a\", \"\\u0432\\u0437\\u0430\\u0438\\u043c\\u043e\\u0434\\u0435\\u0439\\u0441\\u0442\\u0432\", \"\\u0440\\u0430\\u0431\\u043e\\u0442\\u0430\", \"\\u043d\\u0435\\u0441\\u043a\\u043e\\u043b\\u044c\\u043a\", \"\\u043d\\u0430\\u043c\\u0435\\u0440\\u0435\\u043d\", \"\\u0433\\u043e\\u0441\\u0443\\u0434\\u0430\\u0440\\u0441\\u0442\\u0432\", \"\\u0442\\u0430\\u0441\\u0441\", \"\\u043c\\u0438\\u0440\", \"\\u043d\\u0430\\u0447\\u0430\\u043b\", \"\\u043d\\u043e\\u0432\\u043e\\u0441\\u0442\", \"\\u043d\\u0430\\u043f\\u0438\\u0441\\u0430\", \"\\u043c\\u0435\\u0441\\u044f\\u0446\", \"\\u043d\\u043e\\u044f\\u0431\\u0440\", \"\\u043f\\u0440\\u0438\\u0447\\u0430\\u0441\\u0442\\u043d\", \"\\u0438\\u0442\\u043e\\u0433\", \"\\u0438\\u0437\\u0432\\u0435\\u0441\\u0442\\u043d\", \"\\u0432\\u0440\\u0435\\u043c\", \"\\u0440\\u043e\\u0441\\u0441\\u0438\\u0439\\u0441\\u043a\", \"\\u0433\\u043e\\u0434\", \"\\u0441\\u0442\\u0440\\u0430\\u043d\", \"\\u0440\\u043e\\u0441\\u0441\", \"\\u0442\\u0430\\u043a\\u0436\", \"\\u0441\\u0430\\u043c\", \"\\u0441\\u0442\\u0430\\u043b\", \"\\u043a\\u043e\\u0442\\u043e\\u0440\", \"\\u043f\\u0435\\u0440\\u0435\\u0434\\u0430\", \"\\u0441\\u043b\\u043e\\u0432\", \"\\u0441\\u043e\\u0446\\u0438\\u0430\\u043b\\u044c\\u043d\", \"\\u043d\\u0430\\u0437\\u0432\\u0430\", \"\\u0431\\u0440\\u0438\\u0442\\u0430\\u043d\\u0441\\u043a\", \"\\u043c\\u0438\\u043b\\u043b\\u0438\\u043e\\u043d\", \"\\u0434\\u0435\\u043a\\u0430\\u0431\\u0440\", \"\\u043f\\u043e\\u043c\\u043e\\u0449\", \"\\u0440\\u0430\\u0441\\u0441\\u043a\\u0430\\u0437\\u0430\", \"\\u043e\\u0431\\u0432\\u0438\\u043d\\u0435\\u043d\", \"\\u0441\\u0430\\u043c\\u043e\\u043b\\u0435\\u0442\", \"\\u0434\\u0430\\u043d\", \"\\u0441\\u043e\\u043e\\u0431\\u0449\\u0430\", \"\\u043f\\u043e\\u043b\\u0438\\u0446\", \"\\u043e\\u043f\\u0443\\u0431\\u043b\\u0438\\u043a\\u043e\\u0432\\u0430\", \"\\u0441\\u043e\\u0442\\u0440\\u0443\\u0434\\u043d\\u0438\\u043a\", \"\\u0440\\u0430\\u0441\\u0441\\u043b\\u0435\\u0434\\u043e\\u0432\\u0430\\u043d\", \"\\u043e\\u0442\\u043c\\u0435\\u0442\", \"\\u0442\\u044f\\u0436\\u0435\\u043b\"], \"Freq\": [5.0, 12.0, 11.0, 6.0, 3.0, 8.0, 6.0, 6.0, 8.0, 5.0, 3.0, 4.0, 3.0, 6.0, 5.0, 3.0, 3.0, 2.0, 2.0, 2.0, 3.0, 5.0, 3.0, 4.0, 3.0, 3.0, 4.0, 8.0, 3.0, 3.0, 1.8622927541138918, 1.8621831602362051, 1.861535773544441, 1.8610831116889244, 1.8608609883832556, 2.7544499349636604, 2.752284085955876, 3.647541012214002, 1.865040429190181, 1.8651482617376904, 5.416583858464597, 1.8668502937988363, 1.8650617608556592, 1.8688705395119796, 6.29599409711928, 6.311496542524775, 1.8652519845147868, 1.8604466843849292, 3.6468090816737373, 0.9770803024491086, 0.9770800088940791, 0.9769300022739954, 0.9770820637792857, 0.9769595534803002, 0.9738639178423557, 0.9733957954219509, 0.9770806938558146, 0.9770807917074912, 0.9769574985950936, 0.9730775817699533, 2.7531346127280663, 1.8731607484167097, 0.9785400537592255, 0.9785040443422712, 0.9784083454026483, 0.9782701788354219, 0.9809178494983218, 0.9806199889950374, 0.9798087985968026, 0.9795877516595755, 0.9953479383809883, 0.988852054836136, 0.9868193819600765, 0.9822898278546127, 0.9846924779195416, 0.9846796593499193, 0.9829313434457861, 0.9811269585310152, 3.538576716051649, 4.3858117197369495, 2.6666739682855094, 1.8076080464027626, 1.8099985315449698, 1.8117010911232994, 2.6733051846473597, 3.5355909895316646, 1.8078756538102752, 1.8117707695342475, 1.8139169174782912, 0.9491791465009426, 0.9488959374757984, 0.9506761084909907, 0.9484126839805126, 0.9489560301471, 0.9502666321367088, 0.9472034925055095, 0.9468590008551765, 0.9535686219564811, 0.9519074463300048, 0.9507024196936068, 0.9496588962431162, 2.6839629405291645, 0.9502606162587237, 0.9501768567267775, 0.9491798075864355, 0.9467731258496531, 0.9456733440237195, 2.6747545484819213, 1.8127285501963133, 1.8153538529055868, 1.8078079586558056, 1.810863495803837, 0.9520563888915478, 0.9517305398521135, 0.9515441798516744, 0.9509398816026446, 0.9498071116106169, 2.107277496557127, 1.418541987360763, 1.4127425161348908, 1.410485026237178, 1.403098214774885, 1.4355036436216517, 1.435580076169579, 0.76473038979575, 0.7519981528387248, 0.7519998210094138, 0.7520193841020381, 0.7520006550947582, 0.7520163510644219, 0.75195409796735, 0.7006231210032268, 0.6815397032779488, 0.7664904615244115, 0.5540231055613524, 0.7640268767206801, 0.7519673675069208, 0.7519303644480035, 0.7519939065860622, 2.028763374913752, 0.5084276785553407, 0.4995866013820361, 0.6335556454102951, 0.7641062664802833, 0.7519911768522077, 0.7098320298134319, 1.4355605130769546, 0.7342230358891804, 0.8174575498005352, 0.7519678224625632, 1.605810292275025, 1.6422646488756458, 1.390912218995582, 2.670775099566581, 1.1306848796303384, 0.8191071800285571, 0.8997771219788996, 0.8940813188454434, 0.8926518767063439, 0.8862808902646323, 0.863829592167929, 0.8612263854127663, 0.7421989350322569, 0.6788383546328647, 0.7611089338494147, 0.5985022871112291, 1.6542141092993492, 0.7579018469281597, 0.922764714324953, 0.6835120559474273, 0.5810532930562893, 0.416301604492537, 0.40442175756307835, 0.35896073273258844, 0.9939039606399651, 0.5362481219618664, 1.1453609586931757, 1.5264602356927426, 0.1916417086389845, 0.7898002368811832, 1.5818783292638119, 1.5831542342128369, 1.581904546488792, 1.5821139043288492, 0.8291234129358743, 0.829329541117782, 0.8292110569923291, 0.8291778738380066, 0.829128289086414, 0.8292020646108141, 0.8290847203647083, 0.8288712462936757, 0.8288569978018387, 0.8287150194965125, 0.829180723536374, 0.828759854750826, 0.8290804774804723, 0.8285095245809088, 0.8290950426054612, 0.8289457184110102, 1.5827920058870266, 0.8290834538321005, 0.8290680021342862, 0.8292670377335907, 1.583301278648594, 0.8291368381815162, 0.829013224599002, 0.8288754258512813, 0.07547431667105213, 0.07547431667105213, 0.07547453039842969, 0.0754745145667721, 4.357950220078585, 1.500276309643764, 0.7858543893555994, 0.7858540763847395, 0.7858543371937894, 0.7858553282681792, 0.7858543371937894, 0.7858566323134288, 1.5035206699012824, 0.7858577277114386, 0.7858540763847395, 0.7897922930386939, 0.7896485872521821, 2.2263465880435556, 0.7858531374721598, 1.5002808998830426, 0.7858516247796702, 0.7889884795468073, 0.07144185819323252, 0.07144187775391127, 0.07144187123368502, 0.07144187775391127, 0.07144188427413752, 0.07144185819323252, 0.07144187123368502, 0.07144188427413752, 0.07144187775391127, 0.0744060508490893, 0.07402954690460926, 0.07466041791548676, 0.07479290239262534, 0.07495095267688338, 0.07475037747703413, 0.07460155983314365, 0.07451926805766423, 0.07389620827783216, 0.07383908457567108, 0.07473538747688936, 0.07463114861985828, 0.07685672352608491, 0.07423684445772047, 1.5024321325840926, 0.78441490072729, 0.7873758641777505, 0.7839107049603183, 0.78649693818215, 0.7849501327534536, 0.7847501966501221, 0.7864611552009643, 0.7841929001909532, 0.7874004845379834, 0.7863698720856942, 0.7829217176085923, 0.7825470395417438, 0.7851622225515611, 0.783521578080367, 0.7817427570535441, 0.7871021191555007, 0.7850796504535769, 0.784793751736551, 0.7845667958310995, 0.7825299304778531, 1.494043266452553, 0.7842866870716707, 1.5004484200848236, 0.7856185338043512, 0.07266668677677789, 0.072693934786686, 0.07266306153305715, 0.0727339559125094, 0.07252443508207451, 0.07268041836540351, 0.0727273639675424, 0.07296951199146383, 0.07290704825972903, 0.07288791792685742, 0.07275140402797103, 0.07273805061225153, 2.1057475018938914, 1.4242208023677427, 1.424219907938774, 0.7460164592452903, 0.7493171704679475, 0.7484834732263577, 0.7460181586603305, 0.7460181586603305, 0.746016325080945, 0.7460155648163217, 0.7460148492731468, 0.7460188294820569, 0.7460174431171556, 2.1094558043975193, 0.7542366192378951, 1.4305942348689726, 0.7460095274207839, 0.06782011008174416, 0.0678201044915631, 0.0678201044915631, 0.06782011567192521, 0.06782011567192521, 0.06782011567192521, 0.0678201268522873, 0.06782012126210625, 0.0678201268522873, 0.06782011567192521, 0.06782012126210625, 0.06782011008174416, 0.07016299409251942, 0.06993314261814403, 0.07062791827037412, 0.07115033746036376, 0.07102004152036955, 0.0709414323943957, 0.07120409264137388, 0.07102249560985202, 0.0708108960766162, 0.0707314763743896, 0.07081795647528673, 0.07052542789093987, 0.07491690083093064, 0.08575851473656709, 0.07992077810532869, 0.07372727676166661, 0.07347734535694717, 0.0764347356102058, 0.07995718695452991, 0.07324380995325755, 0.07393058605640014, 0.07412339699111525, 0.07459800336255458, 0.07475033579626154, 0.07398217783734258, 0.008735236274039965, 0.008735236274039965, 0.008735235371018696, 0.008735238080082502, 0.008735237177061234, 0.008735236274039965, 0.008735238080082502, 0.008735236274039965, 0.008735238983103771, 0.008735236274039965, 0.008735236274039965, 0.008735236274039965, 0.008735236274039965, 0.008735237177061234, 0.008735236274039965, 0.008735238080082502, 0.008735234467997427, 0.008735236274039965, 0.008735240789146307, 0.008735236274039965, 0.008735238983103771, 0.008735238983103771, 0.008735236274039965, 0.008735238983103771, 0.008735237177061234, 0.008735238983103771, 0.008735234467997427, 0.008735238080082502, 0.008735240789146307, 0.008735236274039965, 0.008735264267699293, 0.008735263364678024, 0.008735261558635486, 0.008735258849571681, 0.008735254334465337, 0.008735254334465337, 0.00873525343144407, 0.008735252528422801, 0.008735248013316457, 0.008735247110295188, 0.008735246207273919, 0.008735245304252652, 0.008735244401231383, 0.008735244401231383, 0.008735243498210114, 0.008735243498210114, 0.008735243498210114, 0.008735242595188845, 0.008735241692167576, 0.008735241692167576, 0.008735241692167576, 0.008735240789146307, 0.008735240789146307, 0.008735240789146307, 0.008735240789146307, 0.008735240789146307, 0.008735239886125038, 0.008735239886125038, 0.008735236274039965, 0.008735236274039965, 0.008735236274039965, 0.008735238080082502, 0.008735239886125038, 0.008735236274039965, 0.008735237177061234, 0.008735237177061234, 0.008735238983103771, 0.008735239886125038, 0.008735236274039965, 0.008735236274039965, 0.008735237177061234, 0.008735238080082502, 0.008735234467997427, 0.008735237177061234, 0.008735238080082502, 0.008735236274039965, 0.008735236274039965, 0.008735238983103771, 0.008735237177061234, 0.008735238080082502, 0.008735238983103771, 0.008735238983103771, 0.008735236274039965, 0.008735236274039965, 0.008735235371018696, 0.008735240789146307, 0.008735241692167576, 0.008735236274039965, 0.008735267879784368, 0.00873525975259295, 0.00873525975259295, 0.008735255237486606, 0.008735252528422801, 0.008735252528422801, 0.008735250722380263, 0.008735250722380263, 0.008735244401231383, 0.008735243498210114, 0.008735243498210114, 0.008735243498210114, 0.008735243498210114, 0.008735243498210114, 0.008735242595188845, 0.008735242595188845, 0.008735241692167576, 0.008735241692167576, 0.008735241692167576, 0.008735240789146307, 0.008735240789146307, 0.008735240789146307, 0.008735240789146307, 0.008735240789146307, 0.008735240789146307, 0.008735240789146307, 0.008735240789146307], \"Total\": [5.0, 12.0, 11.0, 6.0, 3.0, 8.0, 6.0, 6.0, 8.0, 5.0, 3.0, 4.0, 3.0, 6.0, 5.0, 3.0, 3.0, 2.0, 2.0, 2.0, 3.0, 5.0, 3.0, 4.0, 3.0, 3.0, 4.0, 8.0, 3.0, 3.0, 2.4146300517710677, 2.4146156267859293, 2.4144653781634164, 2.414407031014595, 2.414358599551222, 4.058389818783352, 4.178663265055782, 5.943486670127521, 3.0989878298369997, 3.139840417695992, 9.167124766346186, 3.1701740783610894, 3.2377232506733047, 3.290897621888989, 11.573379716752418, 12.091369893499172, 3.777186023945214, 3.916966698670485, 8.2167763529559, 2.2051305193558832, 2.2051302929610945, 2.2051295296712388, 2.210711162307105, 2.2107137351755406, 2.210081761396776, 2.209988833293427, 2.2413476775784433, 2.251580452260422, 2.251520480762636, 2.2505390924601376, 6.640545580950484, 6.77047386691952, 2.28190974415374, 2.281907129860151, 2.2818709132765096, 2.281850068852281, 2.4025170936153835, 2.402517989656897, 2.402658186314196, 2.4025685794186873, 6.7886757115520515, 5.0294590854457635, 4.154121272613049, 3.2779518635275378, 8.460121792568382, 8.940743274528648, 4.152839045501135, 3.1576793570730857, 5.0294590854457635, 6.7886757115520515, 4.154121272613049, 3.074005916713889, 3.104448451688055, 3.114402312475202, 4.658487059642061, 6.365523061402008, 3.2779518635275378, 3.7575044071812718, 4.152839045501135, 2.1926872334307266, 2.19243246520075, 2.198285765091696, 2.198393884684077, 2.228802276815701, 2.2691596506209946, 2.2692477532978232, 2.2691797624437826, 2.37741761823505, 2.383957675107643, 2.383561557601279, 2.384938603256754, 6.77047386691952, 2.402658186314196, 2.4025685794186873, 2.402517989656897, 2.4020715741088927, 2.4025170936153835, 8.2167763529559, 5.943486670127521, 8.460121792568382, 8.940743274528648, 12.091369893499172, 3.1576793570730857, 3.241863555682598, 11.573379716752418, 4.178663265055782, 3.290897621888989, 2.6936881130648094, 2.011425792547945, 2.013171564946586, 2.013869620315841, 2.0160829913297773, 2.7612511014782815, 3.7575044071812718, 2.046922942996578, 2.198285765091696, 2.198393884684077, 2.209988833293427, 2.210081761396776, 2.210711162307105, 2.2107137351755406, 2.066424948514898, 2.071408482994675, 2.8017341087211713, 2.1102770289934405, 2.935219481141023, 2.9251260983303, 3.074005916713889, 3.0989878298369997, 8.460121792568382, 2.2845284103176207, 2.286400235849039, 2.927588141036063, 3.6134106556099255, 3.777186023945214, 3.706621269353929, 8.940743274528648, 5.127365915012157, 6.640545580950484, 8.2167763529559, 3.038115618137783, 3.241863555682598, 3.0648670385401418, 6.640545580950484, 2.927588141036063, 2.170908931323634, 2.384938603256754, 2.383957675107643, 2.383561557601279, 2.3966052890398037, 2.37741761823505, 2.3907107419210356, 2.229749681889826, 2.174474889817977, 2.8355934046619757, 2.329570635768887, 6.77047386691952, 3.1218354702763382, 4.152839045501135, 3.2377232506733047, 2.793580834086266, 2.286400235849039, 2.2845284103176207, 2.1102770289934405, 6.7886757115520515, 3.916966698670485, 8.460121792568382, 11.573379716752418, 2.071408482994675, 9.167124766346186, 3.0243438902836615, 3.0359311772205078, 3.760543635561558, 3.761399898474788, 2.1180695949666637, 2.229749681889826, 2.2691596506209946, 2.2691797624437826, 2.2692477532978232, 2.281850068852281, 2.2818709132765096, 2.281907129860151, 2.28190974415374, 2.7612511014782815, 2.8017341087211713, 2.993647079561225, 3.0648670385401418, 3.1218354702763382, 3.1576793570730857, 3.1701740783610894, 6.365523061402008, 3.706621269353929, 3.7107031015868657, 4.058389818783352, 8.940743274528648, 5.127365915012157, 8.460121792568382, 9.167124766346186, 2.011425792547945, 2.013171564946586, 11.573379716752418, 12.091369893499172, 5.603378488494257, 3.7107031015868657, 2.0775857562934834, 2.0775967316898027, 2.077685830538261, 2.174474889817977, 2.228802276815701, 2.2413476775784433, 5.127365915012157, 2.9251260983303, 3.104448451688055, 3.689692744175355, 3.916966698670485, 11.573379716752418, 4.658487059642061, 8.940743274528648, 6.365523061402008, 8.2167763529559, 2.011425792547945, 2.013171564946586, 2.013869620315841, 2.0160829913297773, 2.046922942996578, 2.066424948514898, 2.071408482994675, 2.1102770289934405, 2.1180695949666637, 2.209988833293427, 2.210081761396776, 2.2505390924601376, 2.286400235849039, 2.414358599551222, 2.414407031014595, 2.4020715741088927, 2.4144653781634164, 2.4146156267859293, 2.4146300517710677, 3.0359311772205078, 3.760543635561558, 9.167124766346186, 4.178663265055782, 3.689692744175355, 2.046922942996578, 2.071408482994675, 2.066424948514898, 2.077685830538261, 2.0775967316898027, 2.0775857562934834, 2.1102770289934405, 2.1180695949666637, 2.251580452260422, 2.251520480762636, 2.2505390924601376, 2.8017341087211713, 2.935219481141023, 2.993647079561225, 3.114402312475202, 3.139840417695992, 3.6134106556099255, 3.706621269353929, 3.761399898474788, 3.760543635561558, 8.460121792568382, 5.127365915012157, 12.091369893499172, 9.167124766346186, 2.011425792547945, 2.013171564946586, 2.013869620315841, 2.0160829913297773, 2.170908931323634, 2.198285765091696, 2.2107137351755406, 2.7612511014782815, 8.940743274528648, 3.7575044071812718, 3.074005916713889, 2.6936881130648094, 3.548820261475551, 2.793580834086266, 2.8355934046619757, 2.170908931323634, 2.19243246520075, 2.1926872334307266, 2.2051302929610945, 2.2051305193558832, 2.2051295296712388, 2.927588141036063, 3.038115618137783, 3.6134106556099255, 3.777186023945214, 12.091369893499172, 4.658487059642061, 8.940743274528648, 5.603378488494257, 2.011425792547945, 2.013171564946586, 2.013869620315841, 2.0160829913297773, 2.046922942996578, 2.066424948514898, 2.071408482994675, 2.0775857562934834, 2.0775967316898027, 2.077685830538261, 2.1102770289934405, 2.1180695949666637, 2.198285765091696, 2.198393884684077, 2.228802276815701, 2.2691797624437826, 2.2691596506209946, 2.2692477532978232, 2.4025170936153835, 2.402517989656897, 2.383957675107643, 2.384938603256754, 2.4025685794186873, 2.402658186314196, 3.2779518635275378, 6.7886757115520515, 5.0294590854457635, 3.104448451688055, 3.114402312475202, 4.154121272613049, 6.365523061402008, 3.074005916713889, 3.7575044071812718, 4.152839045501135, 6.77047386691952, 8.2167763529559, 8.460121792568382, 2.011425792547945, 2.013171564946586, 2.013869620315841, 2.0160829913297773, 2.046922942996578, 2.066424948514898, 2.071408482994675, 2.0775857562934834, 2.0775967316898027, 2.077685830538261, 2.1102770289934405, 2.1180695949666637, 2.170908931323634, 2.174474889817977, 2.19243246520075, 2.1926872334307266, 2.198285765091696, 2.198393884684077, 2.2051302929610945, 2.2051295296712388, 2.2051305193558832, 2.209988833293427, 2.210081761396776, 2.210711162307105, 2.2107137351755406, 2.228802276815701, 2.229749681889826, 2.2413476775784433, 2.2505390924601376, 2.251520480762636, 12.091369893499172, 8.940743274528648, 8.2167763529559, 11.573379716752418, 5.127365915012157, 5.603378488494257, 9.167124766346186, 8.460121792568382, 3.6134106556099255, 3.760543635561558, 3.548820261475551, 3.689692744175355, 6.365523061402008, 3.7107031015868657, 3.777186023945214, 6.640545580950484, 3.706621269353929, 3.916966698670485, 4.058389818783352, 4.658487059642061, 6.77047386691952, 3.0359311772205078, 2.9251260983303, 6.7886757115520515, 3.761399898474788, 2.7612511014782815, 2.927588141036063, 2.8355934046619757, 2.011425792547945, 2.013171564946586, 2.013869620315841, 2.0160829913297773, 2.046922942996578, 2.066424948514898, 2.071408482994675, 2.0775857562934834, 2.0775967316898027, 2.077685830538261, 2.1102770289934405, 2.1180695949666637, 2.170908931323634, 2.174474889817977, 2.19243246520075, 2.1926872334307266, 2.198285765091696, 2.198393884684077, 2.2051295296712388, 2.2051302929610945, 2.2051305193558832, 2.209988833293427, 2.210081761396776, 2.210711162307105, 2.2107137351755406, 2.228802276815701, 2.229749681889826, 2.2413476775784433, 2.2505390924601376, 2.251520480762636, 12.091369893499172, 11.573379716752418, 8.940743274528648, 9.167124766346186, 8.2167763529559, 5.603378488494257, 5.127365915012157, 8.460121792568382, 3.6134106556099255, 3.760543635561558, 3.689692744175355, 2.9251260983303, 6.365523061402008, 6.640545580950484, 3.777186023945214, 3.761399898474788, 3.0359311772205078, 4.058389818783352, 3.548820261475551, 4.178663265055782, 3.916966698670485, 3.1701740783610894, 4.658487059642061, 3.7107031015868657, 6.77047386691952, 2.8017341087211713, 2.8355934046619757], \"Category\": [\"Default\", \"Default\", \"Default\", \"Default\", \"Default\", \"Default\", \"Default\", \"Default\", \"Default\", \"Default\", \"Default\", \"Default\", \"Default\", \"Default\", \"Default\", \"Default\", \"Default\", \"Default\", \"Default\", \"Default\", \"Default\", \"Default\", \"Default\", \"Default\", \"Default\", \"Default\", \"Default\", \"Default\", \"Default\", \"Default\", \"Topic1\", \"Topic1\", \"Topic1\", \"Topic1\", \"Topic1\", \"Topic1\", \"Topic1\", \"Topic1\", \"Topic1\", \"Topic1\", \"Topic1\", \"Topic1\", \"Topic1\", \"Topic1\", \"Topic1\", \"Topic1\", \"Topic1\", \"Topic1\", \"Topic1\", \"Topic1\", \"Topic1\", \"Topic1\", \"Topic1\", \"Topic1\", \"Topic1\", \"Topic1\", \"Topic1\", \"Topic1\", \"Topic1\", \"Topic1\", \"Topic1\", \"Topic1\", \"Topic1\", \"Topic1\", \"Topic1\", \"Topic1\", \"Topic1\", \"Topic1\", \"Topic1\", \"Topic1\", \"Topic1\", \"Topic1\", \"Topic1\", \"Topic1\", \"Topic1\", \"Topic1\", \"Topic1\", \"Topic1\", \"Topic2\", \"Topic2\", \"Topic2\", \"Topic2\", \"Topic2\", \"Topic2\", \"Topic2\", \"Topic2\", \"Topic2\", \"Topic2\", \"Topic2\", \"Topic2\", \"Topic2\", \"Topic2\", \"Topic2\", \"Topic2\", \"Topic2\", \"Topic2\", \"Topic2\", \"Topic2\", \"Topic2\", \"Topic2\", \"Topic2\", \"Topic2\", \"Topic2\", \"Topic2\", \"Topic2\", \"Topic2\", \"Topic2\", \"Topic2\", \"Topic2\", \"Topic2\", \"Topic2\", \"Topic2\", \"Topic2\", \"Topic2\", \"Topic2\", \"Topic2\", \"Topic2\", \"Topic3\", \"Topic3\", \"Topic3\", \"Topic3\", \"Topic3\", \"Topic3\", \"Topic3\", \"Topic3\", \"Topic3\", \"Topic3\", \"Topic3\", \"Topic3\", \"Topic3\", \"Topic3\", \"Topic3\", \"Topic3\", \"Topic3\", \"Topic3\", \"Topic3\", \"Topic3\", \"Topic3\", \"Topic3\", \"Topic3\", \"Topic3\", \"Topic3\", \"Topic3\", \"Topic3\", \"Topic3\", \"Topic3\", \"Topic3\", \"Topic3\", \"Topic3\", \"Topic3\", \"Topic4\", \"Topic4\", \"Topic4\", \"Topic4\", \"Topic4\", \"Topic4\", \"Topic4\", \"Topic4\", \"Topic4\", \"Topic4\", \"Topic4\", \"Topic4\", \"Topic4\", \"Topic4\", \"Topic4\", \"Topic4\", \"Topic4\", \"Topic4\", \"Topic4\", \"Topic4\", \"Topic4\", \"Topic4\", \"Topic4\", \"Topic4\", \"Topic4\", \"Topic4\", \"Topic4\", \"Topic4\", \"Topic4\", \"Topic4\", \"Topic5\", \"Topic5\", \"Topic5\", \"Topic5\", \"Topic5\", \"Topic5\", \"Topic5\", \"Topic5\", \"Topic5\", \"Topic5\", \"Topic5\", \"Topic5\", \"Topic5\", \"Topic5\", \"Topic5\", \"Topic5\", \"Topic5\", \"Topic5\", \"Topic5\", \"Topic5\", \"Topic5\", \"Topic5\", \"Topic5\", \"Topic5\", \"Topic5\", \"Topic5\", \"Topic5\", \"Topic5\", \"Topic5\", \"Topic5\", \"Topic5\", \"Topic5\", \"Topic6\", \"Topic6\", \"Topic6\", \"Topic6\", \"Topic6\", \"Topic6\", \"Topic6\", \"Topic6\", \"Topic6\", \"Topic6\", \"Topic6\", \"Topic6\", \"Topic6\", \"Topic6\", \"Topic6\", \"Topic6\", \"Topic6\", \"Topic6\", \"Topic6\", \"Topic6\", \"Topic6\", \"Topic6\", \"Topic6\", \"Topic6\", \"Topic6\", \"Topic6\", \"Topic6\", \"Topic6\", \"Topic6\", \"Topic6\", \"Topic6\", \"Topic6\", \"Topic6\", \"Topic6\", \"Topic6\", \"Topic6\", \"Topic6\", \"Topic6\", \"Topic6\", \"Topic6\", \"Topic6\", \"Topic7\", \"Topic7\", \"Topic7\", \"Topic7\", \"Topic7\", \"Topic7\", \"Topic7\", \"Topic7\", \"Topic7\", \"Topic7\", \"Topic7\", \"Topic7\", \"Topic7\", \"Topic7\", \"Topic7\", \"Topic7\", \"Topic7\", \"Topic7\", \"Topic7\", \"Topic7\", \"Topic7\", \"Topic7\", \"Topic7\", \"Topic7\", \"Topic7\", \"Topic7\", \"Topic7\", \"Topic7\", \"Topic7\", \"Topic7\", \"Topic7\", \"Topic7\", \"Topic7\", \"Topic7\", \"Topic7\", \"Topic7\", \"Topic7\", \"Topic8\", \"Topic8\", \"Topic8\", \"Topic8\", \"Topic8\", \"Topic8\", \"Topic8\", \"Topic8\", \"Topic8\", \"Topic8\", \"Topic8\", \"Topic8\", \"Topic8\", \"Topic8\", \"Topic8\", \"Topic8\", \"Topic8\", \"Topic8\", \"Topic8\", \"Topic8\", \"Topic8\", \"Topic8\", \"Topic8\", \"Topic8\", \"Topic8\", \"Topic8\", \"Topic8\", \"Topic8\", \"Topic8\", \"Topic8\", \"Topic8\", \"Topic8\", \"Topic8\", \"Topic8\", \"Topic8\", \"Topic8\", \"Topic8\", \"Topic8\", \"Topic8\", \"Topic8\", \"Topic8\", \"Topic8\", \"Topic8\", \"Topic8\", \"Topic8\", \"Topic8\", \"Topic8\", \"Topic8\", \"Topic8\", \"Topic8\", \"Topic8\", \"Topic8\", \"Topic8\", \"Topic8\", \"Topic9\", \"Topic9\", \"Topic9\", \"Topic9\", \"Topic9\", \"Topic9\", \"Topic9\", \"Topic9\", \"Topic9\", \"Topic9\", \"Topic9\", \"Topic9\", \"Topic9\", \"Topic9\", \"Topic9\", \"Topic9\", \"Topic9\", \"Topic9\", \"Topic9\", \"Topic9\", \"Topic9\", \"Topic9\", \"Topic9\", \"Topic9\", \"Topic9\", \"Topic9\", \"Topic9\", \"Topic9\", \"Topic9\", \"Topic9\", \"Topic9\", \"Topic9\", \"Topic9\", \"Topic9\", \"Topic9\", \"Topic9\", \"Topic9\", \"Topic9\", \"Topic9\", \"Topic9\", \"Topic9\", \"Topic9\", \"Topic9\", \"Topic9\", \"Topic9\", \"Topic9\", \"Topic9\", \"Topic9\", \"Topic9\", \"Topic9\", \"Topic9\", \"Topic9\", \"Topic9\", \"Topic9\", \"Topic9\", \"Topic9\", \"Topic9\", \"Topic9\", \"Topic10\", \"Topic10\", \"Topic10\", \"Topic10\", \"Topic10\", \"Topic10\", \"Topic10\", \"Topic10\", \"Topic10\", \"Topic10\", \"Topic10\", \"Topic10\", \"Topic10\", \"Topic10\", \"Topic10\", \"Topic10\", \"Topic10\", \"Topic10\", \"Topic10\", \"Topic10\", \"Topic10\", \"Topic10\", \"Topic10\", \"Topic10\", \"Topic10\", \"Topic10\", \"Topic10\", \"Topic10\", \"Topic10\", \"Topic10\", \"Topic10\", \"Topic10\", \"Topic10\", \"Topic10\", \"Topic10\", \"Topic10\", \"Topic10\", \"Topic10\", \"Topic10\", \"Topic10\", \"Topic10\", \"Topic10\", \"Topic10\", \"Topic10\", \"Topic10\", \"Topic10\", \"Topic10\", \"Topic10\", \"Topic10\", \"Topic10\", \"Topic10\", \"Topic10\", \"Topic10\", \"Topic10\", \"Topic10\", \"Topic10\", \"Topic10\"], \"logprob\": [30.0, 29.0, 28.0, 27.0, 26.0, 25.0, 24.0, 23.0, 22.0, 21.0, 20.0, 19.0, 18.0, 17.0, 16.0, 15.0, 14.0, 13.0, 12.0, 11.0, 10.0, 9.0, 8.0, 7.0, 6.0, 5.0, 4.0, 3.0, 2.0, 1.0, -4.0328, -4.0329, -4.0332, -4.0334, -4.0336, -3.6414, -3.6422, -3.3605, -4.0313, -4.0313, -2.9651, -4.0303, -4.0313, -4.0293, -2.8147, -2.8122, -4.0312, -4.0338, -3.3607, -4.6778, -4.6778, -4.6779, -4.6778, -4.6779, -4.6811, -4.6816, -4.6778, -4.6778, -4.6779, -4.6819, -3.6419, -4.027, -4.6763, -4.6763, -4.6764, -4.6766, -4.6739, -4.6742, -4.675, -4.6752, -4.6593, -4.6658, -4.6679, -4.6725, -4.67, -4.67, -4.6718, -4.6737, -2.9987, -2.7841, -3.2816, -3.6704, -3.6691, -3.6682, -3.2791, -2.9996, -3.6703, -3.6681, -3.667, -4.3146, -4.3149, -4.313, -4.3154, -4.3148, -4.3135, -4.3167, -4.3171, -4.31, -4.3117, -4.313, -4.3141, -3.2752, -4.3135, -4.3136, -4.3146, -4.3171, -4.3183, -3.2786, -3.6676, -3.6662, -3.6703, -3.6686, -4.3116, -4.3119, -4.3121, -4.3128, -4.3139, -2.961, -3.3568, -3.3609, -3.3625, -3.3678, -3.3449, -3.3449, -3.9747, -3.9915, -3.9915, -3.9914, -3.9915, -3.9914, -3.9915, -4.0622, -4.0898, -3.9724, -4.297, -3.9756, -3.9915, -3.9916, -3.9915, -2.999, -4.3829, -4.4004, -4.1629, -3.9755, -3.9915, -4.0492, -3.3449, -4.0154, -3.908, -3.9915, -3.1178, -3.0953, -3.2614, -2.609, -3.4686, -3.7909, -3.697, -3.7034, -3.705, -3.7121, -3.7378, -3.7408, -3.8895, -3.9788, -3.8644, -4.1047, -3.0881, -3.8686, -3.6718, -3.9719, -4.1343, -4.4677, -4.4967, -4.6159, -3.5975, -4.2146, -3.4557, -3.1685, -5.2435, -3.8274, -3.0677, -3.0669, -3.0677, -3.0675, -3.7137, -3.7134, -3.7136, -3.7136, -3.7137, -3.7136, -3.7137, -3.714, -3.714, -3.7142, -3.7136, -3.7141, -3.7137, -3.7144, -3.7137, -3.7139, -3.0671, -3.7137, -3.7138, -3.7135, -3.0668, -3.7137, -3.7138, -3.714, -6.1103, -6.1103, -6.1103, -6.1103, -1.8604, -2.9267, -3.5733, -3.5733, -3.5733, -3.5733, -3.5733, -3.5733, -2.9245, -3.5733, -3.5733, -3.5683, -3.5685, -2.532, -3.5733, -2.9267, -3.5733, -3.5694, -5.9712, -5.9712, -5.9712, -5.9712, -5.9712, -5.9712, -5.9712, -5.9712, -5.9712, -5.9306, -5.9356, -5.9272, -5.9254, -5.9233, -5.926, -5.9279, -5.9291, -5.9374, -5.9382, -5.9262, -5.9276, -5.8982, -5.9328, -2.9253, -3.5752, -3.5714, -3.5758, -3.5725, -3.5745, -3.5747, -3.5726, -3.5755, -3.5714, -3.5727, -3.5771, -3.5776, -3.5742, -3.5763, -3.5786, -3.5717, -3.5743, -3.5747, -3.575, -3.5776, -2.9309, -3.5753, -2.9266, -3.5736, -5.9542, -5.9538, -5.9543, -5.9533, -5.9562, -5.954, -5.9534, -5.9501, -5.9509, -5.9512, -5.9531, -5.9532, -2.4338, -2.8248, -2.8248, -3.4715, -3.467, -3.4682, -3.4715, -3.4715, -3.4715, -3.4715, -3.4715, -3.4715, -3.4715, -2.432, -3.4605, -2.8204, -3.4715, -5.8694, -5.8694, -5.8694, -5.8694, -5.8694, -5.8694, -5.8694, -5.8694, -5.8694, -5.8694, -5.8694, -5.8694, -5.8354, -5.8387, -5.8288, -5.8214, -5.8232, -5.8244, -5.8207, -5.8232, -5.8262, -5.8273, -5.8261, -5.8302, -5.7698, -5.6347, -5.7052, -5.7858, -5.7892, -5.7498, -5.7047, -5.7924, -5.7831, -5.7805, -5.7741, -5.7721, -5.7824, -4.7095, -4.7095, -4.7095, -4.7095, -4.7095, -4.7095, -4.7095, -4.7095, -4.7095, -4.7095, -4.7095, -4.7095, -4.7095, -4.7095, -4.7095, -4.7095, -4.7095, -4.7095, -4.7095, -4.7095, -4.7095, -4.7095, -4.7095, -4.7095, -4.7095, -4.7095, -4.7095, -4.7095, -4.7095, -4.7095, -4.7095, -4.7095, -4.7095, -4.7095, -4.7095, -4.7095, -4.7095, -4.7095, -4.7095, -4.7095, -4.7095, -4.7095, -4.7095, -4.7095, -4.7095, -4.7095, -4.7095, -4.7095, -4.7095, -4.7095, -4.7095, -4.7095, -4.7095, -4.7095, -4.7095, -4.7095, -4.7095, -4.7095, -4.7095, -4.7095, -4.7095, -4.7095, -4.7095, -4.7095, -4.7095, -4.7095, -4.7095, -4.7095, -4.7095, -4.7095, -4.7095, -4.7095, -4.7095, -4.7095, -4.7095, -4.7095, -4.7095, -4.7095, -4.7095, -4.7095, -4.7095, -4.7095, -4.7095, -4.7095, -4.7095, -4.7095, -4.7095, -4.7095, -4.7095, -4.7095, -4.7095, -4.7095, -4.7095, -4.7095, -4.7095, -4.7095, -4.7095, -4.7095, -4.7095, -4.7095, -4.7095, -4.7095, -4.7095, -4.7095, -4.7095, -4.7095, -4.7095, -4.7095, -4.7095, -4.7095, -4.7095, -4.7095, -4.7095, -4.7095, -4.7095], \"loglift\": [30.0, 29.0, 28.0, 27.0, 26.0, 25.0, 24.0, 23.0, 22.0, 21.0, 20.0, 19.0, 18.0, 17.0, 16.0, 15.0, 14.0, 13.0, 12.0, 11.0, 10.0, 9.0, 8.0, 7.0, 6.0, 5.0, 4.0, 3.0, 2.0, 1.0, 0.9965, 0.9964, 0.9961, 0.9959, 0.9958, 0.8686, 0.8386, 0.768, 0.7484, 0.7354, 0.73, 0.7267, 0.7046, 0.6904, 0.6474, 0.6061, 0.5506, 0.5117, 0.4439, 0.4422, 0.4422, 0.4421, 0.4397, 0.4396, 0.4367, 0.4362, 0.4259, 0.4214, 0.4213, 0.4177, 0.3757, -0.0287, 0.4095, 0.4095, 0.4094, 0.4092, 0.3604, 0.3601, 0.3592, 0.359, -0.6637, -0.3703, -0.1812, 0.0511, -0.8946, -0.9499, -0.1848, 0.0873, 1.2968, 1.2115, 1.2051, 1.1174, 1.1088, 1.1066, 1.093, 1.0603, 1.0533, 0.9189, 0.82, 0.8111, 0.8109, 0.8101, 0.8077, 0.7945, 0.7779, 0.7747, 0.7743, 0.7348, 0.7303, 0.7292, 0.7275, 0.7231, 0.7208, 0.7207, 0.7197, 0.7173, 0.716, 0.526, 0.4609, 0.1093, 0.0498, -0.2503, 0.4494, 0.4227, -0.85, 0.1681, 0.4057, 1.9588, 1.8551, 1.8502, 1.8482, 1.8419, 1.5502, 1.2422, 1.2198, 1.1317, 1.1316, 1.1264, 1.1263, 1.126, 1.126, 1.1227, 1.0927, 0.9082, 0.867, 0.8584, 0.846, 0.7963, 0.7883, 0.7764, 0.7018, 0.6834, 0.6738, 0.6507, 0.5903, 0.5515, 0.3753, 0.2608, 0.1096, -0.1869, 1.6818, 1.6393, 1.5294, 1.4086, 1.368, 1.3447, 1.3446, 1.3387, 1.3372, 1.3246, 1.307, 1.2984, 1.2194, 1.1552, 1.0042, 0.9604, 0.9101, 0.9038, 0.8152, 0.764, 0.7492, 0.6161, 0.5879, 0.548, 0.398, 0.3309, 0.3198, 0.2936, -0.061, -0.1322, 1.7364, 1.7334, 1.5186, 1.5185, 1.4466, 1.3955, 1.3778, 1.3777, 1.3777, 1.3722, 1.3721, 1.3718, 1.3718, 1.1809, 1.1669, 1.1002, 1.077, 1.0579, 1.0472, 1.0431, 0.9928, 0.8869, 0.8858, 0.7965, 0.6534, 0.5625, 0.0616, -0.0188, -0.8983, -0.8992, -2.6482, -2.692, 2.3271, 1.6729, 1.6063, 1.6062, 1.6062, 1.5607, 1.536, 1.5304, 1.3517, 1.2641, 1.2046, 1.0369, 0.977, 0.9301, 0.7988, 0.7935, 0.4866, 0.2353, -0.7593, -0.7601, -0.7605, -0.7616, -0.7768, -0.7862, -0.7887, -0.8072, -0.8109, -0.8128, -0.8179, -0.8275, -0.8416, -0.8939, -0.8966, -0.8935, -0.8997, -0.9082, -0.909, -1.1259, -1.3413, -2.203, -1.452, 1.68, 1.6193, 1.6112, 1.6092, 1.607, 1.6051, 1.6048, 1.5914, 1.5848, 1.5278, 1.5265, 1.5226, 1.303, 1.2598, 1.238, 1.1962, 1.1949, 1.0518, 1.026, 1.011, 1.0087, 0.8446, 0.7009, 0.4917, 0.1215, -0.7423, -0.7428, -0.7435, -0.7437, -0.8205, -0.8309, -0.8359, -1.055, -2.2307, -1.3641, -1.1652, -1.0334, 2.2104, 2.0586, 2.0437, 1.6642, 1.6587, 1.6575, 1.6485, 1.6485, 1.6485, 1.3652, 1.3281, 1.1547, 1.1104, 0.9863, 0.9116, 0.8998, 0.716, -0.6574, -0.6583, -0.6586, -0.6597, -0.6749, -0.6844, -0.6868, -0.6898, -0.6898, -0.6898, -0.7054, -0.7091, -0.7123, -0.7156, -0.7195, -0.73, -0.7319, -0.733, -0.7864, -0.7889, -0.7842, -0.7857, -0.7918, -0.796, -1.0463, -1.6391, -1.4097, -1.0079, -1.0145, -1.2631, -1.6448, -1.0046, -1.196, -1.2935, -1.7759, -1.9674, -2.007, 0.5024, 0.5016, 0.5012, 0.5001, 0.4849, 0.4754, 0.473, 0.4701, 0.4701, 0.47, 0.4544, 0.4508, 0.4261, 0.4245, 0.4163, 0.4161, 0.4136, 0.4135, 0.4105, 0.4105, 0.4105, 0.4083, 0.4082, 0.408, 0.408, 0.3998, 0.3994, 0.3942, 0.3901, 0.3897, -1.2912, -0.9893, -0.9049, -1.2474, -0.4333, -0.5221, -1.0144, -0.9341, -0.0834, -0.1233, -0.0653, -0.1043, -0.6496, -0.11, -0.1277, -0.6919, -0.1089, -0.1641, -0.1995, -0.3374, -0.7113, 0.0907, 0.1279, -0.714, -0.1235, 0.1856, 0.1271, 0.159, 0.5024, 0.5016, 0.5012, 0.5001, 0.4849, 0.4754, 0.473, 0.4701, 0.4701, 0.47, 0.4544, 0.4508, 0.4261, 0.4245, 0.4163, 0.4161, 0.4136, 0.4135, 0.4105, 0.4105, 0.4105, 0.4083, 0.4082, 0.408, 0.408, 0.3998, 0.3994, 0.3942, 0.3901, 0.3897, -1.2912, -1.2474, -0.9894, -1.0144, -0.9049, -0.5221, -0.4333, -0.9341, -0.0834, -0.1233, -0.1043, 0.1279, -0.6496, -0.6919, -0.1277, -0.1235, 0.0907, -0.1995, -0.0653, -0.2287, -0.1641, 0.0475, -0.3374, -0.11, -0.7113, 0.171, 0.159]}, \"token.table\": {\"Topic\": [1, 7, 4, 8, 2, 5, 6, 2, 8, 1, 2, 5, 1, 2, 4, 8, 1, 2, 1, 7, 1, 2, 4, 8, 1, 3, 7, 3, 7, 1, 2, 4, 6, 1, 8, 1, 2, 1, 2, 1, 3, 8, 1, 7, 1, 5, 1, 2, 1, 2, 4, 3, 7, 6, 7, 1, 7, 2, 4, 1, 4, 1, 6, 1, 1, 2, 3, 4, 5, 7, 1, 1, 3, 1, 3, 4, 1, 2, 4, 3, 4, 8, 1, 8, 5, 7, 2, 5, 7, 3, 1, 3, 6, 2, 3, 1, 3, 1, 3, 5, 7, 1, 3, 3, 5, 2, 3, 2, 7, 1, 3, 2, 6, 1, 5, 1, 4, 5, 1, 4, 5, 2, 4, 6, 7, 2, 6, 8, 1, 5, 3, 5, 7, 2, 5, 1, 3, 7, 8, 3, 2, 4, 1, 5, 1, 5, 2, 5, 1, 5, 7, 1, 3, 3, 1, 3, 2, 5, 4, 5, 3, 2, 8, 1, 2, 1, 1, 5, 1, 2, 4, 1, 4, 1, 2, 4, 5, 7, 1, 2, 7, 8, 6, 8, 2, 8, 2, 3, 2, 3, 6, 7, 1, 4, 1, 5, 7, 2, 4, 1, 2, 1, 4, 6, 1, 5, 6, 1, 6, 7, 1, 2, 2, 5, 1, 3, 5, 6, 7, 1, 2, 3, 5, 6, 8, 1, 5, 4, 6, 1, 2, 3, 6, 1, 8, 1, 4, 8, 3, 1, 2, 1, 2, 3, 7, 2, 6, 2, 4, 1, 3, 7, 1, 4], \"Freq\": [0.4441324754778685, 0.4441324754778685, 0.46063654977470003, 0.46063654977470003, 0.6283851242727253, 0.31419256213636265, 0.15709628106818133, 0.45611439160495876, 0.45611439160495876, 0.3166882659444306, 0.3166882659444306, 0.3166882659444306, 0.6730056315435764, 0.3365028157717882, 0.35796350969993807, 0.35796350969993807, 0.4163073285486818, 0.4163073285486818, 0.44414430539014216, 0.44414430539014216, 0.41622120948653824, 0.41622120948653824, 0.6583027940279319, 0.32915139701396595, 0.3406900255415533, 0.3406900255415533, 0.3406900255415533, 0.48853817551922946, 0.48853817551922946, 0.5184311019636749, 0.08640518366061248, 0.17281036732122496, 0.17281036732122496, 0.4534880996986555, 0.4534880996986555, 0.24072479698479632, 0.722174390954389, 0.7179329392458123, 0.23931097974860407, 0.529494705137935, 0.2647473525689675, 0.2647473525689675, 0.6369750477534127, 0.31848752387670637, 0.43824088779986203, 0.43824088779986203, 0.3050685432957698, 0.6101370865915396, 0.14730413448654428, 0.5892165379461771, 0.14730413448654428, 0.4839275681019442, 0.4839275681019442, 0.4813253624954709, 0.4813253624954709, 0.4443379825528236, 0.4443379825528236, 0.41954024506350907, 0.41954024506350907, 0.41725686101637893, 0.41725686101637893, 0.4461601428478076, 0.4461601428478076, 0.8283407242398799, 0.11820160802867273, 0.23640321605734546, 0.23640321605734546, 0.11820160802867273, 0.11820160802867273, 0.11820160802867273, 0.8282842328302228, 0.45234260053149555, 0.45234260053149555, 0.4517701088606337, 0.1505900362868779, 0.4517701088606337, 0.24079912297186737, 0.48159824594373474, 0.24079912297186737, 0.34157810177701553, 0.34157810177701553, 0.34157810177701553, 0.45348789616865814, 0.45348789616865814, 0.47212801806719623, 0.47212801806719623, 0.3340407113541817, 0.3340407113541817, 0.3340407113541817, 0.49601132706368173, 0.34186560386945813, 0.34186560386945813, 0.34186560386945813, 0.45487753899192923, 0.45487753899192923, 0.4523431269765684, 0.4523431269765684, 0.2697874768776422, 0.2697874768776422, 0.2697874768776422, 0.2697874768776422, 0.45249097413300227, 0.45249097413300227, 0.36215467672050305, 0.36215467672050305, 0.45489991150367454, 0.45489991150367454, 0.6421777918635311, 0.32108889593176554, 0.45247194808213703, 0.45247194808213703, 0.4486714727466557, 0.4486714727466557, 0.7392094239235396, 0.24640314130784652, 0.32032437632322824, 0.32032437632322824, 0.32032437632322824, 0.43736874424728917, 0.32627842820754804, 0.32627842820754804, 0.30846455528553013, 0.6169291105710603, 0.4813047214847359, 0.4813047214847359, 0.6439859039193098, 0.21466196797310325, 0.21466196797310325, 0.43822942715504115, 0.43822942715504115, 0.3569218067079327, 0.3569218067079327, 0.3569218067079327, 0.4406878716929216, 0.4406878716929216, 0.2767468453793014, 0.2767468453793014, 0.2767468453793014, 0.2767468453793014, 0.49672865314215403, 0.4192980056737937, 0.4192980056737937, 0.43822992921770926, 0.43822992921770926, 0.6308801821488479, 0.31544009107442395, 0.33065022903404256, 0.6613004580680851, 0.26585846413339104, 0.5317169282667821, 0.26585846413339104, 0.4377271017877028, 0.4377271017877028, 0.49715977775807685, 0.6453720084809742, 0.3226860042404871, 0.4406746678703252, 0.4406746678703252, 0.44848083537002653, 0.44848083537002653, 0.49655647511240925, 0.45606139569453236, 0.45606139569453236, 0.41620568655837503, 0.41620568655837503, 0.8283607421237293, 0.3293882310321448, 0.6587764620642896, 0.2954002983117598, 0.44310044746763966, 0.2954002983117598, 0.6177180213238076, 0.3088590106619038, 0.5454272879928185, 0.1090854575985637, 0.1090854575985637, 0.1090854575985637, 0.1090854575985637, 0.4962216897545953, 0.16540722991819842, 0.16540722991819842, 0.16540722991819842, 0.7138550444545969, 0.17846376111364923, 0.2817837834323606, 0.5635675668647212, 0.5322681714431625, 0.26613408572158126, 0.6506168349012156, 0.3253084174506078, 0.48132790522401825, 0.48132790522401825, 0.4182856514027533, 0.4182856514027533, 0.26591899919562323, 0.5318379983912465, 0.26591899919562323, 0.41947053441493964, 0.41947053441493964, 0.4162301290831477, 0.4162301290831477, 0.5105991839754086, 0.2552995919877043, 0.2552995919877043, 0.2694907063764693, 0.2694907063764693, 0.5389814127529386, 0.2710252775325604, 0.2710252775325604, 0.5420505550651208, 0.6077369246303055, 0.30386846231515274, 0.44069177756017863, 0.44069177756017863, 0.1950319163046566, 0.1950319163046566, 0.1950319163046566, 0.3900638326093132, 0.1950319163046566, 0.111847524226415, 0.22369504845283, 0.111847524226415, 0.22369504845283, 0.22369504845283, 0.111847524226415, 0.4382368845589572, 0.4382368845589572, 0.45988114403275954, 0.45988114403275954, 0.4868089172904215, 0.3651066879678161, 0.12170222932260537, 0.12170222932260537, 0.4534879427270392, 0.4534879427270392, 0.8282891810247165, 0.3526598694847817, 0.3526598694847817, 0.742476454605003, 0.19882853861835711, 0.7953141544734285, 0.4162299738462353, 0.4162299738462353, 0.4827633024628155, 0.4827633024628155, 0.6442368205252346, 0.3221184102626173, 0.4206244592157019, 0.4206244592157019, 0.8283773588446047, 0.4738714331155753, 0.4738714331155753, 0.4292636525571352, 0.4292636525571352], \"Term\": [\"\\u0430\\u043b\\u0435\\u043a\\u0441\\u0430\\u043d\\u0434\\u0440\", \"\\u0430\\u043b\\u0435\\u043a\\u0441\\u0430\\u043d\\u0434\\u0440\", \"\\u0431\\u043e\\u0435\\u0432\", \"\\u0431\\u043e\\u0435\\u0432\", \"\\u0431\\u0440\\u0438\\u0442\\u0430\\u043d\\u0441\\u043a\", \"\\u0431\\u0440\\u0438\\u0442\\u0430\\u043d\\u0441\\u043a\", \"\\u0431\\u0440\\u0438\\u0442\\u0430\\u043d\\u0441\\u043a\", \"\\u0432\\u0437\\u0430\\u0438\\u043c\\u043e\\u0434\\u0435\\u0439\\u0441\\u0442\\u0432\", \"\\u0432\\u0437\\u0430\\u0438\\u043c\\u043e\\u0434\\u0435\\u0439\\u0441\\u0442\\u0432\", \"\\u0432\\u043b\\u0430\\u0441\\u0442\", \"\\u0432\\u043b\\u0430\\u0441\\u0442\", \"\\u0432\\u043b\\u0430\\u0441\\u0442\", \"\\u0432\\u043c\\u0435\\u0448\\u0430\\u0442\\u0435\\u043b\\u044c\\u0441\\u0442\\u0432\", \"\\u0432\\u043c\\u0435\\u0448\\u0430\\u0442\\u0435\\u043b\\u044c\\u0441\\u0442\\u0432\", \"\\u0432\\u043e\\u0435\\u043d\", \"\\u0432\\u043e\\u0435\\u043d\", \"\\u0432\\u043f\\u0435\\u0440\\u0432\", \"\\u0432\\u043f\\u0435\\u0440\\u0432\", \"\\u0432\\u0440\\u0435\\u043c\", \"\\u0432\\u0440\\u0435\\u043c\", \"\\u0432\\u044b\\u0434\\u0432\\u0438\\u043d\\u0443\\u043b\", \"\\u0432\\u044b\\u0434\\u0432\\u0438\\u043d\\u0443\\u043b\", \"\\u0432\\u044b\\u043f\\u043e\\u043b\\u043d\\u0435\\u043d\", \"\\u0432\\u044b\\u043f\\u043e\\u043b\\u043d\\u0435\\u043d\", \"\\u0433\\u043b\\u0430\\u0432\", \"\\u0433\\u043b\\u0430\\u0432\", \"\\u0433\\u043b\\u0430\\u0432\", \"\\u0433\\u043e\\u0432\\u043e\\u0440\", \"\\u0433\\u043e\\u0432\\u043e\\u0440\", \"\\u0433\\u043e\\u0434\", \"\\u0433\\u043e\\u0434\", \"\\u0433\\u043e\\u0434\", \"\\u0433\\u043e\\u0434\", \"\\u0433\\u043e\\u0441\\u0443\\u0434\\u0430\\u0440\\u0441\\u0442\\u0432\", \"\\u0433\\u043e\\u0441\\u0443\\u0434\\u0430\\u0440\\u0441\\u0442\\u0432\", \"\\u0433\\u0440\\u0443\\u043f\\u043f\\u0438\\u0440\\u043e\\u0432\\u043a\", \"\\u0433\\u0440\\u0443\\u043f\\u043f\\u0438\\u0440\\u043e\\u0432\\u043a\", \"\\u0434\\u0430\\u043d\", \"\\u0434\\u0430\\u043d\", \"\\u0434\\u0435\\u043a\\u0430\\u0431\\u0440\", \"\\u0434\\u0435\\u043a\\u0430\\u0431\\u0440\", \"\\u0434\\u0435\\u043a\\u0430\\u0431\\u0440\", \"\\u0434\\u0435\\u043b\", \"\\u0434\\u0435\\u043b\", \"\\u0434\\u043e\\u0431\\u0430\\u0432\", \"\\u0434\\u043e\\u0431\\u0430\\u0432\", \"\\u0434\\u043e\\u043a\\u0430\\u0437\\u0430\\u0442\\u0435\\u043b\\u044c\\u0441\\u0442\\u0432\", \"\\u0434\\u043e\\u043a\\u0430\\u0437\\u0430\\u0442\\u0435\\u043b\\u044c\\u0441\\u0442\\u0432\", \"\\u0434\\u043e\\u043a\\u0443\\u043c\\u0435\\u043d\\u0442\", \"\\u0434\\u043e\\u043a\\u0443\\u043c\\u0435\\u043d\\u0442\", \"\\u0434\\u043e\\u043a\\u0443\\u043c\\u0435\\u043d\\u0442\", \"\\u0434\\u0440\\u0443\\u0433\", \"\\u0434\\u0440\\u0443\\u0433\", \"\\u0437\\u0434\\u043e\\u0440\\u043e\\u0432\", \"\\u0437\\u0434\\u043e\\u0440\\u043e\\u0432\", \"\\u0438\\u0437\\u0432\\u0435\\u0441\\u0442\\u043d\", \"\\u0438\\u0437\\u0432\\u0435\\u0441\\u0442\\u043d\", \"\\u0438\\u0441\\u043f\\u043e\\u043b\\u044c\\u0437\", \"\\u0438\\u0441\\u043f\\u043e\\u043b\\u044c\\u0437\", \"\\u0438\\u0441\\u043f\\u043e\\u043b\\u044c\\u0437\\u043e\\u0432\\u0430\", \"\\u0438\\u0441\\u043f\\u043e\\u043b\\u044c\\u0437\\u043e\\u0432\\u0430\", \"\\u0438\\u0442\\u043e\\u0433\", \"\\u0438\\u0442\\u043e\\u0433\", \"\\u043a\\u0430\\u043a\", \"\\u043a\\u043e\\u0442\\u043e\\u0440\", \"\\u043a\\u043e\\u0442\\u043e\\u0440\", \"\\u043a\\u043e\\u0442\\u043e\\u0440\", \"\\u043a\\u043e\\u0442\\u043e\\u0440\", \"\\u043a\\u043e\\u0442\\u043e\\u0440\", \"\\u043a\\u043e\\u0442\\u043e\\u0440\", \"\\u043c\\u0435\\u043d\\u044c\\u0448\", \"\\u043c\\u0435\\u0441\\u044f\\u0446\", \"\\u043c\\u0435\\u0441\\u044f\\u0446\", \"\\u043c\\u0438\\u043b\\u043b\\u0438\\u043e\\u043d\", \"\\u043c\\u0438\\u043b\\u043b\\u0438\\u043e\\u043d\", \"\\u043c\\u0438\\u043b\\u043b\\u0438\\u043e\\u043d\", \"\\u043c\\u0438\\u043d\\u0438\\u0441\\u0442\\u0435\\u0440\\u0441\\u0442\\u0432\", \"\\u043c\\u0438\\u043d\\u0438\\u0441\\u0442\\u0435\\u0440\\u0441\\u0442\\u0432\", \"\\u043c\\u0438\\u043d\\u0438\\u0441\\u0442\\u0435\\u0440\\u0441\\u0442\\u0432\", \"\\u043c\\u0438\\u043d\\u043e\\u0431\\u043e\\u0440\\u043e\\u043d\", \"\\u043c\\u0438\\u043d\\u043e\\u0431\\u043e\\u0440\\u043e\\u043d\", \"\\u043c\\u0438\\u043d\\u043e\\u0431\\u043e\\u0440\\u043e\\u043d\", \"\\u043c\\u0438\\u0440\", \"\\u043c\\u0438\\u0440\", \"\\u043c\\u043e\\u043b\\u043e\\u0434\", \"\\u043c\\u043e\\u043b\\u043e\\u0434\", \"\\u043c\\u043e\\u0441\\u043a\\u0432\", \"\\u043c\\u043e\\u0441\\u043a\\u0432\", \"\\u043c\\u043e\\u0441\\u043a\\u0432\", \"\\u043c\\u043e\\u0441\\u043a\\u043e\\u0432\\u0441\\u043a\", \"\\u043d\\u0430\\u0437\\u0432\\u0430\", \"\\u043d\\u0430\\u0437\\u0432\\u0430\", \"\\u043d\\u0430\\u0437\\u0432\\u0430\", \"\\u043d\\u0430\\u043c\\u0435\\u0440\\u0435\\u043d\", \"\\u043d\\u0430\\u043c\\u0435\\u0440\\u0435\\u043d\", \"\\u043d\\u0430\\u043f\\u0438\\u0441\\u0430\", \"\\u043d\\u0430\\u043f\\u0438\\u0441\\u0430\", \"\\u043d\\u0430\\u0447\\u0430\", \"\\u043d\\u0430\\u0447\\u0430\", \"\\u043d\\u0430\\u0447\\u0430\", \"\\u043d\\u0430\\u0447\\u0430\", \"\\u043d\\u0430\\u0447\\u0430\\u043b\", \"\\u043d\\u0430\\u0447\\u0430\\u043b\", \"\\u043d\\u0430\\u0448\", \"\\u043d\\u0430\\u0448\", \"\\u043d\\u0435\\u0441\\u043a\\u043e\\u043b\\u044c\\u043a\", \"\\u043d\\u0435\\u0441\\u043a\\u043e\\u043b\\u044c\\u043a\", \"\\u043d\\u043e\\u0432\", \"\\u043d\\u043e\\u0432\", \"\\u043d\\u043e\\u0432\\u043e\\u0441\\u0442\", \"\\u043d\\u043e\\u0432\\u043e\\u0441\\u0442\", \"\\u043d\\u043e\\u044f\\u0431\\u0440\", \"\\u043d\\u043e\\u044f\\u0431\\u0440\", \"\\u043e\\u0431\\u0432\\u0438\\u043d\\u0435\\u043d\", \"\\u043e\\u0431\\u0432\\u0438\\u043d\\u0435\\u043d\", \"\\u043e\\u0431\\u0432\\u0438\\u043d\\u044f\", \"\\u043e\\u0431\\u0432\\u0438\\u043d\\u044f\", \"\\u043e\\u0431\\u0432\\u0438\\u043d\\u044f\", \"\\u043e\\u0431\\u043b\\u0430\\u0441\\u0442\", \"\\u043e\\u0431\\u043d\\u0430\\u0440\\u0443\\u0436\", \"\\u043e\\u0431\\u043d\\u0430\\u0440\\u0443\\u0436\", \"\\u043e\\u0431\\u043e\\u0440\\u043e\\u043d\", \"\\u043e\\u0431\\u043e\\u0440\\u043e\\u043d\", \"\\u043e\\u0431\\u0440\\u0430\\u0437\", \"\\u043e\\u0431\\u0440\\u0430\\u0437\", \"\\u043e\\u043f\\u0443\\u0431\\u043b\\u0438\\u043a\\u043e\\u0432\\u0430\", \"\\u043e\\u043f\\u0443\\u0431\\u043b\\u0438\\u043a\\u043e\\u0432\\u0430\", \"\\u043e\\u043f\\u0443\\u0431\\u043b\\u0438\\u043a\\u043e\\u0432\\u0430\", \"\\u043e\\u0442\\u0432\\u0435\\u0440\\u0433\\u0430\", \"\\u043e\\u0442\\u0432\\u0435\\u0440\\u0433\\u0430\", \"\\u043e\\u0442\\u043c\\u0435\\u0442\", \"\\u043e\\u0442\\u043c\\u0435\\u0442\", \"\\u043e\\u0442\\u043c\\u0435\\u0442\", \"\\u043f\\u0430\\u0441\\u043f\\u043e\\u0440\\u0442\", \"\\u043f\\u0430\\u0441\\u043f\\u043e\\u0440\\u0442\", \"\\u043f\\u0435\\u0440\\u0435\\u0434\\u0430\", \"\\u043f\\u0435\\u0440\\u0435\\u0434\\u0430\", \"\\u043f\\u0435\\u0440\\u0435\\u0434\\u0430\", \"\\u043f\\u0435\\u0440\\u0435\\u0434\\u0430\", \"\\u043f\\u0435\\u0442\\u0440\", \"\\u043f\\u043b\\u0430\\u0442\", \"\\u043f\\u043b\\u0430\\u0442\", \"\\u043f\\u043e\\u043a\\u0430\\u0437\\u0430\", \"\\u043f\\u043e\\u043a\\u0430\\u0437\\u0430\", \"\\u043f\\u043e\\u043b\\u0438\\u0446\", \"\\u043f\\u043e\\u043b\\u0438\\u0446\", \"\\u043f\\u043e\\u043b\\u043e\\u0436\\u0435\\u043d\", \"\\u043f\\u043e\\u043b\\u043e\\u0436\\u0435\\u043d\", \"\\u043f\\u043e\\u043c\\u043e\\u0449\", \"\\u043f\\u043e\\u043c\\u043e\\u0449\", \"\\u043f\\u043e\\u043c\\u043e\\u0449\", \"\\u043f\\u043e\\u0442\\u0440\\u0430\\u0442\", \"\\u043f\\u043e\\u0442\\u0440\\u0430\\u0442\", \"\\u043f\\u0440\\u0435\\u0434\\u043e\\u0441\\u0442\\u0430\\u0432\", \"\\u043f\\u0440\\u0435\\u0437\\u0438\\u0434\\u0435\\u043d\\u0442\", \"\\u043f\\u0440\\u0435\\u0437\\u0438\\u0434\\u0435\\u043d\\u0442\", \"\\u043f\\u0440\\u0438\\u043a\\u0430\\u0437\\u0430\", \"\\u043f\\u0440\\u0438\\u043a\\u0430\\u0437\\u0430\", \"\\u043f\\u0440\\u0438\\u0447\\u0430\\u0441\\u0442\\u043d\", \"\\u043f\\u0440\\u0438\\u0447\\u0430\\u0441\\u0442\\u043d\", \"\\u043f\\u0440\\u043e\\u0438\\u0437\\u043e\\u0448\\u043b\", \"\\u0440\\u0430\\u0431\\u043e\\u0442\\u0430\", \"\\u0440\\u0430\\u0431\\u043e\\u0442\\u0430\", \"\\u0440\\u0430\\u0437\\u0432\\u0435\\u0434\\u043a\", \"\\u0440\\u0430\\u0437\\u0432\\u0435\\u0434\\u043a\", \"\\u0440\\u0430\\u043d\", \"\\u0440\\u0430\\u0441\\u0441\\u043a\\u0430\\u0437\\u0430\", \"\\u0440\\u0430\\u0441\\u0441\\u043a\\u0430\\u0437\\u0430\", \"\\u0440\\u0430\\u0441\\u0441\\u043b\\u0435\\u0434\\u043e\\u0432\\u0430\\u043d\", \"\\u0440\\u0430\\u0441\\u0441\\u043b\\u0435\\u0434\\u043e\\u0432\\u0430\\u043d\", \"\\u0440\\u0430\\u0441\\u0441\\u043b\\u0435\\u0434\\u043e\\u0432\\u0430\\u043d\", \"\\u0440\\u0430\\u0441\\u0445\\u043e\\u0434\", \"\\u0440\\u0430\\u0441\\u0445\\u043e\\u0434\", \"\\u0440\\u043e\\u0441\\u0441\", \"\\u0440\\u043e\\u0441\\u0441\", \"\\u0440\\u043e\\u0441\\u0441\", \"\\u0440\\u043e\\u0441\\u0441\", \"\\u0440\\u043e\\u0441\\u0441\", \"\\u0440\\u043e\\u0441\\u0441\\u0438\\u0439\\u0441\\u043a\", \"\\u0440\\u043e\\u0441\\u0441\\u0438\\u0439\\u0441\\u043a\", \"\\u0440\\u043e\\u0441\\u0441\\u0438\\u0439\\u0441\\u043a\", \"\\u0440\\u043e\\u0441\\u0441\\u0438\\u0439\\u0441\\u043a\", \"\\u0441\\u0430\\u043c\", \"\\u0441\\u0430\\u043c\", \"\\u0441\\u0430\\u043c\\u043e\\u043b\\u0435\\u0442\", \"\\u0441\\u0430\\u043c\\u043e\\u043b\\u0435\\u0442\", \"\\u0441\\u0432\\u043e\", \"\\u0441\\u0432\\u043e\", \"\\u0441\\u0432\\u044f\\u0437\", \"\\u0441\\u0432\\u044f\\u0437\", \"\\u0441\\u0435\\u0442\", \"\\u0441\\u0435\\u0442\", \"\\u0441\\u043b\\u0435\\u0434\\u0441\\u0442\\u0432\", \"\\u0441\\u043b\\u0435\\u0434\\u0441\\u0442\\u0432\", \"\\u0441\\u043b\\u043e\\u0432\", \"\\u0441\\u043b\\u043e\\u0432\", \"\\u0441\\u043b\\u043e\\u0432\", \"\\u0441\\u043e\\u0433\\u043b\\u0430\\u0441\\u043d\", \"\\u0441\\u043e\\u0433\\u043b\\u0430\\u0441\\u043d\", \"\\u0441\\u043e\\u0434\\u0435\\u0440\\u0436\\u0430\\u0442\", \"\\u0441\\u043e\\u0434\\u0435\\u0440\\u0436\\u0430\\u0442\", \"\\u0441\\u043e\\u043e\\u0431\\u0449\\u0430\", \"\\u0441\\u043e\\u043e\\u0431\\u0449\\u0430\", \"\\u0441\\u043e\\u043e\\u0431\\u0449\\u0430\", \"\\u0441\\u043e\\u0442\\u0440\\u0443\\u0434\\u043d\\u0438\\u043a\", \"\\u0441\\u043e\\u0442\\u0440\\u0443\\u0434\\u043d\\u0438\\u043a\", \"\\u0441\\u043e\\u0442\\u0440\\u0443\\u0434\\u043d\\u0438\\u043a\", \"\\u0441\\u043e\\u0446\\u0438\\u0430\\u043b\\u044c\\u043d\", \"\\u0441\\u043e\\u0446\\u0438\\u0430\\u043b\\u044c\\u043d\", \"\\u0441\\u043e\\u0446\\u0438\\u0430\\u043b\\u044c\\u043d\", \"\\u0441\\u043f\\u0435\\u0446\\u0441\\u043b\\u0443\\u0436\\u0431\", \"\\u0441\\u043f\\u0435\\u0446\\u0441\\u043b\\u0443\\u0436\\u0431\", \"\\u0441\\u0440\\u0430\\u0437\", \"\\u0441\\u0440\\u0430\\u0437\", \"\\u0441\\u0442\\u0430\\u043b\", \"\\u0441\\u0442\\u0430\\u043b\", \"\\u0441\\u0442\\u0430\\u043b\", \"\\u0441\\u0442\\u0430\\u043b\", \"\\u0441\\u0442\\u0430\\u043b\", \"\\u0441\\u0442\\u0440\\u0430\\u043d\", \"\\u0441\\u0442\\u0440\\u0430\\u043d\", \"\\u0441\\u0442\\u0440\\u0430\\u043d\", \"\\u0441\\u0442\\u0440\\u0430\\u043d\", \"\\u0441\\u0442\\u0440\\u0430\\u043d\", \"\\u0441\\u0442\\u0440\\u0430\\u043d\", \"\\u0441\\u0447\\u0438\\u0442\\u0430\", \"\\u0441\\u0447\\u0438\\u0442\\u0430\", \"\\u0442\\u0430\\u043a\", \"\\u0442\\u0430\\u043a\", \"\\u0442\\u0430\\u043a\\u0436\", \"\\u0442\\u0430\\u043a\\u0436\", \"\\u0442\\u0430\\u043a\\u0436\", \"\\u0442\\u0430\\u043a\\u0436\", \"\\u0442\\u0430\\u0441\\u0441\", \"\\u0442\\u0430\\u0441\\u0441\", \"\\u0442\\u044b\\u0441\\u044f\\u0447\", \"\\u0442\\u044f\\u0436\\u0435\\u043b\", \"\\u0442\\u044f\\u0436\\u0435\\u043b\", \"\\u0443\\u043a\\u0440\\u0430\\u0438\\u043d\", \"\\u0445\\u0430\\u043a\\u0435\\u0440\", \"\\u0445\\u0430\\u043a\\u0435\\u0440\", \"\\u0445\\u0430\\u043a\\u0435\\u0440\\u0441\\u043a\", \"\\u0445\\u0430\\u043a\\u0435\\u0440\\u0441\\u043a\", \"\\u0445\\u043e\\u0434\", \"\\u0445\\u043e\\u0434\", \"\\u0447\\u0430\\u0441\\u0442\", \"\\u0447\\u0430\\u0441\\u0442\", \"\\u0447\\u0430\\u0441\\u0442\\u043d\\u043e\\u0441\\u0442\", \"\\u0447\\u0430\\u0441\\u0442\\u043d\\u043e\\u0441\\u0442\", \"\\u0447\\u0435\\u043b\\u043e\\u0432\\u0435\\u043a\", \"\\u0447\\u0438\\u043d\\u043e\\u0432\\u043d\\u0438\\u043a\", \"\\u0447\\u0438\\u043d\\u043e\\u0432\\u043d\\u0438\\u043a\", \"\\u044f\\u043a\\u043e\\u0431\", \"\\u044f\\u043a\\u043e\\u0431\"]}, \"R\": 30, \"lambda.step\": 0.01, \"plot.opts\": {\"xlab\": \"PC1\", \"ylab\": \"PC2\"}, \"topic.order\": [4, 8, 2, 3, 10, 6, 5, 9, 1, 7]};\n",
              "\n",
              "function LDAvis_load_lib(url, callback){\n",
              "  var s = document.createElement('script');\n",
              "  s.src = url;\n",
              "  s.async = true;\n",
              "  s.onreadystatechange = s.onload = callback;\n",
              "  s.onerror = function(){console.warn(\"failed to load library \" + url);};\n",
              "  document.getElementsByTagName(\"head\")[0].appendChild(s);\n",
              "}\n",
              "\n",
              "if(typeof(LDAvis) !== \"undefined\"){\n",
              "   // already loaded: just create the visualization\n",
              "   !function(LDAvis){\n",
              "       new LDAvis(\"#\" + \"ldavis_el32531365409104464961319473751\", ldavis_el32531365409104464961319473751_data);\n",
              "   }(LDAvis);\n",
              "}else if(typeof define === \"function\" && define.amd){\n",
              "   // require.js is available: use it to load d3/LDAvis\n",
              "   require.config({paths: {d3: \"https://d3js.org/d3.v5\"}});\n",
              "   require([\"d3\"], function(d3){\n",
              "      window.d3 = d3;\n",
              "      LDAvis_load_lib(\"https://cdn.jsdelivr.net/gh/bmabey/pyLDAvis@3.4.0/pyLDAvis/js/ldavis.v3.0.0.js\", function(){\n",
              "        new LDAvis(\"#\" + \"ldavis_el32531365409104464961319473751\", ldavis_el32531365409104464961319473751_data);\n",
              "      });\n",
              "    });\n",
              "}else{\n",
              "    // require.js not available: dynamically load d3 & LDAvis\n",
              "    LDAvis_load_lib(\"https://d3js.org/d3.v5.js\", function(){\n",
              "         LDAvis_load_lib(\"https://cdn.jsdelivr.net/gh/bmabey/pyLDAvis@3.4.0/pyLDAvis/js/ldavis.v3.0.0.js\", function(){\n",
              "                 new LDAvis(\"#\" + \"ldavis_el32531365409104464961319473751\", ldavis_el32531365409104464961319473751_data);\n",
              "            })\n",
              "         });\n",
              "}\n",
              "</script>"
            ]
          },
          "metadata": {},
          "execution_count": 77
        }
      ]
    },
    {
      "cell_type": "markdown",
      "metadata": {
        "id": "tx77GJTAjBZ1"
      },
      "source": [
        "Careful: You may need to change the Stemming and the Stopwords to support your corpus language. Make a web-search to find an appropriate ones."
      ]
    },
    {
      "cell_type": "markdown",
      "metadata": {
        "id": "vR4yGoUjeyMD"
      },
      "source": [
        "IMPORTANT NOTE: If your corpuse, like that file example is very large (2.3GB zipped), then please don't load all the text, it will not fit in the memory and will only cause you trouble. Instead, you can just use the first 10 to 20k sentences, or so. For this exercise we just want you to get a hold of the steps and the proces involved in using LDA."
      ]
    },
    {
      "cell_type": "markdown",
      "source": [
        "**Try detecting which num_of_topics fits most for your corpus, by changing the hyperparameters to get a satisfying level of clustering.** Please summarize which parameters worked best for the corpus you chose.\n",
        "\n",
        "# **Summary:**\n",
        "The adjustment of preprocessing parameters significantly impacted the size and composition of the dictionary. The most crucial changes involved reducing the threshold for the minimum document frequency (filter_tokens_if_container_documents_are_less_than) and increasing the threshold for the maximum document frequency (filter_tokens_if_appeared_percentage_more_than). These adjustments helped focus the dictionary on more relevant and informative tokens."
      ],
      "metadata": {
        "id": "eZsND9fRdQ4D"
      }
    }
  ],
  "metadata": {
    "colab": {
      "provenance": [],
      "include_colab_link": true
    },
    "kernelspec": {
      "display_name": "Python 3",
      "name": "python3"
    },
    "language_info": {
      "name": "python"
    }
  },
  "nbformat": 4,
  "nbformat_minor": 0
}